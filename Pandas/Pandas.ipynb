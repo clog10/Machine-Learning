{
 "cells": [
  {
   "cell_type": "markdown",
   "id": "05601cc9",
   "metadata": {},
   "source": [
    "# Pandas"
   ]
  },
  {
   "cell_type": "code",
   "execution_count": 2,
   "id": "fd281f8a",
   "metadata": {},
   "outputs": [],
   "source": [
    "import numpy as np\n",
    "import pandas as pd"
   ]
  },
  {
   "cell_type": "markdown",
   "id": "1cb44658",
   "metadata": {},
   "source": [
    "## Series"
   ]
  },
  {
   "cell_type": "code",
   "execution_count": 4,
   "id": "6d673676",
   "metadata": {},
   "outputs": [
    {
     "data": {
      "text/plain": [
       "a    1\n",
       "b    2\n",
       "c    3\n",
       "dtype: int64"
      ]
     },
     "execution_count": 4,
     "metadata": {},
     "output_type": "execute_result"
    }
   ],
   "source": [
    "label = ['a', 'b', 'c']\n",
    "info = [1, 2, 3]\n",
    "pd.Series(data = info, index = label)"
   ]
  },
  {
   "cell_type": "code",
   "execution_count": 9,
   "id": "f66213c6",
   "metadata": {},
   "outputs": [],
   "source": [
    "array = np.arange(5, 8)\n",
    "labels = ['venta1', 'venta2', 'venta3']\n",
    "serie = pd.Series(array, labels)"
   ]
  },
  {
   "cell_type": "code",
   "execution_count": 10,
   "id": "172be8a7",
   "metadata": {},
   "outputs": [
    {
     "data": {
      "text/plain": [
       "venta1    5\n",
       "venta2    6\n",
       "venta3    7\n",
       "dtype: int32"
      ]
     },
     "execution_count": 10,
     "metadata": {},
     "output_type": "execute_result"
    }
   ],
   "source": [
    "serie"
   ]
  },
  {
   "cell_type": "code",
   "execution_count": 12,
   "id": "12811f09",
   "metadata": {},
   "outputs": [
    {
     "data": {
      "text/plain": [
       "6"
      ]
     },
     "execution_count": 12,
     "metadata": {},
     "output_type": "execute_result"
    }
   ],
   "source": [
    "serie['venta2']"
   ]
  },
  {
   "cell_type": "code",
   "execution_count": 13,
   "id": "cd7b7d97",
   "metadata": {},
   "outputs": [
    {
     "data": {
      "text/plain": [
       "7"
      ]
     },
     "execution_count": 13,
     "metadata": {},
     "output_type": "execute_result"
    }
   ],
   "source": [
    "serie[2]"
   ]
  },
  {
   "cell_type": "code",
   "execution_count": 14,
   "id": "bf020c8b",
   "metadata": {},
   "outputs": [
    {
     "data": {
      "text/plain": [
       "['tech', 500, 'printer', 600, 'a']"
      ]
     },
     "execution_count": 14,
     "metadata": {},
     "output_type": "execute_result"
    }
   ],
   "source": [
    "info2 = ['tech', 500, 'printer', 600, 'a']\n",
    "info2"
   ]
  },
  {
   "cell_type": "code",
   "execution_count": 15,
   "id": "219d2e7b",
   "metadata": {},
   "outputs": [
    {
     "data": {
      "text/plain": [
       "0       tech\n",
       "1        500\n",
       "2    printer\n",
       "3        600\n",
       "4          a\n",
       "dtype: object"
      ]
     },
     "execution_count": 15,
     "metadata": {},
     "output_type": "execute_result"
    }
   ],
   "source": [
    "pd.Series(info2)"
   ]
  },
  {
   "cell_type": "code",
   "execution_count": 18,
   "id": "27d03e95",
   "metadata": {},
   "outputs": [],
   "source": [
    "serie2 = pd.Series([1, 2, 3], ['a', 'b', 'v'])\n",
    "serie3 = pd.Series([4, 5, 6], ['a', 'b', 'v'])"
   ]
  },
  {
   "cell_type": "code",
   "execution_count": 19,
   "id": "f7b56d09",
   "metadata": {},
   "outputs": [],
   "source": [
    "serie_add = serie2 + serie3"
   ]
  },
  {
   "cell_type": "code",
   "execution_count": 20,
   "id": "fff08ce9",
   "metadata": {},
   "outputs": [
    {
     "data": {
      "text/plain": [
       "a    5\n",
       "b    7\n",
       "v    9\n",
       "dtype: int64"
      ]
     },
     "execution_count": 20,
     "metadata": {},
     "output_type": "execute_result"
    }
   ],
   "source": [
    "serie_add"
   ]
  },
  {
   "cell_type": "markdown",
   "id": "f311615c",
   "metadata": {},
   "source": [
    "## DataFrames"
   ]
  },
  {
   "cell_type": "code",
   "execution_count": 21,
   "id": "1b7e06f2",
   "metadata": {},
   "outputs": [],
   "source": [
    "rows = ['sale1', 'sale2', 'sale3']\n",
    "columns = ['ZoneA', 'zoneB', 'zoneC']\n",
    "dat = [[574, 558, 965], [856, 899, 204], [666, 574, 624]]"
   ]
  },
  {
   "cell_type": "code",
   "execution_count": 22,
   "id": "29bb2625",
   "metadata": {},
   "outputs": [],
   "source": [
    "dataframe = pd.DataFrame(dat, rows, columns)"
   ]
  },
  {
   "cell_type": "code",
   "execution_count": 23,
   "id": "4194cf4f",
   "metadata": {},
   "outputs": [
    {
     "data": {
      "text/html": [
       "<div>\n",
       "<style scoped>\n",
       "    .dataframe tbody tr th:only-of-type {\n",
       "        vertical-align: middle;\n",
       "    }\n",
       "\n",
       "    .dataframe tbody tr th {\n",
       "        vertical-align: top;\n",
       "    }\n",
       "\n",
       "    .dataframe thead th {\n",
       "        text-align: right;\n",
       "    }\n",
       "</style>\n",
       "<table border=\"1\" class=\"dataframe\">\n",
       "  <thead>\n",
       "    <tr style=\"text-align: right;\">\n",
       "      <th></th>\n",
       "      <th>ZoneA</th>\n",
       "      <th>zoneB</th>\n",
       "      <th>zoneC</th>\n",
       "    </tr>\n",
       "  </thead>\n",
       "  <tbody>\n",
       "    <tr>\n",
       "      <th>sale1</th>\n",
       "      <td>574</td>\n",
       "      <td>558</td>\n",
       "      <td>965</td>\n",
       "    </tr>\n",
       "    <tr>\n",
       "      <th>sale2</th>\n",
       "      <td>856</td>\n",
       "      <td>899</td>\n",
       "      <td>204</td>\n",
       "    </tr>\n",
       "    <tr>\n",
       "      <th>sale3</th>\n",
       "      <td>666</td>\n",
       "      <td>574</td>\n",
       "      <td>624</td>\n",
       "    </tr>\n",
       "  </tbody>\n",
       "</table>\n",
       "</div>"
      ],
      "text/plain": [
       "       ZoneA  zoneB  zoneC\n",
       "sale1    574    558    965\n",
       "sale2    856    899    204\n",
       "sale3    666    574    624"
      ]
     },
     "execution_count": 23,
     "metadata": {},
     "output_type": "execute_result"
    }
   ],
   "source": [
    "dataframe"
   ]
  },
  {
   "cell_type": "code",
   "execution_count": 24,
   "id": "cfc1de53",
   "metadata": {},
   "outputs": [
    {
     "data": {
      "text/plain": [
       "ZoneA    856\n",
       "zoneB    899\n",
       "zoneC    204\n",
       "Name: sale2, dtype: int64"
      ]
     },
     "execution_count": 24,
     "metadata": {},
     "output_type": "execute_result"
    }
   ],
   "source": [
    "dataframe.loc['sale2']"
   ]
  },
  {
   "cell_type": "code",
   "execution_count": 27,
   "id": "6c98efeb",
   "metadata": {},
   "outputs": [
    {
     "data": {
      "text/html": [
       "<div>\n",
       "<style scoped>\n",
       "    .dataframe tbody tr th:only-of-type {\n",
       "        vertical-align: middle;\n",
       "    }\n",
       "\n",
       "    .dataframe tbody tr th {\n",
       "        vertical-align: top;\n",
       "    }\n",
       "\n",
       "    .dataframe thead th {\n",
       "        text-align: right;\n",
       "    }\n",
       "</style>\n",
       "<table border=\"1\" class=\"dataframe\">\n",
       "  <thead>\n",
       "    <tr style=\"text-align: right;\">\n",
       "      <th></th>\n",
       "      <th>ZoneA</th>\n",
       "      <th>zoneB</th>\n",
       "      <th>zoneC</th>\n",
       "    </tr>\n",
       "  </thead>\n",
       "  <tbody>\n",
       "    <tr>\n",
       "      <th>sale1</th>\n",
       "      <td>574</td>\n",
       "      <td>558</td>\n",
       "      <td>965</td>\n",
       "    </tr>\n",
       "    <tr>\n",
       "      <th>sale3</th>\n",
       "      <td>666</td>\n",
       "      <td>574</td>\n",
       "      <td>624</td>\n",
       "    </tr>\n",
       "  </tbody>\n",
       "</table>\n",
       "</div>"
      ],
      "text/plain": [
       "       ZoneA  zoneB  zoneC\n",
       "sale1    574    558    965\n",
       "sale3    666    574    624"
      ]
     },
     "execution_count": 27,
     "metadata": {},
     "output_type": "execute_result"
    }
   ],
   "source": [
    "dataframe.loc[['sale1', 'sale3']]"
   ]
  },
  {
   "cell_type": "code",
   "execution_count": 30,
   "id": "1af6afe0",
   "metadata": {},
   "outputs": [
    {
     "data": {
      "text/plain": [
       "sale1    574\n",
       "sale2    856\n",
       "sale3    666\n",
       "Name: ZoneA, dtype: int64"
      ]
     },
     "execution_count": 30,
     "metadata": {},
     "output_type": "execute_result"
    }
   ],
   "source": [
    "dataframe['ZoneA']"
   ]
  },
  {
   "cell_type": "code",
   "execution_count": 31,
   "id": "e7bee292",
   "metadata": {},
   "outputs": [
    {
     "data": {
      "text/plain": [
       "574"
      ]
     },
     "execution_count": 31,
     "metadata": {},
     "output_type": "execute_result"
    }
   ],
   "source": [
    "dataframe.loc['sale1']['ZoneA']"
   ]
  },
  {
   "cell_type": "code",
   "execution_count": 32,
   "id": "ec24ddd3",
   "metadata": {},
   "outputs": [],
   "source": [
    "dataframe['total_sales'] = dataframe['ZoneA'] + dataframe['zoneB'] + dataframe['zoneC']"
   ]
  },
  {
   "cell_type": "code",
   "execution_count": 33,
   "id": "2a259cab",
   "metadata": {},
   "outputs": [
    {
     "data": {
      "text/html": [
       "<div>\n",
       "<style scoped>\n",
       "    .dataframe tbody tr th:only-of-type {\n",
       "        vertical-align: middle;\n",
       "    }\n",
       "\n",
       "    .dataframe tbody tr th {\n",
       "        vertical-align: top;\n",
       "    }\n",
       "\n",
       "    .dataframe thead th {\n",
       "        text-align: right;\n",
       "    }\n",
       "</style>\n",
       "<table border=\"1\" class=\"dataframe\">\n",
       "  <thead>\n",
       "    <tr style=\"text-align: right;\">\n",
       "      <th></th>\n",
       "      <th>ZoneA</th>\n",
       "      <th>zoneB</th>\n",
       "      <th>zoneC</th>\n",
       "      <th>total_sales</th>\n",
       "    </tr>\n",
       "  </thead>\n",
       "  <tbody>\n",
       "    <tr>\n",
       "      <th>sale1</th>\n",
       "      <td>574</td>\n",
       "      <td>558</td>\n",
       "      <td>965</td>\n",
       "      <td>2097</td>\n",
       "    </tr>\n",
       "    <tr>\n",
       "      <th>sale2</th>\n",
       "      <td>856</td>\n",
       "      <td>899</td>\n",
       "      <td>204</td>\n",
       "      <td>1959</td>\n",
       "    </tr>\n",
       "    <tr>\n",
       "      <th>sale3</th>\n",
       "      <td>666</td>\n",
       "      <td>574</td>\n",
       "      <td>624</td>\n",
       "      <td>1864</td>\n",
       "    </tr>\n",
       "  </tbody>\n",
       "</table>\n",
       "</div>"
      ],
      "text/plain": [
       "       ZoneA  zoneB  zoneC  total_sales\n",
       "sale1    574    558    965         2097\n",
       "sale2    856    899    204         1959\n",
       "sale3    666    574    624         1864"
      ]
     },
     "execution_count": 33,
     "metadata": {},
     "output_type": "execute_result"
    }
   ],
   "source": [
    "dataframe"
   ]
  },
  {
   "cell_type": "code",
   "execution_count": 36,
   "id": "4991fbb0",
   "metadata": {},
   "outputs": [
    {
     "data": {
      "text/html": [
       "<div>\n",
       "<style scoped>\n",
       "    .dataframe tbody tr th:only-of-type {\n",
       "        vertical-align: middle;\n",
       "    }\n",
       "\n",
       "    .dataframe tbody tr th {\n",
       "        vertical-align: top;\n",
       "    }\n",
       "\n",
       "    .dataframe thead th {\n",
       "        text-align: right;\n",
       "    }\n",
       "</style>\n",
       "<table border=\"1\" class=\"dataframe\">\n",
       "  <thead>\n",
       "    <tr style=\"text-align: right;\">\n",
       "      <th></th>\n",
       "      <th>ZoneA</th>\n",
       "      <th>zoneB</th>\n",
       "      <th>zoneC</th>\n",
       "    </tr>\n",
       "  </thead>\n",
       "  <tbody>\n",
       "    <tr>\n",
       "      <th>sale1</th>\n",
       "      <td>574</td>\n",
       "      <td>558</td>\n",
       "      <td>965</td>\n",
       "    </tr>\n",
       "    <tr>\n",
       "      <th>sale2</th>\n",
       "      <td>856</td>\n",
       "      <td>899</td>\n",
       "      <td>204</td>\n",
       "    </tr>\n",
       "    <tr>\n",
       "      <th>sale3</th>\n",
       "      <td>666</td>\n",
       "      <td>574</td>\n",
       "      <td>624</td>\n",
       "    </tr>\n",
       "  </tbody>\n",
       "</table>\n",
       "</div>"
      ],
      "text/plain": [
       "       ZoneA  zoneB  zoneC\n",
       "sale1    574    558    965\n",
       "sale2    856    899    204\n",
       "sale3    666    574    624"
      ]
     },
     "execution_count": 36,
     "metadata": {},
     "output_type": "execute_result"
    }
   ],
   "source": [
    "dataframe.drop('total_sales', axis = 1)"
   ]
  },
  {
   "cell_type": "code",
   "execution_count": 37,
   "id": "fea02ecf",
   "metadata": {},
   "outputs": [
    {
     "data": {
      "text/html": [
       "<div>\n",
       "<style scoped>\n",
       "    .dataframe tbody tr th:only-of-type {\n",
       "        vertical-align: middle;\n",
       "    }\n",
       "\n",
       "    .dataframe tbody tr th {\n",
       "        vertical-align: top;\n",
       "    }\n",
       "\n",
       "    .dataframe thead th {\n",
       "        text-align: right;\n",
       "    }\n",
       "</style>\n",
       "<table border=\"1\" class=\"dataframe\">\n",
       "  <thead>\n",
       "    <tr style=\"text-align: right;\">\n",
       "      <th></th>\n",
       "      <th>ZoneA</th>\n",
       "      <th>zoneB</th>\n",
       "      <th>zoneC</th>\n",
       "      <th>total_sales</th>\n",
       "    </tr>\n",
       "  </thead>\n",
       "  <tbody>\n",
       "    <tr>\n",
       "      <th>sale1</th>\n",
       "      <td>574</td>\n",
       "      <td>558</td>\n",
       "      <td>965</td>\n",
       "      <td>2097</td>\n",
       "    </tr>\n",
       "    <tr>\n",
       "      <th>sale2</th>\n",
       "      <td>856</td>\n",
       "      <td>899</td>\n",
       "      <td>204</td>\n",
       "      <td>1959</td>\n",
       "    </tr>\n",
       "    <tr>\n",
       "      <th>sale3</th>\n",
       "      <td>666</td>\n",
       "      <td>574</td>\n",
       "      <td>624</td>\n",
       "      <td>1864</td>\n",
       "    </tr>\n",
       "  </tbody>\n",
       "</table>\n",
       "</div>"
      ],
      "text/plain": [
       "       ZoneA  zoneB  zoneC  total_sales\n",
       "sale1    574    558    965         2097\n",
       "sale2    856    899    204         1959\n",
       "sale3    666    574    624         1864"
      ]
     },
     "execution_count": 37,
     "metadata": {},
     "output_type": "execute_result"
    }
   ],
   "source": [
    "dataframe"
   ]
  },
  {
   "cell_type": "code",
   "execution_count": 38,
   "id": "69fec6f0",
   "metadata": {},
   "outputs": [],
   "source": [
    "dataframe.drop('total_sales', axis = 1, inplace = True)"
   ]
  },
  {
   "cell_type": "code",
   "execution_count": 39,
   "id": "b083665f",
   "metadata": {},
   "outputs": [
    {
     "data": {
      "text/html": [
       "<div>\n",
       "<style scoped>\n",
       "    .dataframe tbody tr th:only-of-type {\n",
       "        vertical-align: middle;\n",
       "    }\n",
       "\n",
       "    .dataframe tbody tr th {\n",
       "        vertical-align: top;\n",
       "    }\n",
       "\n",
       "    .dataframe thead th {\n",
       "        text-align: right;\n",
       "    }\n",
       "</style>\n",
       "<table border=\"1\" class=\"dataframe\">\n",
       "  <thead>\n",
       "    <tr style=\"text-align: right;\">\n",
       "      <th></th>\n",
       "      <th>ZoneA</th>\n",
       "      <th>zoneB</th>\n",
       "      <th>zoneC</th>\n",
       "    </tr>\n",
       "  </thead>\n",
       "  <tbody>\n",
       "    <tr>\n",
       "      <th>sale1</th>\n",
       "      <td>574</td>\n",
       "      <td>558</td>\n",
       "      <td>965</td>\n",
       "    </tr>\n",
       "    <tr>\n",
       "      <th>sale2</th>\n",
       "      <td>856</td>\n",
       "      <td>899</td>\n",
       "      <td>204</td>\n",
       "    </tr>\n",
       "    <tr>\n",
       "      <th>sale3</th>\n",
       "      <td>666</td>\n",
       "      <td>574</td>\n",
       "      <td>624</td>\n",
       "    </tr>\n",
       "  </tbody>\n",
       "</table>\n",
       "</div>"
      ],
      "text/plain": [
       "       ZoneA  zoneB  zoneC\n",
       "sale1    574    558    965\n",
       "sale2    856    899    204\n",
       "sale3    666    574    624"
      ]
     },
     "execution_count": 39,
     "metadata": {},
     "output_type": "execute_result"
    }
   ],
   "source": [
    "dataframe"
   ]
  },
  {
   "cell_type": "code",
   "execution_count": 40,
   "id": "52331f8a",
   "metadata": {},
   "outputs": [
    {
     "data": {
      "text/html": [
       "<div>\n",
       "<style scoped>\n",
       "    .dataframe tbody tr th:only-of-type {\n",
       "        vertical-align: middle;\n",
       "    }\n",
       "\n",
       "    .dataframe tbody tr th {\n",
       "        vertical-align: top;\n",
       "    }\n",
       "\n",
       "    .dataframe thead th {\n",
       "        text-align: right;\n",
       "    }\n",
       "</style>\n",
       "<table border=\"1\" class=\"dataframe\">\n",
       "  <thead>\n",
       "    <tr style=\"text-align: right;\">\n",
       "      <th></th>\n",
       "      <th>ZoneA</th>\n",
       "      <th>zoneB</th>\n",
       "      <th>zoneC</th>\n",
       "    </tr>\n",
       "  </thead>\n",
       "  <tbody>\n",
       "    <tr>\n",
       "      <th>sale1</th>\n",
       "      <td>574</td>\n",
       "      <td>558</td>\n",
       "      <td>965</td>\n",
       "    </tr>\n",
       "    <tr>\n",
       "      <th>sale2</th>\n",
       "      <td>856</td>\n",
       "      <td>899</td>\n",
       "      <td>204</td>\n",
       "    </tr>\n",
       "  </tbody>\n",
       "</table>\n",
       "</div>"
      ],
      "text/plain": [
       "       ZoneA  zoneB  zoneC\n",
       "sale1    574    558    965\n",
       "sale2    856    899    204"
      ]
     },
     "execution_count": 40,
     "metadata": {},
     "output_type": "execute_result"
    }
   ],
   "source": [
    "dataframe.drop('sale3')"
   ]
  },
  {
   "cell_type": "code",
   "execution_count": 41,
   "id": "bb48b882",
   "metadata": {},
   "outputs": [
    {
     "data": {
      "text/html": [
       "<div>\n",
       "<style scoped>\n",
       "    .dataframe tbody tr th:only-of-type {\n",
       "        vertical-align: middle;\n",
       "    }\n",
       "\n",
       "    .dataframe tbody tr th {\n",
       "        vertical-align: top;\n",
       "    }\n",
       "\n",
       "    .dataframe thead th {\n",
       "        text-align: right;\n",
       "    }\n",
       "</style>\n",
       "<table border=\"1\" class=\"dataframe\">\n",
       "  <thead>\n",
       "    <tr style=\"text-align: right;\">\n",
       "      <th></th>\n",
       "      <th>ZoneA</th>\n",
       "      <th>zoneB</th>\n",
       "      <th>zoneC</th>\n",
       "    </tr>\n",
       "  </thead>\n",
       "  <tbody>\n",
       "    <tr>\n",
       "      <th>sale1</th>\n",
       "      <td>574</td>\n",
       "      <td>558</td>\n",
       "      <td>965</td>\n",
       "    </tr>\n",
       "    <tr>\n",
       "      <th>sale2</th>\n",
       "      <td>856</td>\n",
       "      <td>899</td>\n",
       "      <td>204</td>\n",
       "    </tr>\n",
       "    <tr>\n",
       "      <th>sale3</th>\n",
       "      <td>666</td>\n",
       "      <td>574</td>\n",
       "      <td>624</td>\n",
       "    </tr>\n",
       "  </tbody>\n",
       "</table>\n",
       "</div>"
      ],
      "text/plain": [
       "       ZoneA  zoneB  zoneC\n",
       "sale1    574    558    965\n",
       "sale2    856    899    204\n",
       "sale3    666    574    624"
      ]
     },
     "execution_count": 41,
     "metadata": {},
     "output_type": "execute_result"
    }
   ],
   "source": [
    "dataframe"
   ]
  },
  {
   "cell_type": "code",
   "execution_count": 42,
   "id": "f8f836a7",
   "metadata": {},
   "outputs": [],
   "source": [
    "dataframe.drop('sale3', inplace = True)"
   ]
  },
  {
   "cell_type": "code",
   "execution_count": 43,
   "id": "52d7fd28",
   "metadata": {},
   "outputs": [
    {
     "data": {
      "text/html": [
       "<div>\n",
       "<style scoped>\n",
       "    .dataframe tbody tr th:only-of-type {\n",
       "        vertical-align: middle;\n",
       "    }\n",
       "\n",
       "    .dataframe tbody tr th {\n",
       "        vertical-align: top;\n",
       "    }\n",
       "\n",
       "    .dataframe thead th {\n",
       "        text-align: right;\n",
       "    }\n",
       "</style>\n",
       "<table border=\"1\" class=\"dataframe\">\n",
       "  <thead>\n",
       "    <tr style=\"text-align: right;\">\n",
       "      <th></th>\n",
       "      <th>ZoneA</th>\n",
       "      <th>zoneB</th>\n",
       "      <th>zoneC</th>\n",
       "    </tr>\n",
       "  </thead>\n",
       "  <tbody>\n",
       "    <tr>\n",
       "      <th>sale1</th>\n",
       "      <td>574</td>\n",
       "      <td>558</td>\n",
       "      <td>965</td>\n",
       "    </tr>\n",
       "    <tr>\n",
       "      <th>sale2</th>\n",
       "      <td>856</td>\n",
       "      <td>899</td>\n",
       "      <td>204</td>\n",
       "    </tr>\n",
       "  </tbody>\n",
       "</table>\n",
       "</div>"
      ],
      "text/plain": [
       "       ZoneA  zoneB  zoneC\n",
       "sale1    574    558    965\n",
       "sale2    856    899    204"
      ]
     },
     "execution_count": 43,
     "metadata": {},
     "output_type": "execute_result"
    }
   ],
   "source": [
    "dataframe"
   ]
  },
  {
   "cell_type": "code",
   "execution_count": 44,
   "id": "4e16c710",
   "metadata": {},
   "outputs": [
    {
     "data": {
      "text/plain": [
       "(2, 3)"
      ]
     },
     "execution_count": 44,
     "metadata": {},
     "output_type": "execute_result"
    }
   ],
   "source": [
    "dataframe.shape"
   ]
  },
  {
   "cell_type": "code",
   "execution_count": null,
   "id": "fe798dcc",
   "metadata": {},
   "outputs": [],
   "source": []
  },
  {
   "cell_type": "code",
   "execution_count": null,
   "id": "99d8ce20",
   "metadata": {},
   "outputs": [],
   "source": []
  }
 ],
 "metadata": {
  "kernelspec": {
   "display_name": "Python 3 (ipykernel)",
   "language": "python",
   "name": "python3"
  },
  "language_info": {
   "codemirror_mode": {
    "name": "ipython",
    "version": 3
   },
   "file_extension": ".py",
   "mimetype": "text/x-python",
   "name": "python",
   "nbconvert_exporter": "python",
   "pygments_lexer": "ipython3",
   "version": "3.11.4"
  }
 },
 "nbformat": 4,
 "nbformat_minor": 5
}
