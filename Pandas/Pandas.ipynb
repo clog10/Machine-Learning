{
 "cells": [
  {
   "cell_type": "markdown",
   "id": "59009fe8",
   "metadata": {},
   "source": [
    "# Pandas"
   ]
  },
  {
   "cell_type": "code",
   "execution_count": 1,
   "id": "22de4e2b",
   "metadata": {},
   "outputs": [],
   "source": [
    "import numpy as np\n",
    "import pandas as pd"
   ]
  },
  {
   "cell_type": "markdown",
   "id": "3fa69b00",
   "metadata": {},
   "source": [
    "## Series"
   ]
  },
  {
   "cell_type": "code",
   "execution_count": 4,
   "id": "9e47bf85",
   "metadata": {},
   "outputs": [
    {
     "data": {
      "text/plain": [
       "a    1\n",
       "b    2\n",
       "c    3\n",
       "dtype: int64"
      ]
     },
     "execution_count": 4,
     "metadata": {},
     "output_type": "execute_result"
    }
   ],
   "source": [
    "label = ['a', 'b', 'c']\n",
    "info = [1, 2, 3]\n",
    "pd.Series(data = info, index = label)"
   ]
  },
  {
   "cell_type": "code",
   "execution_count": 9,
   "id": "b7d18cf7",
   "metadata": {},
   "outputs": [],
   "source": [
    "array = np.arange(5, 8)\n",
    "labels = ['venta1', 'venta2', 'venta3']\n",
    "serie = pd.Series(array, labels)"
   ]
  },
  {
   "cell_type": "code",
   "execution_count": 10,
   "id": "ccb79eae",
   "metadata": {},
   "outputs": [
    {
     "data": {
      "text/plain": [
       "venta1    5\n",
       "venta2    6\n",
       "venta3    7\n",
       "dtype: int32"
      ]
     },
     "execution_count": 10,
     "metadata": {},
     "output_type": "execute_result"
    }
   ],
   "source": [
    "serie"
   ]
  },
  {
   "cell_type": "code",
   "execution_count": 12,
   "id": "46d2f353",
   "metadata": {},
   "outputs": [
    {
     "data": {
      "text/plain": [
       "6"
      ]
     },
     "execution_count": 12,
     "metadata": {},
     "output_type": "execute_result"
    }
   ],
   "source": [
    "serie['venta2']"
   ]
  },
  {
   "cell_type": "code",
   "execution_count": 13,
   "id": "43a35290",
   "metadata": {},
   "outputs": [
    {
     "data": {
      "text/plain": [
       "7"
      ]
     },
     "execution_count": 13,
     "metadata": {},
     "output_type": "execute_result"
    }
   ],
   "source": [
    "serie[2]"
   ]
  },
  {
   "cell_type": "code",
   "execution_count": 14,
   "id": "6bb92a85",
   "metadata": {},
   "outputs": [
    {
     "data": {
      "text/plain": [
       "['tech', 500, 'printer', 600, 'a']"
      ]
     },
     "execution_count": 14,
     "metadata": {},
     "output_type": "execute_result"
    }
   ],
   "source": [
    "info2 = ['tech', 500, 'printer', 600, 'a']\n",
    "info2"
   ]
  },
  {
   "cell_type": "code",
   "execution_count": 15,
   "id": "ebd499f1",
   "metadata": {},
   "outputs": [
    {
     "data": {
      "text/plain": [
       "0       tech\n",
       "1        500\n",
       "2    printer\n",
       "3        600\n",
       "4          a\n",
       "dtype: object"
      ]
     },
     "execution_count": 15,
     "metadata": {},
     "output_type": "execute_result"
    }
   ],
   "source": [
    "pd.Series(info2)"
   ]
  },
  {
   "cell_type": "code",
   "execution_count": 18,
   "id": "e85e20ce",
   "metadata": {},
   "outputs": [],
   "source": [
    "serie2 = pd.Series([1, 2, 3], ['a', 'b', 'v'])\n",
    "serie3 = pd.Series([4, 5, 6], ['a', 'b', 'v'])"
   ]
  },
  {
   "cell_type": "code",
   "execution_count": 19,
   "id": "a285dffb",
   "metadata": {},
   "outputs": [],
   "source": [
    "serie_add = serie2 + serie3"
   ]
  },
  {
   "cell_type": "code",
   "execution_count": 20,
   "id": "34459dd9",
   "metadata": {},
   "outputs": [
    {
     "data": {
      "text/plain": [
       "a    5\n",
       "b    7\n",
       "v    9\n",
       "dtype: int64"
      ]
     },
     "execution_count": 20,
     "metadata": {},
     "output_type": "execute_result"
    }
   ],
   "source": [
    "serie_add"
   ]
  },
  {
   "cell_type": "markdown",
   "id": "cbc52c5b",
   "metadata": {},
   "source": [
    "## DataFrames"
   ]
  },
  {
   "cell_type": "code",
   "execution_count": 21,
   "id": "150c22b6",
   "metadata": {},
   "outputs": [],
   "source": [
    "rows = ['sale1', 'sale2', 'sale3']\n",
    "columns = ['ZoneA', 'zoneB', 'zoneC']\n",
    "dat = [[574, 558, 965], [856, 899, 204], [666, 574, 624]]"
   ]
  },
  {
   "cell_type": "code",
   "execution_count": 22,
   "id": "18f822ee",
   "metadata": {},
   "outputs": [],
   "source": [
    "dataframe = pd.DataFrame(dat, rows, columns)"
   ]
  },
  {
   "cell_type": "code",
   "execution_count": 23,
   "id": "7e556735",
   "metadata": {},
   "outputs": [
    {
     "data": {
      "text/html": [
       "<div>\n",
       "<style scoped>\n",
       "    .dataframe tbody tr th:only-of-type {\n",
       "        vertical-align: middle;\n",
       "    }\n",
       "\n",
       "    .dataframe tbody tr th {\n",
       "        vertical-align: top;\n",
       "    }\n",
       "\n",
       "    .dataframe thead th {\n",
       "        text-align: right;\n",
       "    }\n",
       "</style>\n",
       "<table border=\"1\" class=\"dataframe\">\n",
       "  <thead>\n",
       "    <tr style=\"text-align: right;\">\n",
       "      <th></th>\n",
       "      <th>ZoneA</th>\n",
       "      <th>zoneB</th>\n",
       "      <th>zoneC</th>\n",
       "    </tr>\n",
       "  </thead>\n",
       "  <tbody>\n",
       "    <tr>\n",
       "      <th>sale1</th>\n",
       "      <td>574</td>\n",
       "      <td>558</td>\n",
       "      <td>965</td>\n",
       "    </tr>\n",
       "    <tr>\n",
       "      <th>sale2</th>\n",
       "      <td>856</td>\n",
       "      <td>899</td>\n",
       "      <td>204</td>\n",
       "    </tr>\n",
       "    <tr>\n",
       "      <th>sale3</th>\n",
       "      <td>666</td>\n",
       "      <td>574</td>\n",
       "      <td>624</td>\n",
       "    </tr>\n",
       "  </tbody>\n",
       "</table>\n",
       "</div>"
      ],
      "text/plain": [
       "       ZoneA  zoneB  zoneC\n",
       "sale1    574    558    965\n",
       "sale2    856    899    204\n",
       "sale3    666    574    624"
      ]
     },
     "execution_count": 23,
     "metadata": {},
     "output_type": "execute_result"
    }
   ],
   "source": [
    "dataframe"
   ]
  },
  {
   "cell_type": "code",
   "execution_count": 24,
   "id": "2c6f127b",
   "metadata": {},
   "outputs": [
    {
     "data": {
      "text/plain": [
       "ZoneA    856\n",
       "zoneB    899\n",
       "zoneC    204\n",
       "Name: sale2, dtype: int64"
      ]
     },
     "execution_count": 24,
     "metadata": {},
     "output_type": "execute_result"
    }
   ],
   "source": [
    "dataframe.loc['sale2']"
   ]
  },
  {
   "cell_type": "code",
   "execution_count": 27,
   "id": "a1573091",
   "metadata": {},
   "outputs": [
    {
     "data": {
      "text/html": [
       "<div>\n",
       "<style scoped>\n",
       "    .dataframe tbody tr th:only-of-type {\n",
       "        vertical-align: middle;\n",
       "    }\n",
       "\n",
       "    .dataframe tbody tr th {\n",
       "        vertical-align: top;\n",
       "    }\n",
       "\n",
       "    .dataframe thead th {\n",
       "        text-align: right;\n",
       "    }\n",
       "</style>\n",
       "<table border=\"1\" class=\"dataframe\">\n",
       "  <thead>\n",
       "    <tr style=\"text-align: right;\">\n",
       "      <th></th>\n",
       "      <th>ZoneA</th>\n",
       "      <th>zoneB</th>\n",
       "      <th>zoneC</th>\n",
       "    </tr>\n",
       "  </thead>\n",
       "  <tbody>\n",
       "    <tr>\n",
       "      <th>sale1</th>\n",
       "      <td>574</td>\n",
       "      <td>558</td>\n",
       "      <td>965</td>\n",
       "    </tr>\n",
       "    <tr>\n",
       "      <th>sale3</th>\n",
       "      <td>666</td>\n",
       "      <td>574</td>\n",
       "      <td>624</td>\n",
       "    </tr>\n",
       "  </tbody>\n",
       "</table>\n",
       "</div>"
      ],
      "text/plain": [
       "       ZoneA  zoneB  zoneC\n",
       "sale1    574    558    965\n",
       "sale3    666    574    624"
      ]
     },
     "execution_count": 27,
     "metadata": {},
     "output_type": "execute_result"
    }
   ],
   "source": [
    "dataframe.loc[['sale1', 'sale3']]"
   ]
  },
  {
   "cell_type": "code",
   "execution_count": 30,
   "id": "fb60025b",
   "metadata": {},
   "outputs": [
    {
     "data": {
      "text/plain": [
       "sale1    574\n",
       "sale2    856\n",
       "sale3    666\n",
       "Name: ZoneA, dtype: int64"
      ]
     },
     "execution_count": 30,
     "metadata": {},
     "output_type": "execute_result"
    }
   ],
   "source": [
    "dataframe['ZoneA']"
   ]
  },
  {
   "cell_type": "code",
   "execution_count": 31,
   "id": "546dae11",
   "metadata": {},
   "outputs": [
    {
     "data": {
      "text/plain": [
       "574"
      ]
     },
     "execution_count": 31,
     "metadata": {},
     "output_type": "execute_result"
    }
   ],
   "source": [
    "dataframe.loc['sale1']['ZoneA']"
   ]
  },
  {
   "cell_type": "code",
   "execution_count": 32,
   "id": "dfc39808",
   "metadata": {},
   "outputs": [],
   "source": [
    "dataframe['total_sales'] = dataframe['ZoneA'] + dataframe['zoneB'] + dataframe['zoneC']"
   ]
  },
  {
   "cell_type": "code",
   "execution_count": 33,
   "id": "61d08a48",
   "metadata": {},
   "outputs": [
    {
     "data": {
      "text/html": [
       "<div>\n",
       "<style scoped>\n",
       "    .dataframe tbody tr th:only-of-type {\n",
       "        vertical-align: middle;\n",
       "    }\n",
       "\n",
       "    .dataframe tbody tr th {\n",
       "        vertical-align: top;\n",
       "    }\n",
       "\n",
       "    .dataframe thead th {\n",
       "        text-align: right;\n",
       "    }\n",
       "</style>\n",
       "<table border=\"1\" class=\"dataframe\">\n",
       "  <thead>\n",
       "    <tr style=\"text-align: right;\">\n",
       "      <th></th>\n",
       "      <th>ZoneA</th>\n",
       "      <th>zoneB</th>\n",
       "      <th>zoneC</th>\n",
       "      <th>total_sales</th>\n",
       "    </tr>\n",
       "  </thead>\n",
       "  <tbody>\n",
       "    <tr>\n",
       "      <th>sale1</th>\n",
       "      <td>574</td>\n",
       "      <td>558</td>\n",
       "      <td>965</td>\n",
       "      <td>2097</td>\n",
       "    </tr>\n",
       "    <tr>\n",
       "      <th>sale2</th>\n",
       "      <td>856</td>\n",
       "      <td>899</td>\n",
       "      <td>204</td>\n",
       "      <td>1959</td>\n",
       "    </tr>\n",
       "    <tr>\n",
       "      <th>sale3</th>\n",
       "      <td>666</td>\n",
       "      <td>574</td>\n",
       "      <td>624</td>\n",
       "      <td>1864</td>\n",
       "    </tr>\n",
       "  </tbody>\n",
       "</table>\n",
       "</div>"
      ],
      "text/plain": [
       "       ZoneA  zoneB  zoneC  total_sales\n",
       "sale1    574    558    965         2097\n",
       "sale2    856    899    204         1959\n",
       "sale3    666    574    624         1864"
      ]
     },
     "execution_count": 33,
     "metadata": {},
     "output_type": "execute_result"
    }
   ],
   "source": [
    "dataframe"
   ]
  },
  {
   "cell_type": "code",
   "execution_count": 36,
   "id": "f4e6c160",
   "metadata": {},
   "outputs": [
    {
     "data": {
      "text/html": [
       "<div>\n",
       "<style scoped>\n",
       "    .dataframe tbody tr th:only-of-type {\n",
       "        vertical-align: middle;\n",
       "    }\n",
       "\n",
       "    .dataframe tbody tr th {\n",
       "        vertical-align: top;\n",
       "    }\n",
       "\n",
       "    .dataframe thead th {\n",
       "        text-align: right;\n",
       "    }\n",
       "</style>\n",
       "<table border=\"1\" class=\"dataframe\">\n",
       "  <thead>\n",
       "    <tr style=\"text-align: right;\">\n",
       "      <th></th>\n",
       "      <th>ZoneA</th>\n",
       "      <th>zoneB</th>\n",
       "      <th>zoneC</th>\n",
       "    </tr>\n",
       "  </thead>\n",
       "  <tbody>\n",
       "    <tr>\n",
       "      <th>sale1</th>\n",
       "      <td>574</td>\n",
       "      <td>558</td>\n",
       "      <td>965</td>\n",
       "    </tr>\n",
       "    <tr>\n",
       "      <th>sale2</th>\n",
       "      <td>856</td>\n",
       "      <td>899</td>\n",
       "      <td>204</td>\n",
       "    </tr>\n",
       "    <tr>\n",
       "      <th>sale3</th>\n",
       "      <td>666</td>\n",
       "      <td>574</td>\n",
       "      <td>624</td>\n",
       "    </tr>\n",
       "  </tbody>\n",
       "</table>\n",
       "</div>"
      ],
      "text/plain": [
       "       ZoneA  zoneB  zoneC\n",
       "sale1    574    558    965\n",
       "sale2    856    899    204\n",
       "sale3    666    574    624"
      ]
     },
     "execution_count": 36,
     "metadata": {},
     "output_type": "execute_result"
    }
   ],
   "source": [
    "dataframe.drop('total_sales', axis = 1)"
   ]
  },
  {
   "cell_type": "code",
   "execution_count": 37,
   "id": "12a8b0a7",
   "metadata": {},
   "outputs": [
    {
     "data": {
      "text/html": [
       "<div>\n",
       "<style scoped>\n",
       "    .dataframe tbody tr th:only-of-type {\n",
       "        vertical-align: middle;\n",
       "    }\n",
       "\n",
       "    .dataframe tbody tr th {\n",
       "        vertical-align: top;\n",
       "    }\n",
       "\n",
       "    .dataframe thead th {\n",
       "        text-align: right;\n",
       "    }\n",
       "</style>\n",
       "<table border=\"1\" class=\"dataframe\">\n",
       "  <thead>\n",
       "    <tr style=\"text-align: right;\">\n",
       "      <th></th>\n",
       "      <th>ZoneA</th>\n",
       "      <th>zoneB</th>\n",
       "      <th>zoneC</th>\n",
       "      <th>total_sales</th>\n",
       "    </tr>\n",
       "  </thead>\n",
       "  <tbody>\n",
       "    <tr>\n",
       "      <th>sale1</th>\n",
       "      <td>574</td>\n",
       "      <td>558</td>\n",
       "      <td>965</td>\n",
       "      <td>2097</td>\n",
       "    </tr>\n",
       "    <tr>\n",
       "      <th>sale2</th>\n",
       "      <td>856</td>\n",
       "      <td>899</td>\n",
       "      <td>204</td>\n",
       "      <td>1959</td>\n",
       "    </tr>\n",
       "    <tr>\n",
       "      <th>sale3</th>\n",
       "      <td>666</td>\n",
       "      <td>574</td>\n",
       "      <td>624</td>\n",
       "      <td>1864</td>\n",
       "    </tr>\n",
       "  </tbody>\n",
       "</table>\n",
       "</div>"
      ],
      "text/plain": [
       "       ZoneA  zoneB  zoneC  total_sales\n",
       "sale1    574    558    965         2097\n",
       "sale2    856    899    204         1959\n",
       "sale3    666    574    624         1864"
      ]
     },
     "execution_count": 37,
     "metadata": {},
     "output_type": "execute_result"
    }
   ],
   "source": [
    "dataframe"
   ]
  },
  {
   "cell_type": "code",
   "execution_count": 38,
   "id": "3ae2b3ba",
   "metadata": {},
   "outputs": [],
   "source": [
    "dataframe.drop('total_sales', axis = 1, inplace = True)"
   ]
  },
  {
   "cell_type": "code",
   "execution_count": 39,
   "id": "8b7d3986",
   "metadata": {},
   "outputs": [
    {
     "data": {
      "text/html": [
       "<div>\n",
       "<style scoped>\n",
       "    .dataframe tbody tr th:only-of-type {\n",
       "        vertical-align: middle;\n",
       "    }\n",
       "\n",
       "    .dataframe tbody tr th {\n",
       "        vertical-align: top;\n",
       "    }\n",
       "\n",
       "    .dataframe thead th {\n",
       "        text-align: right;\n",
       "    }\n",
       "</style>\n",
       "<table border=\"1\" class=\"dataframe\">\n",
       "  <thead>\n",
       "    <tr style=\"text-align: right;\">\n",
       "      <th></th>\n",
       "      <th>ZoneA</th>\n",
       "      <th>zoneB</th>\n",
       "      <th>zoneC</th>\n",
       "    </tr>\n",
       "  </thead>\n",
       "  <tbody>\n",
       "    <tr>\n",
       "      <th>sale1</th>\n",
       "      <td>574</td>\n",
       "      <td>558</td>\n",
       "      <td>965</td>\n",
       "    </tr>\n",
       "    <tr>\n",
       "      <th>sale2</th>\n",
       "      <td>856</td>\n",
       "      <td>899</td>\n",
       "      <td>204</td>\n",
       "    </tr>\n",
       "    <tr>\n",
       "      <th>sale3</th>\n",
       "      <td>666</td>\n",
       "      <td>574</td>\n",
       "      <td>624</td>\n",
       "    </tr>\n",
       "  </tbody>\n",
       "</table>\n",
       "</div>"
      ],
      "text/plain": [
       "       ZoneA  zoneB  zoneC\n",
       "sale1    574    558    965\n",
       "sale2    856    899    204\n",
       "sale3    666    574    624"
      ]
     },
     "execution_count": 39,
     "metadata": {},
     "output_type": "execute_result"
    }
   ],
   "source": [
    "dataframe"
   ]
  },
  {
   "cell_type": "code",
   "execution_count": 40,
   "id": "ea8bfd14",
   "metadata": {},
   "outputs": [
    {
     "data": {
      "text/html": [
       "<div>\n",
       "<style scoped>\n",
       "    .dataframe tbody tr th:only-of-type {\n",
       "        vertical-align: middle;\n",
       "    }\n",
       "\n",
       "    .dataframe tbody tr th {\n",
       "        vertical-align: top;\n",
       "    }\n",
       "\n",
       "    .dataframe thead th {\n",
       "        text-align: right;\n",
       "    }\n",
       "</style>\n",
       "<table border=\"1\" class=\"dataframe\">\n",
       "  <thead>\n",
       "    <tr style=\"text-align: right;\">\n",
       "      <th></th>\n",
       "      <th>ZoneA</th>\n",
       "      <th>zoneB</th>\n",
       "      <th>zoneC</th>\n",
       "    </tr>\n",
       "  </thead>\n",
       "  <tbody>\n",
       "    <tr>\n",
       "      <th>sale1</th>\n",
       "      <td>574</td>\n",
       "      <td>558</td>\n",
       "      <td>965</td>\n",
       "    </tr>\n",
       "    <tr>\n",
       "      <th>sale2</th>\n",
       "      <td>856</td>\n",
       "      <td>899</td>\n",
       "      <td>204</td>\n",
       "    </tr>\n",
       "  </tbody>\n",
       "</table>\n",
       "</div>"
      ],
      "text/plain": [
       "       ZoneA  zoneB  zoneC\n",
       "sale1    574    558    965\n",
       "sale2    856    899    204"
      ]
     },
     "execution_count": 40,
     "metadata": {},
     "output_type": "execute_result"
    }
   ],
   "source": [
    "dataframe.drop('sale3')"
   ]
  },
  {
   "cell_type": "code",
   "execution_count": 41,
   "id": "614659f7",
   "metadata": {},
   "outputs": [
    {
     "data": {
      "text/html": [
       "<div>\n",
       "<style scoped>\n",
       "    .dataframe tbody tr th:only-of-type {\n",
       "        vertical-align: middle;\n",
       "    }\n",
       "\n",
       "    .dataframe tbody tr th {\n",
       "        vertical-align: top;\n",
       "    }\n",
       "\n",
       "    .dataframe thead th {\n",
       "        text-align: right;\n",
       "    }\n",
       "</style>\n",
       "<table border=\"1\" class=\"dataframe\">\n",
       "  <thead>\n",
       "    <tr style=\"text-align: right;\">\n",
       "      <th></th>\n",
       "      <th>ZoneA</th>\n",
       "      <th>zoneB</th>\n",
       "      <th>zoneC</th>\n",
       "    </tr>\n",
       "  </thead>\n",
       "  <tbody>\n",
       "    <tr>\n",
       "      <th>sale1</th>\n",
       "      <td>574</td>\n",
       "      <td>558</td>\n",
       "      <td>965</td>\n",
       "    </tr>\n",
       "    <tr>\n",
       "      <th>sale2</th>\n",
       "      <td>856</td>\n",
       "      <td>899</td>\n",
       "      <td>204</td>\n",
       "    </tr>\n",
       "    <tr>\n",
       "      <th>sale3</th>\n",
       "      <td>666</td>\n",
       "      <td>574</td>\n",
       "      <td>624</td>\n",
       "    </tr>\n",
       "  </tbody>\n",
       "</table>\n",
       "</div>"
      ],
      "text/plain": [
       "       ZoneA  zoneB  zoneC\n",
       "sale1    574    558    965\n",
       "sale2    856    899    204\n",
       "sale3    666    574    624"
      ]
     },
     "execution_count": 41,
     "metadata": {},
     "output_type": "execute_result"
    }
   ],
   "source": [
    "dataframe"
   ]
  },
  {
   "cell_type": "code",
   "execution_count": 42,
   "id": "d962db45",
   "metadata": {},
   "outputs": [],
   "source": [
    "dataframe.drop('sale3', inplace = True)"
   ]
  },
  {
   "cell_type": "code",
   "execution_count": 43,
   "id": "88bbb14c",
   "metadata": {},
   "outputs": [
    {
     "data": {
      "text/html": [
       "<div>\n",
       "<style scoped>\n",
       "    .dataframe tbody tr th:only-of-type {\n",
       "        vertical-align: middle;\n",
       "    }\n",
       "\n",
       "    .dataframe tbody tr th {\n",
       "        vertical-align: top;\n",
       "    }\n",
       "\n",
       "    .dataframe thead th {\n",
       "        text-align: right;\n",
       "    }\n",
       "</style>\n",
       "<table border=\"1\" class=\"dataframe\">\n",
       "  <thead>\n",
       "    <tr style=\"text-align: right;\">\n",
       "      <th></th>\n",
       "      <th>ZoneA</th>\n",
       "      <th>zoneB</th>\n",
       "      <th>zoneC</th>\n",
       "    </tr>\n",
       "  </thead>\n",
       "  <tbody>\n",
       "    <tr>\n",
       "      <th>sale1</th>\n",
       "      <td>574</td>\n",
       "      <td>558</td>\n",
       "      <td>965</td>\n",
       "    </tr>\n",
       "    <tr>\n",
       "      <th>sale2</th>\n",
       "      <td>856</td>\n",
       "      <td>899</td>\n",
       "      <td>204</td>\n",
       "    </tr>\n",
       "  </tbody>\n",
       "</table>\n",
       "</div>"
      ],
      "text/plain": [
       "       ZoneA  zoneB  zoneC\n",
       "sale1    574    558    965\n",
       "sale2    856    899    204"
      ]
     },
     "execution_count": 43,
     "metadata": {},
     "output_type": "execute_result"
    }
   ],
   "source": [
    "dataframe"
   ]
  },
  {
   "cell_type": "code",
   "execution_count": 44,
   "id": "fbc31427",
   "metadata": {},
   "outputs": [
    {
     "data": {
      "text/plain": [
       "(2, 3)"
      ]
     },
     "execution_count": 44,
     "metadata": {},
     "output_type": "execute_result"
    }
   ],
   "source": [
    "dataframe.shape"
   ]
  },
  {
   "cell_type": "markdown",
   "id": "70c17538",
   "metadata": {},
   "source": [
    "### Select Data with a condition"
   ]
  },
  {
   "cell_type": "code",
   "execution_count": 45,
   "id": "36816702",
   "metadata": {},
   "outputs": [
    {
     "data": {
      "text/plain": [
       "['sale1', 'sale2', 'sale3']"
      ]
     },
     "execution_count": 45,
     "metadata": {},
     "output_type": "execute_result"
    }
   ],
   "source": [
    "rows = 'sale1 sale2 sale3'.split()\n",
    "rows"
   ]
  },
  {
   "cell_type": "code",
   "execution_count": 47,
   "id": "6d76e495",
   "metadata": {},
   "outputs": [
    {
     "data": {
      "text/plain": [
       "['zoneA', 'zoneB', 'zoneC']"
      ]
     },
     "execution_count": 47,
     "metadata": {},
     "output_type": "execute_result"
    }
   ],
   "source": [
    "columns = 'zoneA zoneB zoneC'.split()\n",
    "columns"
   ]
  },
  {
   "cell_type": "code",
   "execution_count": 48,
   "id": "0c69fe6c",
   "metadata": {},
   "outputs": [
    {
     "data": {
      "text/plain": [
       "[[5555, 5885, 9954], [5741, 2365, 9874], [5471, 5657, 2410]]"
      ]
     },
     "execution_count": 48,
     "metadata": {},
     "output_type": "execute_result"
    }
   ],
   "source": [
    "info = [[5555, 5885, 9954], [5741, 2365, 9874], [5471, 5657, 2410]]\n",
    "info"
   ]
  },
  {
   "cell_type": "code",
   "execution_count": 49,
   "id": "18e3798a",
   "metadata": {},
   "outputs": [],
   "source": [
    "dataframe = pd.DataFrame(info, rows, columns)"
   ]
  },
  {
   "cell_type": "code",
   "execution_count": 50,
   "id": "8d44fdff",
   "metadata": {},
   "outputs": [
    {
     "data": {
      "text/html": [
       "<div>\n",
       "<style scoped>\n",
       "    .dataframe tbody tr th:only-of-type {\n",
       "        vertical-align: middle;\n",
       "    }\n",
       "\n",
       "    .dataframe tbody tr th {\n",
       "        vertical-align: top;\n",
       "    }\n",
       "\n",
       "    .dataframe thead th {\n",
       "        text-align: right;\n",
       "    }\n",
       "</style>\n",
       "<table border=\"1\" class=\"dataframe\">\n",
       "  <thead>\n",
       "    <tr style=\"text-align: right;\">\n",
       "      <th></th>\n",
       "      <th>zoneA</th>\n",
       "      <th>zoneB</th>\n",
       "      <th>zoneC</th>\n",
       "    </tr>\n",
       "  </thead>\n",
       "  <tbody>\n",
       "    <tr>\n",
       "      <th>sale1</th>\n",
       "      <td>5555</td>\n",
       "      <td>5885</td>\n",
       "      <td>9954</td>\n",
       "    </tr>\n",
       "    <tr>\n",
       "      <th>sale2</th>\n",
       "      <td>5741</td>\n",
       "      <td>2365</td>\n",
       "      <td>9874</td>\n",
       "    </tr>\n",
       "    <tr>\n",
       "      <th>sale3</th>\n",
       "      <td>5471</td>\n",
       "      <td>5657</td>\n",
       "      <td>2410</td>\n",
       "    </tr>\n",
       "  </tbody>\n",
       "</table>\n",
       "</div>"
      ],
      "text/plain": [
       "       zoneA  zoneB  zoneC\n",
       "sale1   5555   5885   9954\n",
       "sale2   5741   2365   9874\n",
       "sale3   5471   5657   2410"
      ]
     },
     "execution_count": 50,
     "metadata": {},
     "output_type": "execute_result"
    }
   ],
   "source": [
    "dataframe"
   ]
  },
  {
   "cell_type": "code",
   "execution_count": 51,
   "id": "4f14e7f0",
   "metadata": {},
   "outputs": [],
   "source": [
    "condition = dataframe > 5000"
   ]
  },
  {
   "cell_type": "code",
   "execution_count": 52,
   "id": "1ef9309d",
   "metadata": {},
   "outputs": [
    {
     "data": {
      "text/html": [
       "<div>\n",
       "<style scoped>\n",
       "    .dataframe tbody tr th:only-of-type {\n",
       "        vertical-align: middle;\n",
       "    }\n",
       "\n",
       "    .dataframe tbody tr th {\n",
       "        vertical-align: top;\n",
       "    }\n",
       "\n",
       "    .dataframe thead th {\n",
       "        text-align: right;\n",
       "    }\n",
       "</style>\n",
       "<table border=\"1\" class=\"dataframe\">\n",
       "  <thead>\n",
       "    <tr style=\"text-align: right;\">\n",
       "      <th></th>\n",
       "      <th>zoneA</th>\n",
       "      <th>zoneB</th>\n",
       "      <th>zoneC</th>\n",
       "    </tr>\n",
       "  </thead>\n",
       "  <tbody>\n",
       "    <tr>\n",
       "      <th>sale1</th>\n",
       "      <td>5555</td>\n",
       "      <td>5885.0</td>\n",
       "      <td>9954.0</td>\n",
       "    </tr>\n",
       "    <tr>\n",
       "      <th>sale2</th>\n",
       "      <td>5741</td>\n",
       "      <td>NaN</td>\n",
       "      <td>9874.0</td>\n",
       "    </tr>\n",
       "    <tr>\n",
       "      <th>sale3</th>\n",
       "      <td>5471</td>\n",
       "      <td>5657.0</td>\n",
       "      <td>NaN</td>\n",
       "    </tr>\n",
       "  </tbody>\n",
       "</table>\n",
       "</div>"
      ],
      "text/plain": [
       "       zoneA   zoneB   zoneC\n",
       "sale1   5555  5885.0  9954.0\n",
       "sale2   5741     NaN  9874.0\n",
       "sale3   5471  5657.0     NaN"
      ]
     },
     "execution_count": 52,
     "metadata": {},
     "output_type": "execute_result"
    }
   ],
   "source": [
    "dataframe[condition]"
   ]
  },
  {
   "cell_type": "code",
   "execution_count": 55,
   "id": "2a60b491",
   "metadata": {},
   "outputs": [],
   "source": [
    "condition2 = (dataframe['zoneA'] > 5500) & (dataframe['zoneB'] > 5700) "
   ]
  },
  {
   "cell_type": "code",
   "execution_count": 56,
   "id": "2ca2085d",
   "metadata": {},
   "outputs": [
    {
     "data": {
      "text/html": [
       "<div>\n",
       "<style scoped>\n",
       "    .dataframe tbody tr th:only-of-type {\n",
       "        vertical-align: middle;\n",
       "    }\n",
       "\n",
       "    .dataframe tbody tr th {\n",
       "        vertical-align: top;\n",
       "    }\n",
       "\n",
       "    .dataframe thead th {\n",
       "        text-align: right;\n",
       "    }\n",
       "</style>\n",
       "<table border=\"1\" class=\"dataframe\">\n",
       "  <thead>\n",
       "    <tr style=\"text-align: right;\">\n",
       "      <th></th>\n",
       "      <th>zoneA</th>\n",
       "      <th>zoneB</th>\n",
       "      <th>zoneC</th>\n",
       "    </tr>\n",
       "  </thead>\n",
       "  <tbody>\n",
       "    <tr>\n",
       "      <th>sale1</th>\n",
       "      <td>5555</td>\n",
       "      <td>5885</td>\n",
       "      <td>9954</td>\n",
       "    </tr>\n",
       "  </tbody>\n",
       "</table>\n",
       "</div>"
      ],
      "text/plain": [
       "       zoneA  zoneB  zoneC\n",
       "sale1   5555   5885   9954"
      ]
     },
     "execution_count": 56,
     "metadata": {},
     "output_type": "execute_result"
    }
   ],
   "source": [
    "dataframe[condition2]"
   ]
  },
  {
   "cell_type": "markdown",
   "id": "72d512ac",
   "metadata": {},
   "source": [
    "### Modify row names"
   ]
  },
  {
   "cell_type": "code",
   "execution_count": 58,
   "id": "a3547259",
   "metadata": {},
   "outputs": [],
   "source": [
    "rows = 'sale1 sale2 sale3'.split()\n",
    "columns = 'zoneA zoneB zoneC'.split()\n",
    "info = [[5555, 5885, 9954], [5741, 2365, 9874], [5471, 5657, 2410]]\n",
    "dataframe = pd.DataFrame(info, rows, columns)"
   ]
  },
  {
   "cell_type": "code",
   "execution_count": 59,
   "id": "e8a021d6",
   "metadata": {
    "scrolled": true
   },
   "outputs": [
    {
     "data": {
      "text/html": [
       "<div>\n",
       "<style scoped>\n",
       "    .dataframe tbody tr th:only-of-type {\n",
       "        vertical-align: middle;\n",
       "    }\n",
       "\n",
       "    .dataframe tbody tr th {\n",
       "        vertical-align: top;\n",
       "    }\n",
       "\n",
       "    .dataframe thead th {\n",
       "        text-align: right;\n",
       "    }\n",
       "</style>\n",
       "<table border=\"1\" class=\"dataframe\">\n",
       "  <thead>\n",
       "    <tr style=\"text-align: right;\">\n",
       "      <th></th>\n",
       "      <th>zoneA</th>\n",
       "      <th>zoneB</th>\n",
       "      <th>zoneC</th>\n",
       "    </tr>\n",
       "  </thead>\n",
       "  <tbody>\n",
       "    <tr>\n",
       "      <th>sale1</th>\n",
       "      <td>5555</td>\n",
       "      <td>5885</td>\n",
       "      <td>9954</td>\n",
       "    </tr>\n",
       "    <tr>\n",
       "      <th>sale2</th>\n",
       "      <td>5741</td>\n",
       "      <td>2365</td>\n",
       "      <td>9874</td>\n",
       "    </tr>\n",
       "    <tr>\n",
       "      <th>sale3</th>\n",
       "      <td>5471</td>\n",
       "      <td>5657</td>\n",
       "      <td>2410</td>\n",
       "    </tr>\n",
       "  </tbody>\n",
       "</table>\n",
       "</div>"
      ],
      "text/plain": [
       "       zoneA  zoneB  zoneC\n",
       "sale1   5555   5885   9954\n",
       "sale2   5741   2365   9874\n",
       "sale3   5471   5657   2410"
      ]
     },
     "execution_count": 59,
     "metadata": {},
     "output_type": "execute_result"
    }
   ],
   "source": [
    "dataframe"
   ]
  },
  {
   "cell_type": "code",
   "execution_count": 60,
   "id": "1b4e8d4b",
   "metadata": {},
   "outputs": [],
   "source": [
    "row_new = 'day1 day2 day3'.split()"
   ]
  },
  {
   "cell_type": "code",
   "execution_count": 61,
   "id": "61cd5043",
   "metadata": {},
   "outputs": [],
   "source": [
    "dataframe['days'] = row_new"
   ]
  },
  {
   "cell_type": "code",
   "execution_count": 62,
   "id": "e5457a36",
   "metadata": {},
   "outputs": [
    {
     "data": {
      "text/html": [
       "<div>\n",
       "<style scoped>\n",
       "    .dataframe tbody tr th:only-of-type {\n",
       "        vertical-align: middle;\n",
       "    }\n",
       "\n",
       "    .dataframe tbody tr th {\n",
       "        vertical-align: top;\n",
       "    }\n",
       "\n",
       "    .dataframe thead th {\n",
       "        text-align: right;\n",
       "    }\n",
       "</style>\n",
       "<table border=\"1\" class=\"dataframe\">\n",
       "  <thead>\n",
       "    <tr style=\"text-align: right;\">\n",
       "      <th></th>\n",
       "      <th>zoneA</th>\n",
       "      <th>zoneB</th>\n",
       "      <th>zoneC</th>\n",
       "      <th>days</th>\n",
       "    </tr>\n",
       "  </thead>\n",
       "  <tbody>\n",
       "    <tr>\n",
       "      <th>sale1</th>\n",
       "      <td>5555</td>\n",
       "      <td>5885</td>\n",
       "      <td>9954</td>\n",
       "      <td>day1</td>\n",
       "    </tr>\n",
       "    <tr>\n",
       "      <th>sale2</th>\n",
       "      <td>5741</td>\n",
       "      <td>2365</td>\n",
       "      <td>9874</td>\n",
       "      <td>day2</td>\n",
       "    </tr>\n",
       "    <tr>\n",
       "      <th>sale3</th>\n",
       "      <td>5471</td>\n",
       "      <td>5657</td>\n",
       "      <td>2410</td>\n",
       "      <td>day3</td>\n",
       "    </tr>\n",
       "  </tbody>\n",
       "</table>\n",
       "</div>"
      ],
      "text/plain": [
       "       zoneA  zoneB  zoneC  days\n",
       "sale1   5555   5885   9954  day1\n",
       "sale2   5741   2365   9874  day2\n",
       "sale3   5471   5657   2410  day3"
      ]
     },
     "execution_count": 62,
     "metadata": {},
     "output_type": "execute_result"
    }
   ],
   "source": [
    "dataframe"
   ]
  },
  {
   "cell_type": "code",
   "execution_count": 63,
   "id": "0a4ca5dd",
   "metadata": {},
   "outputs": [
    {
     "data": {
      "text/html": [
       "<div>\n",
       "<style scoped>\n",
       "    .dataframe tbody tr th:only-of-type {\n",
       "        vertical-align: middle;\n",
       "    }\n",
       "\n",
       "    .dataframe tbody tr th {\n",
       "        vertical-align: top;\n",
       "    }\n",
       "\n",
       "    .dataframe thead th {\n",
       "        text-align: right;\n",
       "    }\n",
       "</style>\n",
       "<table border=\"1\" class=\"dataframe\">\n",
       "  <thead>\n",
       "    <tr style=\"text-align: right;\">\n",
       "      <th></th>\n",
       "      <th>zoneA</th>\n",
       "      <th>zoneB</th>\n",
       "      <th>zoneC</th>\n",
       "    </tr>\n",
       "    <tr>\n",
       "      <th>days</th>\n",
       "      <th></th>\n",
       "      <th></th>\n",
       "      <th></th>\n",
       "    </tr>\n",
       "  </thead>\n",
       "  <tbody>\n",
       "    <tr>\n",
       "      <th>day1</th>\n",
       "      <td>5555</td>\n",
       "      <td>5885</td>\n",
       "      <td>9954</td>\n",
       "    </tr>\n",
       "    <tr>\n",
       "      <th>day2</th>\n",
       "      <td>5741</td>\n",
       "      <td>2365</td>\n",
       "      <td>9874</td>\n",
       "    </tr>\n",
       "    <tr>\n",
       "      <th>day3</th>\n",
       "      <td>5471</td>\n",
       "      <td>5657</td>\n",
       "      <td>2410</td>\n",
       "    </tr>\n",
       "  </tbody>\n",
       "</table>\n",
       "</div>"
      ],
      "text/plain": [
       "      zoneA  zoneB  zoneC\n",
       "days                     \n",
       "day1   5555   5885   9954\n",
       "day2   5741   2365   9874\n",
       "day3   5471   5657   2410"
      ]
     },
     "execution_count": 63,
     "metadata": {},
     "output_type": "execute_result"
    }
   ],
   "source": [
    "dataframe.set_index('days')"
   ]
  },
  {
   "cell_type": "code",
   "execution_count": 64,
   "id": "f0bb3b8a",
   "metadata": {},
   "outputs": [
    {
     "data": {
      "text/html": [
       "<div>\n",
       "<style scoped>\n",
       "    .dataframe tbody tr th:only-of-type {\n",
       "        vertical-align: middle;\n",
       "    }\n",
       "\n",
       "    .dataframe tbody tr th {\n",
       "        vertical-align: top;\n",
       "    }\n",
       "\n",
       "    .dataframe thead th {\n",
       "        text-align: right;\n",
       "    }\n",
       "</style>\n",
       "<table border=\"1\" class=\"dataframe\">\n",
       "  <thead>\n",
       "    <tr style=\"text-align: right;\">\n",
       "      <th></th>\n",
       "      <th>zoneA</th>\n",
       "      <th>zoneB</th>\n",
       "      <th>zoneC</th>\n",
       "      <th>days</th>\n",
       "    </tr>\n",
       "  </thead>\n",
       "  <tbody>\n",
       "    <tr>\n",
       "      <th>sale1</th>\n",
       "      <td>5555</td>\n",
       "      <td>5885</td>\n",
       "      <td>9954</td>\n",
       "      <td>day1</td>\n",
       "    </tr>\n",
       "    <tr>\n",
       "      <th>sale2</th>\n",
       "      <td>5741</td>\n",
       "      <td>2365</td>\n",
       "      <td>9874</td>\n",
       "      <td>day2</td>\n",
       "    </tr>\n",
       "    <tr>\n",
       "      <th>sale3</th>\n",
       "      <td>5471</td>\n",
       "      <td>5657</td>\n",
       "      <td>2410</td>\n",
       "      <td>day3</td>\n",
       "    </tr>\n",
       "  </tbody>\n",
       "</table>\n",
       "</div>"
      ],
      "text/plain": [
       "       zoneA  zoneB  zoneC  days\n",
       "sale1   5555   5885   9954  day1\n",
       "sale2   5741   2365   9874  day2\n",
       "sale3   5471   5657   2410  day3"
      ]
     },
     "execution_count": 64,
     "metadata": {},
     "output_type": "execute_result"
    }
   ],
   "source": [
    "dataframe"
   ]
  },
  {
   "cell_type": "code",
   "execution_count": 65,
   "id": "8dc03a9f",
   "metadata": {},
   "outputs": [],
   "source": [
    "dataframe = dataframe.set_index('days')"
   ]
  },
  {
   "cell_type": "code",
   "execution_count": 66,
   "id": "b8b48d57",
   "metadata": {},
   "outputs": [
    {
     "data": {
      "text/html": [
       "<div>\n",
       "<style scoped>\n",
       "    .dataframe tbody tr th:only-of-type {\n",
       "        vertical-align: middle;\n",
       "    }\n",
       "\n",
       "    .dataframe tbody tr th {\n",
       "        vertical-align: top;\n",
       "    }\n",
       "\n",
       "    .dataframe thead th {\n",
       "        text-align: right;\n",
       "    }\n",
       "</style>\n",
       "<table border=\"1\" class=\"dataframe\">\n",
       "  <thead>\n",
       "    <tr style=\"text-align: right;\">\n",
       "      <th></th>\n",
       "      <th>zoneA</th>\n",
       "      <th>zoneB</th>\n",
       "      <th>zoneC</th>\n",
       "    </tr>\n",
       "    <tr>\n",
       "      <th>days</th>\n",
       "      <th></th>\n",
       "      <th></th>\n",
       "      <th></th>\n",
       "    </tr>\n",
       "  </thead>\n",
       "  <tbody>\n",
       "    <tr>\n",
       "      <th>day1</th>\n",
       "      <td>5555</td>\n",
       "      <td>5885</td>\n",
       "      <td>9954</td>\n",
       "    </tr>\n",
       "    <tr>\n",
       "      <th>day2</th>\n",
       "      <td>5741</td>\n",
       "      <td>2365</td>\n",
       "      <td>9874</td>\n",
       "    </tr>\n",
       "    <tr>\n",
       "      <th>day3</th>\n",
       "      <td>5471</td>\n",
       "      <td>5657</td>\n",
       "      <td>2410</td>\n",
       "    </tr>\n",
       "  </tbody>\n",
       "</table>\n",
       "</div>"
      ],
      "text/plain": [
       "      zoneA  zoneB  zoneC\n",
       "days                     \n",
       "day1   5555   5885   9954\n",
       "day2   5741   2365   9874\n",
       "day3   5471   5657   2410"
      ]
     },
     "execution_count": 66,
     "metadata": {},
     "output_type": "execute_result"
    }
   ],
   "source": [
    "dataframe"
   ]
  },
  {
   "cell_type": "markdown",
   "id": "50259a76",
   "metadata": {},
   "source": [
    "### Null data"
   ]
  },
  {
   "cell_type": "code",
   "execution_count": 67,
   "id": "8288c056",
   "metadata": {},
   "outputs": [],
   "source": [
    "dictionary = {'a': [4, 5, np.nan], 'b': [6, 1, 5], 'c': [np.nan, 4, np.nan]}"
   ]
  },
  {
   "cell_type": "code",
   "execution_count": 68,
   "id": "8c72305d",
   "metadata": {},
   "outputs": [],
   "source": [
    "dataframe2 = pd.DataFrame(dictionary)"
   ]
  },
  {
   "cell_type": "code",
   "execution_count": 69,
   "id": "a8334c76",
   "metadata": {},
   "outputs": [
    {
     "data": {
      "text/html": [
       "<div>\n",
       "<style scoped>\n",
       "    .dataframe tbody tr th:only-of-type {\n",
       "        vertical-align: middle;\n",
       "    }\n",
       "\n",
       "    .dataframe tbody tr th {\n",
       "        vertical-align: top;\n",
       "    }\n",
       "\n",
       "    .dataframe thead th {\n",
       "        text-align: right;\n",
       "    }\n",
       "</style>\n",
       "<table border=\"1\" class=\"dataframe\">\n",
       "  <thead>\n",
       "    <tr style=\"text-align: right;\">\n",
       "      <th></th>\n",
       "      <th>a</th>\n",
       "      <th>b</th>\n",
       "      <th>c</th>\n",
       "    </tr>\n",
       "  </thead>\n",
       "  <tbody>\n",
       "    <tr>\n",
       "      <th>0</th>\n",
       "      <td>4.0</td>\n",
       "      <td>6</td>\n",
       "      <td>NaN</td>\n",
       "    </tr>\n",
       "    <tr>\n",
       "      <th>1</th>\n",
       "      <td>5.0</td>\n",
       "      <td>1</td>\n",
       "      <td>4.0</td>\n",
       "    </tr>\n",
       "    <tr>\n",
       "      <th>2</th>\n",
       "      <td>NaN</td>\n",
       "      <td>5</td>\n",
       "      <td>NaN</td>\n",
       "    </tr>\n",
       "  </tbody>\n",
       "</table>\n",
       "</div>"
      ],
      "text/plain": [
       "     a  b    c\n",
       "0  4.0  6  NaN\n",
       "1  5.0  1  4.0\n",
       "2  NaN  5  NaN"
      ]
     },
     "execution_count": 69,
     "metadata": {},
     "output_type": "execute_result"
    }
   ],
   "source": [
    "dataframe2"
   ]
  },
  {
   "cell_type": "code",
   "execution_count": 70,
   "id": "3ec1db3d",
   "metadata": {},
   "outputs": [
    {
     "data": {
      "text/html": [
       "<div>\n",
       "<style scoped>\n",
       "    .dataframe tbody tr th:only-of-type {\n",
       "        vertical-align: middle;\n",
       "    }\n",
       "\n",
       "    .dataframe tbody tr th {\n",
       "        vertical-align: top;\n",
       "    }\n",
       "\n",
       "    .dataframe thead th {\n",
       "        text-align: right;\n",
       "    }\n",
       "</style>\n",
       "<table border=\"1\" class=\"dataframe\">\n",
       "  <thead>\n",
       "    <tr style=\"text-align: right;\">\n",
       "      <th></th>\n",
       "      <th>a</th>\n",
       "      <th>b</th>\n",
       "      <th>c</th>\n",
       "    </tr>\n",
       "  </thead>\n",
       "  <tbody>\n",
       "    <tr>\n",
       "      <th>1</th>\n",
       "      <td>5.0</td>\n",
       "      <td>1</td>\n",
       "      <td>4.0</td>\n",
       "    </tr>\n",
       "  </tbody>\n",
       "</table>\n",
       "</div>"
      ],
      "text/plain": [
       "     a  b    c\n",
       "1  5.0  1  4.0"
      ]
     },
     "execution_count": 70,
     "metadata": {},
     "output_type": "execute_result"
    }
   ],
   "source": [
    "dataframe2.dropna()"
   ]
  },
  {
   "cell_type": "code",
   "execution_count": 71,
   "id": "427e50b9",
   "metadata": {},
   "outputs": [
    {
     "data": {
      "text/html": [
       "<div>\n",
       "<style scoped>\n",
       "    .dataframe tbody tr th:only-of-type {\n",
       "        vertical-align: middle;\n",
       "    }\n",
       "\n",
       "    .dataframe tbody tr th {\n",
       "        vertical-align: top;\n",
       "    }\n",
       "\n",
       "    .dataframe thead th {\n",
       "        text-align: right;\n",
       "    }\n",
       "</style>\n",
       "<table border=\"1\" class=\"dataframe\">\n",
       "  <thead>\n",
       "    <tr style=\"text-align: right;\">\n",
       "      <th></th>\n",
       "      <th>b</th>\n",
       "    </tr>\n",
       "  </thead>\n",
       "  <tbody>\n",
       "    <tr>\n",
       "      <th>0</th>\n",
       "      <td>6</td>\n",
       "    </tr>\n",
       "    <tr>\n",
       "      <th>1</th>\n",
       "      <td>1</td>\n",
       "    </tr>\n",
       "    <tr>\n",
       "      <th>2</th>\n",
       "      <td>5</td>\n",
       "    </tr>\n",
       "  </tbody>\n",
       "</table>\n",
       "</div>"
      ],
      "text/plain": [
       "   b\n",
       "0  6\n",
       "1  1\n",
       "2  5"
      ]
     },
     "execution_count": 71,
     "metadata": {},
     "output_type": "execute_result"
    }
   ],
   "source": [
    "dataframe2.dropna(axis = 1)"
   ]
  },
  {
   "cell_type": "code",
   "execution_count": 73,
   "id": "6f87c603",
   "metadata": {},
   "outputs": [
    {
     "data": {
      "text/html": [
       "<div>\n",
       "<style scoped>\n",
       "    .dataframe tbody tr th:only-of-type {\n",
       "        vertical-align: middle;\n",
       "    }\n",
       "\n",
       "    .dataframe tbody tr th {\n",
       "        vertical-align: top;\n",
       "    }\n",
       "\n",
       "    .dataframe thead th {\n",
       "        text-align: right;\n",
       "    }\n",
       "</style>\n",
       "<table border=\"1\" class=\"dataframe\">\n",
       "  <thead>\n",
       "    <tr style=\"text-align: right;\">\n",
       "      <th></th>\n",
       "      <th>a</th>\n",
       "      <th>b</th>\n",
       "      <th>c</th>\n",
       "    </tr>\n",
       "  </thead>\n",
       "  <tbody>\n",
       "    <tr>\n",
       "      <th>0</th>\n",
       "      <td>4.0</td>\n",
       "      <td>6</td>\n",
       "      <td>100.0</td>\n",
       "    </tr>\n",
       "    <tr>\n",
       "      <th>1</th>\n",
       "      <td>5.0</td>\n",
       "      <td>1</td>\n",
       "      <td>4.0</td>\n",
       "    </tr>\n",
       "    <tr>\n",
       "      <th>2</th>\n",
       "      <td>100.0</td>\n",
       "      <td>5</td>\n",
       "      <td>100.0</td>\n",
       "    </tr>\n",
       "  </tbody>\n",
       "</table>\n",
       "</div>"
      ],
      "text/plain": [
       "       a  b      c\n",
       "0    4.0  6  100.0\n",
       "1    5.0  1    4.0\n",
       "2  100.0  5  100.0"
      ]
     },
     "execution_count": 73,
     "metadata": {},
     "output_type": "execute_result"
    }
   ],
   "source": [
    "dataframe2.fillna(value = 100)"
   ]
  },
  {
   "cell_type": "code",
   "execution_count": 74,
   "id": "fb2154fb",
   "metadata": {},
   "outputs": [
    {
     "data": {
      "text/plain": [
       "a    4.5\n",
       "b    4.0\n",
       "c    4.0\n",
       "dtype: float64"
      ]
     },
     "execution_count": 74,
     "metadata": {},
     "output_type": "execute_result"
    }
   ],
   "source": [
    "medium_value = dataframe2.mean()\n",
    "medium_value"
   ]
  },
  {
   "cell_type": "code",
   "execution_count": 75,
   "id": "5466643e",
   "metadata": {},
   "outputs": [
    {
     "data": {
      "text/html": [
       "<div>\n",
       "<style scoped>\n",
       "    .dataframe tbody tr th:only-of-type {\n",
       "        vertical-align: middle;\n",
       "    }\n",
       "\n",
       "    .dataframe tbody tr th {\n",
       "        vertical-align: top;\n",
       "    }\n",
       "\n",
       "    .dataframe thead th {\n",
       "        text-align: right;\n",
       "    }\n",
       "</style>\n",
       "<table border=\"1\" class=\"dataframe\">\n",
       "  <thead>\n",
       "    <tr style=\"text-align: right;\">\n",
       "      <th></th>\n",
       "      <th>a</th>\n",
       "      <th>b</th>\n",
       "      <th>c</th>\n",
       "    </tr>\n",
       "  </thead>\n",
       "  <tbody>\n",
       "    <tr>\n",
       "      <th>0</th>\n",
       "      <td>4.0</td>\n",
       "      <td>6</td>\n",
       "      <td>4.0</td>\n",
       "    </tr>\n",
       "    <tr>\n",
       "      <th>1</th>\n",
       "      <td>5.0</td>\n",
       "      <td>1</td>\n",
       "      <td>4.0</td>\n",
       "    </tr>\n",
       "    <tr>\n",
       "      <th>2</th>\n",
       "      <td>4.5</td>\n",
       "      <td>5</td>\n",
       "      <td>4.0</td>\n",
       "    </tr>\n",
       "  </tbody>\n",
       "</table>\n",
       "</div>"
      ],
      "text/plain": [
       "     a  b    c\n",
       "0  4.0  6  4.0\n",
       "1  5.0  1  4.0\n",
       "2  4.5  5  4.0"
      ]
     },
     "execution_count": 75,
     "metadata": {},
     "output_type": "execute_result"
    }
   ],
   "source": [
    "dataframe2.fillna(value = medium_value)"
   ]
  },
  {
   "cell_type": "markdown",
   "id": "c04dc3ad",
   "metadata": {},
   "source": [
    "### Group data"
   ]
  },
  {
   "cell_type": "code",
   "execution_count": 5,
   "id": "be1beecf",
   "metadata": {},
   "outputs": [],
   "source": [
    "dictionary = {'days': ['day1', 'day1', 'day2', 'day2', 'day3'], 'sellers': ['Carlos', 'Valeria', 'Maria', 'Rosalba', 'Edgar'], 'sales': [8558, 58597, 554710, 52236, 45587]}"
   ]
  },
  {
   "cell_type": "code",
   "execution_count": 6,
   "id": "15064fe7",
   "metadata": {},
   "outputs": [],
   "source": [
    "dataframe = pd.DataFrame(dictionary)"
   ]
  },
  {
   "cell_type": "code",
   "execution_count": 7,
   "id": "6ca5e6e9",
   "metadata": {},
   "outputs": [
    {
     "data": {
      "text/html": [
       "<div>\n",
       "<style scoped>\n",
       "    .dataframe tbody tr th:only-of-type {\n",
       "        vertical-align: middle;\n",
       "    }\n",
       "\n",
       "    .dataframe tbody tr th {\n",
       "        vertical-align: top;\n",
       "    }\n",
       "\n",
       "    .dataframe thead th {\n",
       "        text-align: right;\n",
       "    }\n",
       "</style>\n",
       "<table border=\"1\" class=\"dataframe\">\n",
       "  <thead>\n",
       "    <tr style=\"text-align: right;\">\n",
       "      <th></th>\n",
       "      <th>days</th>\n",
       "      <th>sellers</th>\n",
       "      <th>sales</th>\n",
       "    </tr>\n",
       "  </thead>\n",
       "  <tbody>\n",
       "    <tr>\n",
       "      <th>0</th>\n",
       "      <td>day1</td>\n",
       "      <td>Carlos</td>\n",
       "      <td>8558</td>\n",
       "    </tr>\n",
       "    <tr>\n",
       "      <th>1</th>\n",
       "      <td>day1</td>\n",
       "      <td>Valeria</td>\n",
       "      <td>58597</td>\n",
       "    </tr>\n",
       "    <tr>\n",
       "      <th>2</th>\n",
       "      <td>day2</td>\n",
       "      <td>Maria</td>\n",
       "      <td>554710</td>\n",
       "    </tr>\n",
       "    <tr>\n",
       "      <th>3</th>\n",
       "      <td>day2</td>\n",
       "      <td>Rosalba</td>\n",
       "      <td>52236</td>\n",
       "    </tr>\n",
       "    <tr>\n",
       "      <th>4</th>\n",
       "      <td>day3</td>\n",
       "      <td>Edgar</td>\n",
       "      <td>45587</td>\n",
       "    </tr>\n",
       "  </tbody>\n",
       "</table>\n",
       "</div>"
      ],
      "text/plain": [
       "   days  sellers   sales\n",
       "0  day1   Carlos    8558\n",
       "1  day1  Valeria   58597\n",
       "2  day2    Maria  554710\n",
       "3  day2  Rosalba   52236\n",
       "4  day3    Edgar   45587"
      ]
     },
     "execution_count": 7,
     "metadata": {},
     "output_type": "execute_result"
    }
   ],
   "source": [
    "dataframe"
   ]
  },
  {
   "cell_type": "code",
   "execution_count": 9,
   "id": "fece66c2",
   "metadata": {},
   "outputs": [
    {
     "name": "stderr",
     "output_type": "stream",
     "text": [
      "C:\\Users\\carlo\\AppData\\Local\\Temp\\ipykernel_17508\\4089846049.py:1: FutureWarning: The default value of numeric_only in DataFrameGroupBy.mean is deprecated. In a future version, numeric_only will default to False. Either specify numeric_only or select only columns which should be valid for the function.\n",
      "  dataframe.groupby('days').mean()\n"
     ]
    },
    {
     "data": {
      "text/html": [
       "<div>\n",
       "<style scoped>\n",
       "    .dataframe tbody tr th:only-of-type {\n",
       "        vertical-align: middle;\n",
       "    }\n",
       "\n",
       "    .dataframe tbody tr th {\n",
       "        vertical-align: top;\n",
       "    }\n",
       "\n",
       "    .dataframe thead th {\n",
       "        text-align: right;\n",
       "    }\n",
       "</style>\n",
       "<table border=\"1\" class=\"dataframe\">\n",
       "  <thead>\n",
       "    <tr style=\"text-align: right;\">\n",
       "      <th></th>\n",
       "      <th>sales</th>\n",
       "    </tr>\n",
       "    <tr>\n",
       "      <th>days</th>\n",
       "      <th></th>\n",
       "    </tr>\n",
       "  </thead>\n",
       "  <tbody>\n",
       "    <tr>\n",
       "      <th>day1</th>\n",
       "      <td>33577.5</td>\n",
       "    </tr>\n",
       "    <tr>\n",
       "      <th>day2</th>\n",
       "      <td>303473.0</td>\n",
       "    </tr>\n",
       "    <tr>\n",
       "      <th>day3</th>\n",
       "      <td>45587.0</td>\n",
       "    </tr>\n",
       "  </tbody>\n",
       "</table>\n",
       "</div>"
      ],
      "text/plain": [
       "         sales\n",
       "days          \n",
       "day1   33577.5\n",
       "day2  303473.0\n",
       "day3   45587.0"
      ]
     },
     "execution_count": 9,
     "metadata": {},
     "output_type": "execute_result"
    }
   ],
   "source": [
    "dataframe.groupby('days').mean()"
   ]
  },
  {
   "cell_type": "code",
   "execution_count": 10,
   "id": "5c483885",
   "metadata": {},
   "outputs": [
    {
     "data": {
      "text/html": [
       "<div>\n",
       "<style scoped>\n",
       "    .dataframe tbody tr th:only-of-type {\n",
       "        vertical-align: middle;\n",
       "    }\n",
       "\n",
       "    .dataframe tbody tr th {\n",
       "        vertical-align: top;\n",
       "    }\n",
       "\n",
       "    .dataframe thead tr th {\n",
       "        text-align: left;\n",
       "    }\n",
       "\n",
       "    .dataframe thead tr:last-of-type th {\n",
       "        text-align: right;\n",
       "    }\n",
       "</style>\n",
       "<table border=\"1\" class=\"dataframe\">\n",
       "  <thead>\n",
       "    <tr>\n",
       "      <th></th>\n",
       "      <th colspan=\"8\" halign=\"left\">sales</th>\n",
       "    </tr>\n",
       "    <tr>\n",
       "      <th></th>\n",
       "      <th>count</th>\n",
       "      <th>mean</th>\n",
       "      <th>std</th>\n",
       "      <th>min</th>\n",
       "      <th>25%</th>\n",
       "      <th>50%</th>\n",
       "      <th>75%</th>\n",
       "      <th>max</th>\n",
       "    </tr>\n",
       "    <tr>\n",
       "      <th>days</th>\n",
       "      <th></th>\n",
       "      <th></th>\n",
       "      <th></th>\n",
       "      <th></th>\n",
       "      <th></th>\n",
       "      <th></th>\n",
       "      <th></th>\n",
       "      <th></th>\n",
       "    </tr>\n",
       "  </thead>\n",
       "  <tbody>\n",
       "    <tr>\n",
       "      <th>day1</th>\n",
       "      <td>2.0</td>\n",
       "      <td>33577.5</td>\n",
       "      <td>35382.916224</td>\n",
       "      <td>8558.0</td>\n",
       "      <td>21067.75</td>\n",
       "      <td>33577.5</td>\n",
       "      <td>46087.25</td>\n",
       "      <td>58597.0</td>\n",
       "    </tr>\n",
       "    <tr>\n",
       "      <th>day2</th>\n",
       "      <td>2.0</td>\n",
       "      <td>303473.0</td>\n",
       "      <td>355302.772770</td>\n",
       "      <td>52236.0</td>\n",
       "      <td>177854.50</td>\n",
       "      <td>303473.0</td>\n",
       "      <td>429091.50</td>\n",
       "      <td>554710.0</td>\n",
       "    </tr>\n",
       "    <tr>\n",
       "      <th>day3</th>\n",
       "      <td>1.0</td>\n",
       "      <td>45587.0</td>\n",
       "      <td>NaN</td>\n",
       "      <td>45587.0</td>\n",
       "      <td>45587.00</td>\n",
       "      <td>45587.0</td>\n",
       "      <td>45587.00</td>\n",
       "      <td>45587.0</td>\n",
       "    </tr>\n",
       "  </tbody>\n",
       "</table>\n",
       "</div>"
      ],
      "text/plain": [
       "     sales                                                                    \\\n",
       "     count      mean            std      min        25%       50%        75%   \n",
       "days                                                                           \n",
       "day1   2.0   33577.5   35382.916224   8558.0   21067.75   33577.5   46087.25   \n",
       "day2   2.0  303473.0  355302.772770  52236.0  177854.50  303473.0  429091.50   \n",
       "day3   1.0   45587.0            NaN  45587.0   45587.00   45587.0   45587.00   \n",
       "\n",
       "                \n",
       "           max  \n",
       "days            \n",
       "day1   58597.0  \n",
       "day2  554710.0  \n",
       "day3   45587.0  "
      ]
     },
     "execution_count": 10,
     "metadata": {},
     "output_type": "execute_result"
    }
   ],
   "source": [
    "dataframe.groupby('days').describe()"
   ]
  },
  {
   "cell_type": "markdown",
   "id": "1668e85c",
   "metadata": {},
   "source": [
    "### Combine DataFrames"
   ]
  },
  {
   "cell_type": "code",
   "execution_count": 11,
   "id": "2c3a1fa8",
   "metadata": {},
   "outputs": [],
   "source": [
    "dic = {'A' : [1, 2, 3], 'B' : [ 4, 5, 6], 'C' : [7, 8, 9]}"
   ]
  },
  {
   "cell_type": "code",
   "execution_count": 12,
   "id": "b14aa616",
   "metadata": {},
   "outputs": [],
   "source": [
    "dat = pd.DataFrame(dic)"
   ]
  },
  {
   "cell_type": "code",
   "execution_count": 13,
   "id": "12c32814",
   "metadata": {},
   "outputs": [
    {
     "data": {
      "text/html": [
       "<div>\n",
       "<style scoped>\n",
       "    .dataframe tbody tr th:only-of-type {\n",
       "        vertical-align: middle;\n",
       "    }\n",
       "\n",
       "    .dataframe tbody tr th {\n",
       "        vertical-align: top;\n",
       "    }\n",
       "\n",
       "    .dataframe thead th {\n",
       "        text-align: right;\n",
       "    }\n",
       "</style>\n",
       "<table border=\"1\" class=\"dataframe\">\n",
       "  <thead>\n",
       "    <tr style=\"text-align: right;\">\n",
       "      <th></th>\n",
       "      <th>A</th>\n",
       "      <th>B</th>\n",
       "      <th>C</th>\n",
       "    </tr>\n",
       "  </thead>\n",
       "  <tbody>\n",
       "    <tr>\n",
       "      <th>0</th>\n",
       "      <td>1</td>\n",
       "      <td>4</td>\n",
       "      <td>7</td>\n",
       "    </tr>\n",
       "    <tr>\n",
       "      <th>1</th>\n",
       "      <td>2</td>\n",
       "      <td>5</td>\n",
       "      <td>8</td>\n",
       "    </tr>\n",
       "    <tr>\n",
       "      <th>2</th>\n",
       "      <td>3</td>\n",
       "      <td>6</td>\n",
       "      <td>9</td>\n",
       "    </tr>\n",
       "  </tbody>\n",
       "</table>\n",
       "</div>"
      ],
      "text/plain": [
       "   A  B  C\n",
       "0  1  4  7\n",
       "1  2  5  8\n",
       "2  3  6  9"
      ]
     },
     "execution_count": 13,
     "metadata": {},
     "output_type": "execute_result"
    }
   ],
   "source": [
    "dat"
   ]
  },
  {
   "cell_type": "code",
   "execution_count": 14,
   "id": "e62dfad1",
   "metadata": {},
   "outputs": [],
   "source": [
    "dic2 = {'A' : [10, 20, 30], 'B' : [ 40, 50, 60], 'C' : [70, 80, 90]}"
   ]
  },
  {
   "cell_type": "code",
   "execution_count": 15,
   "id": "e6078f70",
   "metadata": {},
   "outputs": [],
   "source": [
    "dat2 = pd.DataFrame(dic2)"
   ]
  },
  {
   "cell_type": "code",
   "execution_count": 16,
   "id": "9a81ce37",
   "metadata": {},
   "outputs": [
    {
     "data": {
      "text/html": [
       "<div>\n",
       "<style scoped>\n",
       "    .dataframe tbody tr th:only-of-type {\n",
       "        vertical-align: middle;\n",
       "    }\n",
       "\n",
       "    .dataframe tbody tr th {\n",
       "        vertical-align: top;\n",
       "    }\n",
       "\n",
       "    .dataframe thead th {\n",
       "        text-align: right;\n",
       "    }\n",
       "</style>\n",
       "<table border=\"1\" class=\"dataframe\">\n",
       "  <thead>\n",
       "    <tr style=\"text-align: right;\">\n",
       "      <th></th>\n",
       "      <th>A</th>\n",
       "      <th>B</th>\n",
       "      <th>C</th>\n",
       "    </tr>\n",
       "  </thead>\n",
       "  <tbody>\n",
       "    <tr>\n",
       "      <th>0</th>\n",
       "      <td>10</td>\n",
       "      <td>40</td>\n",
       "      <td>70</td>\n",
       "    </tr>\n",
       "    <tr>\n",
       "      <th>1</th>\n",
       "      <td>20</td>\n",
       "      <td>50</td>\n",
       "      <td>80</td>\n",
       "    </tr>\n",
       "    <tr>\n",
       "      <th>2</th>\n",
       "      <td>30</td>\n",
       "      <td>60</td>\n",
       "      <td>90</td>\n",
       "    </tr>\n",
       "  </tbody>\n",
       "</table>\n",
       "</div>"
      ],
      "text/plain": [
       "    A   B   C\n",
       "0  10  40  70\n",
       "1  20  50  80\n",
       "2  30  60  90"
      ]
     },
     "execution_count": 16,
     "metadata": {},
     "output_type": "execute_result"
    }
   ],
   "source": [
    "dat2"
   ]
  },
  {
   "cell_type": "code",
   "execution_count": 17,
   "id": "ba5807d2",
   "metadata": {},
   "outputs": [
    {
     "data": {
      "text/html": [
       "<div>\n",
       "<style scoped>\n",
       "    .dataframe tbody tr th:only-of-type {\n",
       "        vertical-align: middle;\n",
       "    }\n",
       "\n",
       "    .dataframe tbody tr th {\n",
       "        vertical-align: top;\n",
       "    }\n",
       "\n",
       "    .dataframe thead th {\n",
       "        text-align: right;\n",
       "    }\n",
       "</style>\n",
       "<table border=\"1\" class=\"dataframe\">\n",
       "  <thead>\n",
       "    <tr style=\"text-align: right;\">\n",
       "      <th></th>\n",
       "      <th>A</th>\n",
       "      <th>B</th>\n",
       "      <th>C</th>\n",
       "    </tr>\n",
       "  </thead>\n",
       "  <tbody>\n",
       "    <tr>\n",
       "      <th>0</th>\n",
       "      <td>1</td>\n",
       "      <td>4</td>\n",
       "      <td>7</td>\n",
       "    </tr>\n",
       "    <tr>\n",
       "      <th>1</th>\n",
       "      <td>2</td>\n",
       "      <td>5</td>\n",
       "      <td>8</td>\n",
       "    </tr>\n",
       "    <tr>\n",
       "      <th>2</th>\n",
       "      <td>3</td>\n",
       "      <td>6</td>\n",
       "      <td>9</td>\n",
       "    </tr>\n",
       "    <tr>\n",
       "      <th>0</th>\n",
       "      <td>10</td>\n",
       "      <td>40</td>\n",
       "      <td>70</td>\n",
       "    </tr>\n",
       "    <tr>\n",
       "      <th>1</th>\n",
       "      <td>20</td>\n",
       "      <td>50</td>\n",
       "      <td>80</td>\n",
       "    </tr>\n",
       "    <tr>\n",
       "      <th>2</th>\n",
       "      <td>30</td>\n",
       "      <td>60</td>\n",
       "      <td>90</td>\n",
       "    </tr>\n",
       "  </tbody>\n",
       "</table>\n",
       "</div>"
      ],
      "text/plain": [
       "    A   B   C\n",
       "0   1   4   7\n",
       "1   2   5   8\n",
       "2   3   6   9\n",
       "0  10  40  70\n",
       "1  20  50  80\n",
       "2  30  60  90"
      ]
     },
     "execution_count": 17,
     "metadata": {},
     "output_type": "execute_result"
    }
   ],
   "source": [
    "pd.concat([dat, dat2])"
   ]
  },
  {
   "cell_type": "code",
   "execution_count": 18,
   "id": "188a708a",
   "metadata": {},
   "outputs": [
    {
     "data": {
      "text/html": [
       "<div>\n",
       "<style scoped>\n",
       "    .dataframe tbody tr th:only-of-type {\n",
       "        vertical-align: middle;\n",
       "    }\n",
       "\n",
       "    .dataframe tbody tr th {\n",
       "        vertical-align: top;\n",
       "    }\n",
       "\n",
       "    .dataframe thead th {\n",
       "        text-align: right;\n",
       "    }\n",
       "</style>\n",
       "<table border=\"1\" class=\"dataframe\">\n",
       "  <thead>\n",
       "    <tr style=\"text-align: right;\">\n",
       "      <th></th>\n",
       "      <th>A</th>\n",
       "      <th>B</th>\n",
       "      <th>C</th>\n",
       "      <th>A</th>\n",
       "      <th>B</th>\n",
       "      <th>C</th>\n",
       "    </tr>\n",
       "  </thead>\n",
       "  <tbody>\n",
       "    <tr>\n",
       "      <th>0</th>\n",
       "      <td>1</td>\n",
       "      <td>4</td>\n",
       "      <td>7</td>\n",
       "      <td>10</td>\n",
       "      <td>40</td>\n",
       "      <td>70</td>\n",
       "    </tr>\n",
       "    <tr>\n",
       "      <th>1</th>\n",
       "      <td>2</td>\n",
       "      <td>5</td>\n",
       "      <td>8</td>\n",
       "      <td>20</td>\n",
       "      <td>50</td>\n",
       "      <td>80</td>\n",
       "    </tr>\n",
       "    <tr>\n",
       "      <th>2</th>\n",
       "      <td>3</td>\n",
       "      <td>6</td>\n",
       "      <td>9</td>\n",
       "      <td>30</td>\n",
       "      <td>60</td>\n",
       "      <td>90</td>\n",
       "    </tr>\n",
       "  </tbody>\n",
       "</table>\n",
       "</div>"
      ],
      "text/plain": [
       "   A  B  C   A   B   C\n",
       "0  1  4  7  10  40  70\n",
       "1  2  5  8  20  50  80\n",
       "2  3  6  9  30  60  90"
      ]
     },
     "execution_count": 18,
     "metadata": {},
     "output_type": "execute_result"
    }
   ],
   "source": [
    "pd.concat([dat, dat2], axis=1)"
   ]
  },
  {
   "cell_type": "markdown",
   "id": "1593f4f5",
   "metadata": {},
   "source": [
    "### Merge DataFrames"
   ]
  },
  {
   "cell_type": "code",
   "execution_count": 22,
   "id": "9d9422a1",
   "metadata": {},
   "outputs": [],
   "source": [
    "dicti = {'A' : [1, 2, 3], 'B' : [ 4, 5, 6], 'Clave' : ['c1', 'c2', 'c3']}"
   ]
  },
  {
   "cell_type": "code",
   "execution_count": 23,
   "id": "697bb162",
   "metadata": {},
   "outputs": [],
   "source": [
    "data = pd.DataFrame(dicti)"
   ]
  },
  {
   "cell_type": "code",
   "execution_count": 24,
   "id": "66df758b",
   "metadata": {},
   "outputs": [
    {
     "data": {
      "text/html": [
       "<div>\n",
       "<style scoped>\n",
       "    .dataframe tbody tr th:only-of-type {\n",
       "        vertical-align: middle;\n",
       "    }\n",
       "\n",
       "    .dataframe tbody tr th {\n",
       "        vertical-align: top;\n",
       "    }\n",
       "\n",
       "    .dataframe thead th {\n",
       "        text-align: right;\n",
       "    }\n",
       "</style>\n",
       "<table border=\"1\" class=\"dataframe\">\n",
       "  <thead>\n",
       "    <tr style=\"text-align: right;\">\n",
       "      <th></th>\n",
       "      <th>A</th>\n",
       "      <th>B</th>\n",
       "      <th>Clave</th>\n",
       "    </tr>\n",
       "  </thead>\n",
       "  <tbody>\n",
       "    <tr>\n",
       "      <th>0</th>\n",
       "      <td>1</td>\n",
       "      <td>4</td>\n",
       "      <td>c1</td>\n",
       "    </tr>\n",
       "    <tr>\n",
       "      <th>1</th>\n",
       "      <td>2</td>\n",
       "      <td>5</td>\n",
       "      <td>c2</td>\n",
       "    </tr>\n",
       "    <tr>\n",
       "      <th>2</th>\n",
       "      <td>3</td>\n",
       "      <td>6</td>\n",
       "      <td>c3</td>\n",
       "    </tr>\n",
       "  </tbody>\n",
       "</table>\n",
       "</div>"
      ],
      "text/plain": [
       "   A  B Clave\n",
       "0  1  4    c1\n",
       "1  2  5    c2\n",
       "2  3  6    c3"
      ]
     },
     "execution_count": 24,
     "metadata": {},
     "output_type": "execute_result"
    }
   ],
   "source": [
    "data"
   ]
  },
  {
   "cell_type": "code",
   "execution_count": 25,
   "id": "14d952c9",
   "metadata": {},
   "outputs": [],
   "source": [
    "dicti2 = {'A' : [11, 12, 13], 'B' : [ 14, 15, 16], 'Clave' : ['c1', 'c2', 'c3']}"
   ]
  },
  {
   "cell_type": "code",
   "execution_count": 27,
   "id": "98cac78e",
   "metadata": {},
   "outputs": [],
   "source": [
    "data2 = pd.DataFrame(dicti2)"
   ]
  },
  {
   "cell_type": "code",
   "execution_count": 28,
   "id": "2c265348",
   "metadata": {},
   "outputs": [
    {
     "data": {
      "text/html": [
       "<div>\n",
       "<style scoped>\n",
       "    .dataframe tbody tr th:only-of-type {\n",
       "        vertical-align: middle;\n",
       "    }\n",
       "\n",
       "    .dataframe tbody tr th {\n",
       "        vertical-align: top;\n",
       "    }\n",
       "\n",
       "    .dataframe thead th {\n",
       "        text-align: right;\n",
       "    }\n",
       "</style>\n",
       "<table border=\"1\" class=\"dataframe\">\n",
       "  <thead>\n",
       "    <tr style=\"text-align: right;\">\n",
       "      <th></th>\n",
       "      <th>A</th>\n",
       "      <th>B</th>\n",
       "      <th>Clave</th>\n",
       "    </tr>\n",
       "  </thead>\n",
       "  <tbody>\n",
       "    <tr>\n",
       "      <th>0</th>\n",
       "      <td>11</td>\n",
       "      <td>14</td>\n",
       "      <td>c1</td>\n",
       "    </tr>\n",
       "    <tr>\n",
       "      <th>1</th>\n",
       "      <td>12</td>\n",
       "      <td>15</td>\n",
       "      <td>c2</td>\n",
       "    </tr>\n",
       "    <tr>\n",
       "      <th>2</th>\n",
       "      <td>13</td>\n",
       "      <td>16</td>\n",
       "      <td>c3</td>\n",
       "    </tr>\n",
       "  </tbody>\n",
       "</table>\n",
       "</div>"
      ],
      "text/plain": [
       "    A   B Clave\n",
       "0  11  14    c1\n",
       "1  12  15    c2\n",
       "2  13  16    c3"
      ]
     },
     "execution_count": 28,
     "metadata": {},
     "output_type": "execute_result"
    }
   ],
   "source": [
    "data2"
   ]
  },
  {
   "cell_type": "code",
   "execution_count": 29,
   "id": "2081badf",
   "metadata": {},
   "outputs": [
    {
     "data": {
      "text/html": [
       "<div>\n",
       "<style scoped>\n",
       "    .dataframe tbody tr th:only-of-type {\n",
       "        vertical-align: middle;\n",
       "    }\n",
       "\n",
       "    .dataframe tbody tr th {\n",
       "        vertical-align: top;\n",
       "    }\n",
       "\n",
       "    .dataframe thead th {\n",
       "        text-align: right;\n",
       "    }\n",
       "</style>\n",
       "<table border=\"1\" class=\"dataframe\">\n",
       "  <thead>\n",
       "    <tr style=\"text-align: right;\">\n",
       "      <th></th>\n",
       "      <th>A_x</th>\n",
       "      <th>B_x</th>\n",
       "      <th>Clave</th>\n",
       "      <th>A_y</th>\n",
       "      <th>B_y</th>\n",
       "    </tr>\n",
       "  </thead>\n",
       "  <tbody>\n",
       "    <tr>\n",
       "      <th>0</th>\n",
       "      <td>1</td>\n",
       "      <td>4</td>\n",
       "      <td>c1</td>\n",
       "      <td>11</td>\n",
       "      <td>14</td>\n",
       "    </tr>\n",
       "    <tr>\n",
       "      <th>1</th>\n",
       "      <td>2</td>\n",
       "      <td>5</td>\n",
       "      <td>c2</td>\n",
       "      <td>12</td>\n",
       "      <td>15</td>\n",
       "    </tr>\n",
       "    <tr>\n",
       "      <th>2</th>\n",
       "      <td>3</td>\n",
       "      <td>6</td>\n",
       "      <td>c3</td>\n",
       "      <td>13</td>\n",
       "      <td>16</td>\n",
       "    </tr>\n",
       "  </tbody>\n",
       "</table>\n",
       "</div>"
      ],
      "text/plain": [
       "   A_x  B_x Clave  A_y  B_y\n",
       "0    1    4    c1   11   14\n",
       "1    2    5    c2   12   15\n",
       "2    3    6    c3   13   16"
      ]
     },
     "execution_count": 29,
     "metadata": {},
     "output_type": "execute_result"
    }
   ],
   "source": [
    "pd.merge(data, data2, on='Clave')"
   ]
  },
  {
   "cell_type": "markdown",
   "id": "e221afa3",
   "metadata": {},
   "source": [
    "### Join DataFrames"
   ]
  },
  {
   "cell_type": "code",
   "execution_count": 32,
   "id": "5ffa01fe",
   "metadata": {},
   "outputs": [],
   "source": [
    "dictio = {'A' : [1, 2, 3], 'B' : [ 4, 5, 6]}\n",
    "dataf = pd.DataFrame(dictio, index = ['i1', 'i2', 'i3'])"
   ]
  },
  {
   "cell_type": "code",
   "execution_count": 33,
   "id": "3361eed6",
   "metadata": {},
   "outputs": [
    {
     "data": {
      "text/html": [
       "<div>\n",
       "<style scoped>\n",
       "    .dataframe tbody tr th:only-of-type {\n",
       "        vertical-align: middle;\n",
       "    }\n",
       "\n",
       "    .dataframe tbody tr th {\n",
       "        vertical-align: top;\n",
       "    }\n",
       "\n",
       "    .dataframe thead th {\n",
       "        text-align: right;\n",
       "    }\n",
       "</style>\n",
       "<table border=\"1\" class=\"dataframe\">\n",
       "  <thead>\n",
       "    <tr style=\"text-align: right;\">\n",
       "      <th></th>\n",
       "      <th>A</th>\n",
       "      <th>B</th>\n",
       "    </tr>\n",
       "  </thead>\n",
       "  <tbody>\n",
       "    <tr>\n",
       "      <th>i1</th>\n",
       "      <td>1</td>\n",
       "      <td>4</td>\n",
       "    </tr>\n",
       "    <tr>\n",
       "      <th>i2</th>\n",
       "      <td>2</td>\n",
       "      <td>5</td>\n",
       "    </tr>\n",
       "    <tr>\n",
       "      <th>i3</th>\n",
       "      <td>3</td>\n",
       "      <td>6</td>\n",
       "    </tr>\n",
       "  </tbody>\n",
       "</table>\n",
       "</div>"
      ],
      "text/plain": [
       "    A  B\n",
       "i1  1  4\n",
       "i2  2  5\n",
       "i3  3  6"
      ]
     },
     "execution_count": 33,
     "metadata": {},
     "output_type": "execute_result"
    }
   ],
   "source": [
    "dataf"
   ]
  },
  {
   "cell_type": "code",
   "execution_count": 39,
   "id": "1372095b",
   "metadata": {},
   "outputs": [],
   "source": [
    "dictio2 = {'C' : [11, 12, 13], 'D' : [ 14, 15, 16]}\n",
    "dataf2 = pd.DataFrame(dictio2, index = ['i1', 'i2', 'i3'])"
   ]
  },
  {
   "cell_type": "code",
   "execution_count": 40,
   "id": "ab090d20",
   "metadata": {},
   "outputs": [
    {
     "data": {
      "text/html": [
       "<div>\n",
       "<style scoped>\n",
       "    .dataframe tbody tr th:only-of-type {\n",
       "        vertical-align: middle;\n",
       "    }\n",
       "\n",
       "    .dataframe tbody tr th {\n",
       "        vertical-align: top;\n",
       "    }\n",
       "\n",
       "    .dataframe thead th {\n",
       "        text-align: right;\n",
       "    }\n",
       "</style>\n",
       "<table border=\"1\" class=\"dataframe\">\n",
       "  <thead>\n",
       "    <tr style=\"text-align: right;\">\n",
       "      <th></th>\n",
       "      <th>C</th>\n",
       "      <th>D</th>\n",
       "    </tr>\n",
       "  </thead>\n",
       "  <tbody>\n",
       "    <tr>\n",
       "      <th>i1</th>\n",
       "      <td>11</td>\n",
       "      <td>14</td>\n",
       "    </tr>\n",
       "    <tr>\n",
       "      <th>i2</th>\n",
       "      <td>12</td>\n",
       "      <td>15</td>\n",
       "    </tr>\n",
       "    <tr>\n",
       "      <th>i3</th>\n",
       "      <td>13</td>\n",
       "      <td>16</td>\n",
       "    </tr>\n",
       "  </tbody>\n",
       "</table>\n",
       "</div>"
      ],
      "text/plain": [
       "     C   D\n",
       "i1  11  14\n",
       "i2  12  15\n",
       "i3  13  16"
      ]
     },
     "execution_count": 40,
     "metadata": {},
     "output_type": "execute_result"
    }
   ],
   "source": [
    "dataf2"
   ]
  },
  {
   "cell_type": "code",
   "execution_count": 41,
   "id": "b5a3b1c0",
   "metadata": {},
   "outputs": [
    {
     "data": {
      "text/html": [
       "<div>\n",
       "<style scoped>\n",
       "    .dataframe tbody tr th:only-of-type {\n",
       "        vertical-align: middle;\n",
       "    }\n",
       "\n",
       "    .dataframe tbody tr th {\n",
       "        vertical-align: top;\n",
       "    }\n",
       "\n",
       "    .dataframe thead th {\n",
       "        text-align: right;\n",
       "    }\n",
       "</style>\n",
       "<table border=\"1\" class=\"dataframe\">\n",
       "  <thead>\n",
       "    <tr style=\"text-align: right;\">\n",
       "      <th></th>\n",
       "      <th>A</th>\n",
       "      <th>B</th>\n",
       "      <th>C</th>\n",
       "      <th>D</th>\n",
       "    </tr>\n",
       "  </thead>\n",
       "  <tbody>\n",
       "    <tr>\n",
       "      <th>i1</th>\n",
       "      <td>1</td>\n",
       "      <td>4</td>\n",
       "      <td>11</td>\n",
       "      <td>14</td>\n",
       "    </tr>\n",
       "    <tr>\n",
       "      <th>i2</th>\n",
       "      <td>2</td>\n",
       "      <td>5</td>\n",
       "      <td>12</td>\n",
       "      <td>15</td>\n",
       "    </tr>\n",
       "    <tr>\n",
       "      <th>i3</th>\n",
       "      <td>3</td>\n",
       "      <td>6</td>\n",
       "      <td>13</td>\n",
       "      <td>16</td>\n",
       "    </tr>\n",
       "  </tbody>\n",
       "</table>\n",
       "</div>"
      ],
      "text/plain": [
       "    A  B   C   D\n",
       "i1  1  4  11  14\n",
       "i2  2  5  12  15\n",
       "i3  3  6  13  16"
      ]
     },
     "execution_count": 41,
     "metadata": {},
     "output_type": "execute_result"
    }
   ],
   "source": [
    "dataf.join(dataf2)"
   ]
  },
  {
   "cell_type": "markdown",
   "id": "61f14309",
   "metadata": {},
   "source": [
    "### Operations"
   ]
  },
  {
   "cell_type": "code",
   "execution_count": 42,
   "id": "556b2328",
   "metadata": {},
   "outputs": [],
   "source": [
    "dicc = {'A' : [11, 12, 13, 12], 'B' : [ 14, 15, 16, 17]}"
   ]
  },
  {
   "cell_type": "code",
   "execution_count": 43,
   "id": "39b3217c",
   "metadata": {},
   "outputs": [],
   "source": [
    "datafr = pd.DataFrame(dicc, index = ['i1', 'i2', 'i3', 'i4'])"
   ]
  },
  {
   "cell_type": "code",
   "execution_count": 44,
   "id": "e6862cfc",
   "metadata": {},
   "outputs": [
    {
     "data": {
      "text/html": [
       "<div>\n",
       "<style scoped>\n",
       "    .dataframe tbody tr th:only-of-type {\n",
       "        vertical-align: middle;\n",
       "    }\n",
       "\n",
       "    .dataframe tbody tr th {\n",
       "        vertical-align: top;\n",
       "    }\n",
       "\n",
       "    .dataframe thead th {\n",
       "        text-align: right;\n",
       "    }\n",
       "</style>\n",
       "<table border=\"1\" class=\"dataframe\">\n",
       "  <thead>\n",
       "    <tr style=\"text-align: right;\">\n",
       "      <th></th>\n",
       "      <th>A</th>\n",
       "      <th>B</th>\n",
       "    </tr>\n",
       "  </thead>\n",
       "  <tbody>\n",
       "    <tr>\n",
       "      <th>i1</th>\n",
       "      <td>11</td>\n",
       "      <td>14</td>\n",
       "    </tr>\n",
       "    <tr>\n",
       "      <th>i2</th>\n",
       "      <td>12</td>\n",
       "      <td>15</td>\n",
       "    </tr>\n",
       "    <tr>\n",
       "      <th>i3</th>\n",
       "      <td>13</td>\n",
       "      <td>16</td>\n",
       "    </tr>\n",
       "    <tr>\n",
       "      <th>i4</th>\n",
       "      <td>12</td>\n",
       "      <td>17</td>\n",
       "    </tr>\n",
       "  </tbody>\n",
       "</table>\n",
       "</div>"
      ],
      "text/plain": [
       "     A   B\n",
       "i1  11  14\n",
       "i2  12  15\n",
       "i3  13  16\n",
       "i4  12  17"
      ]
     },
     "execution_count": 44,
     "metadata": {},
     "output_type": "execute_result"
    }
   ],
   "source": [
    "datafr"
   ]
  },
  {
   "cell_type": "code",
   "execution_count": 45,
   "id": "dcbc0910",
   "metadata": {},
   "outputs": [
    {
     "data": {
      "text/plain": [
       "array([11, 12, 13], dtype=int64)"
      ]
     },
     "execution_count": 45,
     "metadata": {},
     "output_type": "execute_result"
    }
   ],
   "source": [
    "datafr['A'].unique()"
   ]
  },
  {
   "cell_type": "code",
   "execution_count": 46,
   "id": "b48eb02d",
   "metadata": {},
   "outputs": [
    {
     "data": {
      "text/plain": [
       "3"
      ]
     },
     "execution_count": 46,
     "metadata": {},
     "output_type": "execute_result"
    }
   ],
   "source": [
    "datafr['A'].nunique()"
   ]
  },
  {
   "cell_type": "code",
   "execution_count": 47,
   "id": "b36506a0",
   "metadata": {},
   "outputs": [
    {
     "data": {
      "text/plain": [
       "12    2\n",
       "11    1\n",
       "13    1\n",
       "Name: A, dtype: int64"
      ]
     },
     "execution_count": 47,
     "metadata": {},
     "output_type": "execute_result"
    }
   ],
   "source": [
    "datafr['A'].value_counts()"
   ]
  },
  {
   "cell_type": "code",
   "execution_count": 48,
   "id": "54224e7c",
   "metadata": {},
   "outputs": [],
   "source": [
    "def multiplicar(x):\n",
    "    return x * 2"
   ]
  },
  {
   "cell_type": "code",
   "execution_count": 49,
   "id": "01f338e8",
   "metadata": {},
   "outputs": [
    {
     "data": {
      "text/plain": [
       "i1    22\n",
       "i2    24\n",
       "i3    26\n",
       "i4    24\n",
       "Name: A, dtype: int64"
      ]
     },
     "execution_count": 49,
     "metadata": {},
     "output_type": "execute_result"
    }
   ],
   "source": [
    "datafr['A'].apply(multiplicar)"
   ]
  },
  {
   "cell_type": "code",
   "execution_count": 50,
   "id": "67d0877a",
   "metadata": {},
   "outputs": [
    {
     "data": {
      "text/plain": [
       "i1    22\n",
       "i2    24\n",
       "i3    26\n",
       "i4    24\n",
       "Name: A, dtype: int64"
      ]
     },
     "execution_count": 50,
     "metadata": {},
     "output_type": "execute_result"
    }
   ],
   "source": [
    "datafr['A'].apply(lambda x: x * 2)"
   ]
  },
  {
   "cell_type": "code",
   "execution_count": 52,
   "id": "6b90bc9b",
   "metadata": {},
   "outputs": [
    {
     "data": {
      "text/html": [
       "<div>\n",
       "<style scoped>\n",
       "    .dataframe tbody tr th:only-of-type {\n",
       "        vertical-align: middle;\n",
       "    }\n",
       "\n",
       "    .dataframe tbody tr th {\n",
       "        vertical-align: top;\n",
       "    }\n",
       "\n",
       "    .dataframe thead th {\n",
       "        text-align: right;\n",
       "    }\n",
       "</style>\n",
       "<table border=\"1\" class=\"dataframe\">\n",
       "  <thead>\n",
       "    <tr style=\"text-align: right;\">\n",
       "      <th></th>\n",
       "      <th>A</th>\n",
       "    </tr>\n",
       "  </thead>\n",
       "  <tbody>\n",
       "    <tr>\n",
       "      <th>i1</th>\n",
       "      <td>11</td>\n",
       "    </tr>\n",
       "    <tr>\n",
       "      <th>i2</th>\n",
       "      <td>12</td>\n",
       "    </tr>\n",
       "    <tr>\n",
       "      <th>i3</th>\n",
       "      <td>13</td>\n",
       "    </tr>\n",
       "    <tr>\n",
       "      <th>i4</th>\n",
       "      <td>12</td>\n",
       "    </tr>\n",
       "  </tbody>\n",
       "</table>\n",
       "</div>"
      ],
      "text/plain": [
       "     A\n",
       "i1  11\n",
       "i2  12\n",
       "i3  13\n",
       "i4  12"
      ]
     },
     "execution_count": 52,
     "metadata": {},
     "output_type": "execute_result"
    }
   ],
   "source": [
    "datafr.drop('B', axis=1)"
   ]
  },
  {
   "cell_type": "code",
   "execution_count": 54,
   "id": "7f6e26f4",
   "metadata": {},
   "outputs": [
    {
     "data": {
      "text/html": [
       "<div>\n",
       "<style scoped>\n",
       "    .dataframe tbody tr th:only-of-type {\n",
       "        vertical-align: middle;\n",
       "    }\n",
       "\n",
       "    .dataframe tbody tr th {\n",
       "        vertical-align: top;\n",
       "    }\n",
       "\n",
       "    .dataframe thead th {\n",
       "        text-align: right;\n",
       "    }\n",
       "</style>\n",
       "<table border=\"1\" class=\"dataframe\">\n",
       "  <thead>\n",
       "    <tr style=\"text-align: right;\">\n",
       "      <th></th>\n",
       "      <th>A</th>\n",
       "      <th>B</th>\n",
       "    </tr>\n",
       "  </thead>\n",
       "  <tbody>\n",
       "    <tr>\n",
       "      <th>i2</th>\n",
       "      <td>12</td>\n",
       "      <td>15</td>\n",
       "    </tr>\n",
       "    <tr>\n",
       "      <th>i3</th>\n",
       "      <td>13</td>\n",
       "      <td>16</td>\n",
       "    </tr>\n",
       "    <tr>\n",
       "      <th>i4</th>\n",
       "      <td>12</td>\n",
       "      <td>17</td>\n",
       "    </tr>\n",
       "  </tbody>\n",
       "</table>\n",
       "</div>"
      ],
      "text/plain": [
       "     A   B\n",
       "i2  12  15\n",
       "i3  13  16\n",
       "i4  12  17"
      ]
     },
     "execution_count": 54,
     "metadata": {},
     "output_type": "execute_result"
    }
   ],
   "source": [
    "datafr.drop('i1')"
   ]
  },
  {
   "cell_type": "code",
   "execution_count": 55,
   "id": "d8070d2b",
   "metadata": {},
   "outputs": [
    {
     "data": {
      "text/plain": [
       "Index(['A', 'B'], dtype='object')"
      ]
     },
     "execution_count": 55,
     "metadata": {},
     "output_type": "execute_result"
    }
   ],
   "source": [
    "datafr.columns"
   ]
  },
  {
   "cell_type": "code",
   "execution_count": 56,
   "id": "9a29be8e",
   "metadata": {},
   "outputs": [
    {
     "data": {
      "text/html": [
       "<div>\n",
       "<style scoped>\n",
       "    .dataframe tbody tr th:only-of-type {\n",
       "        vertical-align: middle;\n",
       "    }\n",
       "\n",
       "    .dataframe tbody tr th {\n",
       "        vertical-align: top;\n",
       "    }\n",
       "\n",
       "    .dataframe thead th {\n",
       "        text-align: right;\n",
       "    }\n",
       "</style>\n",
       "<table border=\"1\" class=\"dataframe\">\n",
       "  <thead>\n",
       "    <tr style=\"text-align: right;\">\n",
       "      <th></th>\n",
       "      <th>A</th>\n",
       "      <th>B</th>\n",
       "    </tr>\n",
       "  </thead>\n",
       "  <tbody>\n",
       "    <tr>\n",
       "      <th>i1</th>\n",
       "      <td>11</td>\n",
       "      <td>14</td>\n",
       "    </tr>\n",
       "    <tr>\n",
       "      <th>i2</th>\n",
       "      <td>12</td>\n",
       "      <td>15</td>\n",
       "    </tr>\n",
       "    <tr>\n",
       "      <th>i3</th>\n",
       "      <td>13</td>\n",
       "      <td>16</td>\n",
       "    </tr>\n",
       "    <tr>\n",
       "      <th>i4</th>\n",
       "      <td>12</td>\n",
       "      <td>17</td>\n",
       "    </tr>\n",
       "  </tbody>\n",
       "</table>\n",
       "</div>"
      ],
      "text/plain": [
       "     A   B\n",
       "i1  11  14\n",
       "i2  12  15\n",
       "i3  13  16\n",
       "i4  12  17"
      ]
     },
     "execution_count": 56,
     "metadata": {},
     "output_type": "execute_result"
    }
   ],
   "source": [
    "datafr.sort_values('B')"
   ]
  },
  {
   "cell_type": "markdown",
   "id": "49cf4eea",
   "metadata": {},
   "source": [
    "### Files"
   ]
  },
  {
   "cell_type": "code",
   "execution_count": 57,
   "id": "3f0385e2",
   "metadata": {},
   "outputs": [
    {
     "data": {
      "text/plain": [
       "'C:\\\\Users\\\\carlo\\\\Documents\\\\Machine-Learning\\\\Pandas'"
      ]
     },
     "execution_count": 57,
     "metadata": {},
     "output_type": "execute_result"
    }
   ],
   "source": [
    "pwd"
   ]
  },
  {
   "cell_type": "code",
   "execution_count": 58,
   "id": "df3978b2",
   "metadata": {},
   "outputs": [
    {
     "name": "stdout",
     "output_type": "stream",
     "text": [
      " El volumen de la unidad C es Windows-SSD\n",
      " El número de serie del volumen es: 9E6A-3162\n",
      "\n",
      " Directorio de C:\\Users\\carlo\\Documents\\Machine-Learning\\Pandas\n",
      "\n",
      "04/03/2024  11:34 p. m.    <DIR>          .\n",
      "29/02/2024  11:02 p. m.    <DIR>          ..\n",
      "29/02/2024  11:03 p. m.    <DIR>          .ipynb_checkpoints\n",
      "04/03/2024  11:34 p. m.            88,369 Pandas.ipynb\n",
      "               1 archivos         88,369 bytes\n",
      "               3 dirs  577,060,007,936 bytes libres\n"
     ]
    }
   ],
   "source": [
    "ls"
   ]
  },
  {
   "cell_type": "code",
   "execution_count": 59,
   "id": "3102a365",
   "metadata": {},
   "outputs": [],
   "source": [
    "dataframe_file = pd.read_excel('Ejemplo_excel.xlsx')"
   ]
  },
  {
   "cell_type": "code",
   "execution_count": 60,
   "id": "79a1144e",
   "metadata": {},
   "outputs": [
    {
     "data": {
      "text/html": [
       "<div>\n",
       "<style scoped>\n",
       "    .dataframe tbody tr th:only-of-type {\n",
       "        vertical-align: middle;\n",
       "    }\n",
       "\n",
       "    .dataframe tbody tr th {\n",
       "        vertical-align: top;\n",
       "    }\n",
       "\n",
       "    .dataframe thead th {\n",
       "        text-align: right;\n",
       "    }\n",
       "</style>\n",
       "<table border=\"1\" class=\"dataframe\">\n",
       "  <thead>\n",
       "    <tr style=\"text-align: right;\">\n",
       "      <th></th>\n",
       "      <th>Unnamed: 0</th>\n",
       "      <th>a</th>\n",
       "      <th>b</th>\n",
       "      <th>c</th>\n",
       "      <th>d</th>\n",
       "    </tr>\n",
       "  </thead>\n",
       "  <tbody>\n",
       "    <tr>\n",
       "      <th>0</th>\n",
       "      <td>0</td>\n",
       "      <td>0</td>\n",
       "      <td>1</td>\n",
       "      <td>2</td>\n",
       "      <td>3</td>\n",
       "    </tr>\n",
       "    <tr>\n",
       "      <th>1</th>\n",
       "      <td>1</td>\n",
       "      <td>4</td>\n",
       "      <td>5</td>\n",
       "      <td>6</td>\n",
       "      <td>7</td>\n",
       "    </tr>\n",
       "    <tr>\n",
       "      <th>2</th>\n",
       "      <td>2</td>\n",
       "      <td>8</td>\n",
       "      <td>9</td>\n",
       "      <td>10</td>\n",
       "      <td>11</td>\n",
       "    </tr>\n",
       "    <tr>\n",
       "      <th>3</th>\n",
       "      <td>3</td>\n",
       "      <td>12</td>\n",
       "      <td>13</td>\n",
       "      <td>14</td>\n",
       "      <td>15</td>\n",
       "    </tr>\n",
       "  </tbody>\n",
       "</table>\n",
       "</div>"
      ],
      "text/plain": [
       "   Unnamed: 0   a   b   c   d\n",
       "0           0   0   1   2   3\n",
       "1           1   4   5   6   7\n",
       "2           2   8   9  10  11\n",
       "3           3  12  13  14  15"
      ]
     },
     "execution_count": 60,
     "metadata": {},
     "output_type": "execute_result"
    }
   ],
   "source": [
    "dataframe_file"
   ]
  },
  {
   "cell_type": "code",
   "execution_count": 61,
   "id": "efe64f3a",
   "metadata": {},
   "outputs": [],
   "source": [
    "dataframe_file['e'] = [20, 21, 22, 23]"
   ]
  },
  {
   "cell_type": "code",
   "execution_count": 62,
   "id": "e1f49e60",
   "metadata": {},
   "outputs": [
    {
     "data": {
      "text/html": [
       "<div>\n",
       "<style scoped>\n",
       "    .dataframe tbody tr th:only-of-type {\n",
       "        vertical-align: middle;\n",
       "    }\n",
       "\n",
       "    .dataframe tbody tr th {\n",
       "        vertical-align: top;\n",
       "    }\n",
       "\n",
       "    .dataframe thead th {\n",
       "        text-align: right;\n",
       "    }\n",
       "</style>\n",
       "<table border=\"1\" class=\"dataframe\">\n",
       "  <thead>\n",
       "    <tr style=\"text-align: right;\">\n",
       "      <th></th>\n",
       "      <th>Unnamed: 0</th>\n",
       "      <th>a</th>\n",
       "      <th>b</th>\n",
       "      <th>c</th>\n",
       "      <th>d</th>\n",
       "      <th>e</th>\n",
       "    </tr>\n",
       "  </thead>\n",
       "  <tbody>\n",
       "    <tr>\n",
       "      <th>0</th>\n",
       "      <td>0</td>\n",
       "      <td>0</td>\n",
       "      <td>1</td>\n",
       "      <td>2</td>\n",
       "      <td>3</td>\n",
       "      <td>20</td>\n",
       "    </tr>\n",
       "    <tr>\n",
       "      <th>1</th>\n",
       "      <td>1</td>\n",
       "      <td>4</td>\n",
       "      <td>5</td>\n",
       "      <td>6</td>\n",
       "      <td>7</td>\n",
       "      <td>21</td>\n",
       "    </tr>\n",
       "    <tr>\n",
       "      <th>2</th>\n",
       "      <td>2</td>\n",
       "      <td>8</td>\n",
       "      <td>9</td>\n",
       "      <td>10</td>\n",
       "      <td>11</td>\n",
       "      <td>22</td>\n",
       "    </tr>\n",
       "    <tr>\n",
       "      <th>3</th>\n",
       "      <td>3</td>\n",
       "      <td>12</td>\n",
       "      <td>13</td>\n",
       "      <td>14</td>\n",
       "      <td>15</td>\n",
       "      <td>23</td>\n",
       "    </tr>\n",
       "  </tbody>\n",
       "</table>\n",
       "</div>"
      ],
      "text/plain": [
       "   Unnamed: 0   a   b   c   d   e\n",
       "0           0   0   1   2   3  20\n",
       "1           1   4   5   6   7  21\n",
       "2           2   8   9  10  11  22\n",
       "3           3  12  13  14  15  23"
      ]
     },
     "execution_count": 62,
     "metadata": {},
     "output_type": "execute_result"
    }
   ],
   "source": [
    "dataframe_file"
   ]
  },
  {
   "cell_type": "code",
   "execution_count": 64,
   "id": "389e0d17",
   "metadata": {},
   "outputs": [],
   "source": [
    "dataframe_file.to_excel('salida.xlsx', sheet_name='Hoja1')"
   ]
  },
  {
   "cell_type": "code",
   "execution_count": 65,
   "id": "c5aada4c",
   "metadata": {},
   "outputs": [],
   "source": [
    "web_site = \"https://es.wikipedia.org/wiki/Anexo:Pa%C3%ADses_y_territorios_dependientes_por_poblaci%C3%B3n\""
   ]
  },
  {
   "cell_type": "code",
   "execution_count": 66,
   "id": "bb8fcdd9",
   "metadata": {},
   "outputs": [],
   "source": [
    "data_web = pd.read_html(web_site)"
   ]
  },
  {
   "cell_type": "code",
   "execution_count": 68,
   "id": "27d845d4",
   "metadata": {},
   "outputs": [
    {
     "data": {
      "text/plain": [
       "list"
      ]
     },
     "execution_count": 68,
     "metadata": {},
     "output_type": "execute_result"
    }
   ],
   "source": [
    "type(data_web)"
   ]
  },
  {
   "cell_type": "code",
   "execution_count": 70,
   "id": "bebd4a25",
   "metadata": {},
   "outputs": [],
   "source": [
    "dataframe_web = data_web[0]"
   ]
  },
  {
   "cell_type": "code",
   "execution_count": 71,
   "id": "a5edf4c9",
   "metadata": {},
   "outputs": [
    {
     "data": {
      "text/html": [
       "<div>\n",
       "<style scoped>\n",
       "    .dataframe tbody tr th:only-of-type {\n",
       "        vertical-align: middle;\n",
       "    }\n",
       "\n",
       "    .dataframe tbody tr th {\n",
       "        vertical-align: top;\n",
       "    }\n",
       "\n",
       "    .dataframe thead th {\n",
       "        text-align: right;\n",
       "    }\n",
       "</style>\n",
       "<table border=\"1\" class=\"dataframe\">\n",
       "  <thead>\n",
       "    <tr style=\"text-align: right;\">\n",
       "      <th></th>\n",
       "      <th>N.º</th>\n",
       "      <th>País (o territorio dependiente)</th>\n",
       "      <th>Proyección exponencial de la población al 1/1/2024[7]​</th>\n",
       "      <th>Total mun- dial (%)</th>\n",
       "      <th>Cambio medio anual (%)[8]​</th>\n",
       "      <th>Cambio absoluto anual promedio</th>\n",
       "      <th>Cambio medio abs. total anual (%)</th>\n",
       "      <th>Años para even- tual du- pli- ca- ción[9]​</th>\n",
       "      <th>Censo más reciente, última estimación oficial, proyección de la ONU o reloj de población nacional</th>\n",
       "      <th>Fecha de esta última cifra de población en particular (d/mm/aaaa)[10]​</th>\n",
       "      <th>Tipo[11]​</th>\n",
       "      <th>Enlace o hipervínculo (usualmente de tipo oficial) de esta última cifra de población</th>\n",
       "    </tr>\n",
       "  </thead>\n",
       "  <tbody>\n",
       "    <tr>\n",
       "      <th>0</th>\n",
       "      <td>1</td>\n",
       "      <td>China[12]​</td>\n",
       "      <td>1 409 664 000</td>\n",
       "      <td>1768</td>\n",
       "      <td>-015</td>\n",
       "      <td>-2 078 000</td>\n",
       "      <td>-</td>\n",
       "      <td>-</td>\n",
       "      <td>1 409 670 000</td>\n",
       "      <td>31/12/2023</td>\n",
       "      <td>E</td>\n",
       "      <td>www.stats.gov.cn</td>\n",
       "    </tr>\n",
       "    <tr>\n",
       "      <th>1</th>\n",
       "      <td>2</td>\n",
       "      <td>India</td>\n",
       "      <td>1 399 361 000</td>\n",
       "      <td>1755</td>\n",
       "      <td>060</td>\n",
       "      <td>8 440 000</td>\n",
       "      <td>1048</td>\n",
       "      <td>115</td>\n",
       "      <td>1 400 744 000</td>\n",
       "      <td>1/03/2024</td>\n",
       "      <td>A</td>\n",
       "      <td>main.mohfw.gov.in</td>\n",
       "    </tr>\n",
       "    <tr>\n",
       "      <th>2</th>\n",
       "      <td>3</td>\n",
       "      <td>Estados Unidos</td>\n",
       "      <td>335 893 000</td>\n",
       "      <td>421</td>\n",
       "      <td>052</td>\n",
       "      <td>1 745 000</td>\n",
       "      <td>217</td>\n",
       "      <td>134</td>\n",
       "      <td>336 122 000</td>\n",
       "      <td>2/03/2024</td>\n",
       "      <td>R</td>\n",
       "      <td>www.census.gov</td>\n",
       "    </tr>\n",
       "    <tr>\n",
       "      <th>3</th>\n",
       "      <td>4</td>\n",
       "      <td>Indonesia</td>\n",
       "      <td>285 991 000</td>\n",
       "      <td>359</td>\n",
       "      <td>172</td>\n",
       "      <td>4 917 000</td>\n",
       "      <td>610</td>\n",
       "      <td>41</td>\n",
       "      <td>271 350 000</td>\n",
       "      <td>12/2020</td>\n",
       "      <td>E</td>\n",
       "      <td>www.bps.go.id</td>\n",
       "    </tr>\n",
       "    <tr>\n",
       "      <th>4</th>\n",
       "      <td>5</td>\n",
       "      <td>Pakistán</td>\n",
       "      <td>246 675 000</td>\n",
       "      <td>309</td>\n",
       "      <td>256</td>\n",
       "      <td>6 323 000</td>\n",
       "      <td>785</td>\n",
       "      <td>27</td>\n",
       "      <td>241 499 431</td>\n",
       "      <td>1/03/2023</td>\n",
       "      <td>C</td>\n",
       "      <td>www.pbs.gov.pk</td>\n",
       "    </tr>\n",
       "    <tr>\n",
       "      <th>...</th>\n",
       "      <td>...</td>\n",
       "      <td>...</td>\n",
       "      <td>...</td>\n",
       "      <td>...</td>\n",
       "      <td>...</td>\n",
       "      <td>...</td>\n",
       "      <td>...</td>\n",
       "      <td>...</td>\n",
       "      <td>...</td>\n",
       "      <td>...</td>\n",
       "      <td>...</td>\n",
       "      <td>...</td>\n",
       "    </tr>\n",
       "    <tr>\n",
       "      <th>241</th>\n",
       "      <td>242</td>\n",
       "      <td>Islas Cocos (Australia)</td>\n",
       "      <td>600</td>\n",
       "      <td>000</td>\n",
       "      <td>174</td>\n",
       "      <td>0</td>\n",
       "      <td>000</td>\n",
       "      <td>40</td>\n",
       "      <td>593</td>\n",
       "      <td>11/08/2021</td>\n",
       "      <td>C</td>\n",
       "      <td>www.citypopulation.de</td>\n",
       "    </tr>\n",
       "    <tr>\n",
       "      <th>242</th>\n",
       "      <td>243</td>\n",
       "      <td>Islas Ultramarinas Menores de los Estados Unidos</td>\n",
       "      <td>100</td>\n",
       "      <td>000</td>\n",
       "      <td>-496</td>\n",
       "      <td>0</td>\n",
       "      <td>000</td>\n",
       "      <td>-</td>\n",
       "      <td>190</td>\n",
       "      <td>1/04/2010</td>\n",
       "      <td>C</td>\n",
       "      <td>www.statoids.com</td>\n",
       "    </tr>\n",
       "    <tr>\n",
       "      <th>243</th>\n",
       "      <td>244</td>\n",
       "      <td>Islas Pitcairn (RU)</td>\n",
       "      <td>50</td>\n",
       "      <td>000</td>\n",
       "      <td>-041</td>\n",
       "      <td>0</td>\n",
       "      <td>000</td>\n",
       "      <td>-</td>\n",
       "      <td>47</td>\n",
       "      <td>1/07/2021</td>\n",
       "      <td>E</td>\n",
       "      <td>www.visitpitcairn.pn</td>\n",
       "    </tr>\n",
       "    <tr>\n",
       "      <th>244</th>\n",
       "      <td>NaN</td>\n",
       "      <td>Mundo</td>\n",
       "      <td>7 971 606 000</td>\n",
       "      <td>10000</td>\n",
       "      <td>100</td>\n",
       "      <td>80 565 000</td>\n",
       "      <td>10000</td>\n",
       "      <td>70</td>\n",
       "      <td>8 094 800 000</td>\n",
       "      <td>2/03/2024</td>\n",
       "      <td>R</td>\n",
       "      <td>www.worldometers.info</td>\n",
       "    </tr>\n",
       "    <tr>\n",
       "      <th>245</th>\n",
       "      <td>N°</td>\n",
       "      <td>País (o territorio dependiente)</td>\n",
       "      <td>Proyección exponencial de la población al 1/1/...</td>\n",
       "      <td>Total mun- dial (%)</td>\n",
       "      <td>Cambio medio anual (%)</td>\n",
       "      <td>Cambio absoluto anual promedio</td>\n",
       "      <td>Cambio medio abs. total anual (%)</td>\n",
       "      <td>Años para even- tual du- pli- ca- ción</td>\n",
       "      <td>Censo más reciente, última estimación oficial,...</td>\n",
       "      <td>Fecha de esta última cifra de población en par...</td>\n",
       "      <td>Tipo</td>\n",
       "      <td>Enlace o hipervínculo (usualmente de tipo ofic...</td>\n",
       "    </tr>\n",
       "  </tbody>\n",
       "</table>\n",
       "<p>246 rows × 12 columns</p>\n",
       "</div>"
      ],
      "text/plain": [
       "     N.º                   País (o territorio dependiente)  \\\n",
       "0      1                                        China[12]​   \n",
       "1      2                                             India   \n",
       "2      3                                    Estados Unidos   \n",
       "3      4                                         Indonesia   \n",
       "4      5                                          Pakistán   \n",
       "..   ...                                               ...   \n",
       "241  242                           Islas Cocos (Australia)   \n",
       "242  243  Islas Ultramarinas Menores de los Estados Unidos   \n",
       "243  244                               Islas Pitcairn (RU)   \n",
       "244  NaN                                             Mundo   \n",
       "245   N°                   País (o territorio dependiente)   \n",
       "\n",
       "    Proyección exponencial de la población al 1/1/2024[7]​  \\\n",
       "0                                        1 409 664 000       \n",
       "1                                        1 399 361 000       \n",
       "2                                          335 893 000       \n",
       "3                                          285 991 000       \n",
       "4                                          246 675 000       \n",
       "..                                                 ...       \n",
       "241                                                600       \n",
       "242                                                100       \n",
       "243                                                 50       \n",
       "244                                      7 971 606 000       \n",
       "245  Proyección exponencial de la población al 1/1/...       \n",
       "\n",
       "     Total mun- dial (%) Cambio medio anual (%)[8]​  \\\n",
       "0                   1768                       -015   \n",
       "1                   1755                        060   \n",
       "2                    421                        052   \n",
       "3                    359                        172   \n",
       "4                    309                        256   \n",
       "..                   ...                        ...   \n",
       "241                  000                        174   \n",
       "242                  000                       -496   \n",
       "243                  000                       -041   \n",
       "244                10000                        100   \n",
       "245  Total mun- dial (%)     Cambio medio anual (%)   \n",
       "\n",
       "     Cambio absoluto anual promedio  Cambio medio abs. total anual (%)  \\\n",
       "0                        -2 078 000                                  -   \n",
       "1                         8 440 000                               1048   \n",
       "2                         1 745 000                                217   \n",
       "3                         4 917 000                                610   \n",
       "4                         6 323 000                                785   \n",
       "..                              ...                                ...   \n",
       "241                               0                                000   \n",
       "242                               0                                000   \n",
       "243                               0                                000   \n",
       "244                      80 565 000                              10000   \n",
       "245  Cambio absoluto anual promedio  Cambio medio abs. total anual (%)   \n",
       "\n",
       "    Años para even- tual du- pli- ca- ción[9]​  \\\n",
       "0                                            -   \n",
       "1                                          115   \n",
       "2                                          134   \n",
       "3                                           41   \n",
       "4                                           27   \n",
       "..                                         ...   \n",
       "241                                         40   \n",
       "242                                          -   \n",
       "243                                          -   \n",
       "244                                         70   \n",
       "245     Años para even- tual du- pli- ca- ción   \n",
       "\n",
       "    Censo más reciente, última estimación oficial, proyección de la ONU o reloj de población nacional  \\\n",
       "0                                        1 409 670 000                                                  \n",
       "1                                        1 400 744 000                                                  \n",
       "2                                          336 122 000                                                  \n",
       "3                                          271 350 000                                                  \n",
       "4                                          241 499 431                                                  \n",
       "..                                                 ...                                                  \n",
       "241                                                593                                                  \n",
       "242                                                190                                                  \n",
       "243                                                 47                                                  \n",
       "244                                      8 094 800 000                                                  \n",
       "245  Censo más reciente, última estimación oficial,...                                                  \n",
       "\n",
       "    Fecha de esta última cifra de población en particular (d/mm/aaaa)[10]​  \\\n",
       "0                                           31/12/2023                       \n",
       "1                                            1/03/2024                       \n",
       "2                                            2/03/2024                       \n",
       "3                                              12/2020                       \n",
       "4                                            1/03/2023                       \n",
       "..                                                 ...                       \n",
       "241                                         11/08/2021                       \n",
       "242                                          1/04/2010                       \n",
       "243                                          1/07/2021                       \n",
       "244                                          2/03/2024                       \n",
       "245  Fecha de esta última cifra de población en par...                       \n",
       "\n",
       "    Tipo[11]​  \\\n",
       "0           E   \n",
       "1           A   \n",
       "2           R   \n",
       "3           E   \n",
       "4           C   \n",
       "..        ...   \n",
       "241         C   \n",
       "242         C   \n",
       "243         E   \n",
       "244         R   \n",
       "245      Tipo   \n",
       "\n",
       "    Enlace o hipervínculo (usualmente de tipo oficial) de esta última cifra de población  \n",
       "0                                     www.stats.gov.cn                                    \n",
       "1                                    main.mohfw.gov.in                                    \n",
       "2                                       www.census.gov                                    \n",
       "3                                        www.bps.go.id                                    \n",
       "4                                       www.pbs.gov.pk                                    \n",
       "..                                                 ...                                    \n",
       "241                              www.citypopulation.de                                    \n",
       "242                                   www.statoids.com                                    \n",
       "243                               www.visitpitcairn.pn                                    \n",
       "244                              www.worldometers.info                                    \n",
       "245  Enlace o hipervínculo (usualmente de tipo ofic...                                    \n",
       "\n",
       "[246 rows x 12 columns]"
      ]
     },
     "execution_count": 71,
     "metadata": {},
     "output_type": "execute_result"
    }
   ],
   "source": [
    "dataframe_web"
   ]
  },
  {
   "cell_type": "markdown",
   "id": "8a4d5cb5",
   "metadata": {},
   "source": [
    "## SQL\n",
    "\n",
    "conda install sqlalchemy\n",
    "\n",
    "pip install -U sqlalchemy"
   ]
  },
  {
   "cell_type": "code",
   "execution_count": 79,
   "id": "4d0e8236",
   "metadata": {},
   "outputs": [],
   "source": [
    "import sqlalchemy as db"
   ]
  },
  {
   "cell_type": "code",
   "execution_count": 73,
   "id": "cb9a0106",
   "metadata": {},
   "outputs": [],
   "source": [
    "dicct = {'A' : [11, 12, 13, 12], 'B' : [ 14, 15, 16, 17]}"
   ]
  },
  {
   "cell_type": "code",
   "execution_count": 74,
   "id": "1f8b1390",
   "metadata": {},
   "outputs": [],
   "source": [
    "dataFrame = pd.DataFrame(dicct)"
   ]
  },
  {
   "cell_type": "code",
   "execution_count": 75,
   "id": "bf004e95",
   "metadata": {},
   "outputs": [
    {
     "data": {
      "text/html": [
       "<div>\n",
       "<style scoped>\n",
       "    .dataframe tbody tr th:only-of-type {\n",
       "        vertical-align: middle;\n",
       "    }\n",
       "\n",
       "    .dataframe tbody tr th {\n",
       "        vertical-align: top;\n",
       "    }\n",
       "\n",
       "    .dataframe thead th {\n",
       "        text-align: right;\n",
       "    }\n",
       "</style>\n",
       "<table border=\"1\" class=\"dataframe\">\n",
       "  <thead>\n",
       "    <tr style=\"text-align: right;\">\n",
       "      <th></th>\n",
       "      <th>A</th>\n",
       "      <th>B</th>\n",
       "    </tr>\n",
       "  </thead>\n",
       "  <tbody>\n",
       "    <tr>\n",
       "      <th>0</th>\n",
       "      <td>11</td>\n",
       "      <td>14</td>\n",
       "    </tr>\n",
       "    <tr>\n",
       "      <th>1</th>\n",
       "      <td>12</td>\n",
       "      <td>15</td>\n",
       "    </tr>\n",
       "    <tr>\n",
       "      <th>2</th>\n",
       "      <td>13</td>\n",
       "      <td>16</td>\n",
       "    </tr>\n",
       "    <tr>\n",
       "      <th>3</th>\n",
       "      <td>12</td>\n",
       "      <td>17</td>\n",
       "    </tr>\n",
       "  </tbody>\n",
       "</table>\n",
       "</div>"
      ],
      "text/plain": [
       "    A   B\n",
       "0  11  14\n",
       "1  12  15\n",
       "2  13  16\n",
       "3  12  17"
      ]
     },
     "execution_count": 75,
     "metadata": {},
     "output_type": "execute_result"
    }
   ],
   "source": [
    "dataFrame"
   ]
  },
  {
   "cell_type": "code",
   "execution_count": 82,
   "id": "c2d5cdba",
   "metadata": {},
   "outputs": [],
   "source": [
    "engine = db.create_engine('sqlite:///:memory:')"
   ]
  },
  {
   "cell_type": "code",
   "execution_count": 83,
   "id": "98efd83a",
   "metadata": {},
   "outputs": [
    {
     "data": {
      "text/plain": [
       "4"
      ]
     },
     "execution_count": 83,
     "metadata": {},
     "output_type": "execute_result"
    }
   ],
   "source": [
    "dataFrame.to_sql('table', engine, index=False)"
   ]
  },
  {
   "cell_type": "code",
   "execution_count": 88,
   "id": "5fb161f1",
   "metadata": {},
   "outputs": [],
   "source": [
    "data_readed = pd.read_sql('table', con = engine.connect())"
   ]
  },
  {
   "cell_type": "code",
   "execution_count": 89,
   "id": "76569dcc",
   "metadata": {},
   "outputs": [
    {
     "data": {
      "text/html": [
       "<div>\n",
       "<style scoped>\n",
       "    .dataframe tbody tr th:only-of-type {\n",
       "        vertical-align: middle;\n",
       "    }\n",
       "\n",
       "    .dataframe tbody tr th {\n",
       "        vertical-align: top;\n",
       "    }\n",
       "\n",
       "    .dataframe thead th {\n",
       "        text-align: right;\n",
       "    }\n",
       "</style>\n",
       "<table border=\"1\" class=\"dataframe\">\n",
       "  <thead>\n",
       "    <tr style=\"text-align: right;\">\n",
       "      <th></th>\n",
       "      <th>A</th>\n",
       "      <th>B</th>\n",
       "    </tr>\n",
       "  </thead>\n",
       "  <tbody>\n",
       "    <tr>\n",
       "      <th>0</th>\n",
       "      <td>11</td>\n",
       "      <td>14</td>\n",
       "    </tr>\n",
       "    <tr>\n",
       "      <th>1</th>\n",
       "      <td>12</td>\n",
       "      <td>15</td>\n",
       "    </tr>\n",
       "    <tr>\n",
       "      <th>2</th>\n",
       "      <td>13</td>\n",
       "      <td>16</td>\n",
       "    </tr>\n",
       "    <tr>\n",
       "      <th>3</th>\n",
       "      <td>12</td>\n",
       "      <td>17</td>\n",
       "    </tr>\n",
       "  </tbody>\n",
       "</table>\n",
       "</div>"
      ],
      "text/plain": [
       "    A   B\n",
       "0  11  14\n",
       "1  12  15\n",
       "2  13  16\n",
       "3  12  17"
      ]
     },
     "execution_count": 89,
     "metadata": {},
     "output_type": "execute_result"
    }
   ],
   "source": [
    "data_readed"
   ]
  },
  {
   "cell_type": "markdown",
   "id": "49475762",
   "metadata": {},
   "source": [
    "## Graphics"
   ]
  },
  {
   "cell_type": "code",
   "execution_count": 94,
   "id": "0ee55b28",
   "metadata": {},
   "outputs": [],
   "source": [
    "dataFrame_g = pd.DataFrame(np.random.randint(200, size=(50,4)), columns = ['a', 'b', 'c', 'd'])"
   ]
  },
  {
   "cell_type": "code",
   "execution_count": 95,
   "id": "d2539e32",
   "metadata": {},
   "outputs": [
    {
     "data": {
      "text/html": [
       "<div>\n",
       "<style scoped>\n",
       "    .dataframe tbody tr th:only-of-type {\n",
       "        vertical-align: middle;\n",
       "    }\n",
       "\n",
       "    .dataframe tbody tr th {\n",
       "        vertical-align: top;\n",
       "    }\n",
       "\n",
       "    .dataframe thead th {\n",
       "        text-align: right;\n",
       "    }\n",
       "</style>\n",
       "<table border=\"1\" class=\"dataframe\">\n",
       "  <thead>\n",
       "    <tr style=\"text-align: right;\">\n",
       "      <th></th>\n",
       "      <th>a</th>\n",
       "      <th>b</th>\n",
       "      <th>c</th>\n",
       "      <th>d</th>\n",
       "    </tr>\n",
       "  </thead>\n",
       "  <tbody>\n",
       "    <tr>\n",
       "      <th>0</th>\n",
       "      <td>134</td>\n",
       "      <td>157</td>\n",
       "      <td>178</td>\n",
       "      <td>139</td>\n",
       "    </tr>\n",
       "    <tr>\n",
       "      <th>1</th>\n",
       "      <td>156</td>\n",
       "      <td>111</td>\n",
       "      <td>31</td>\n",
       "      <td>131</td>\n",
       "    </tr>\n",
       "    <tr>\n",
       "      <th>2</th>\n",
       "      <td>162</td>\n",
       "      <td>189</td>\n",
       "      <td>111</td>\n",
       "      <td>73</td>\n",
       "    </tr>\n",
       "    <tr>\n",
       "      <th>3</th>\n",
       "      <td>11</td>\n",
       "      <td>32</td>\n",
       "      <td>122</td>\n",
       "      <td>144</td>\n",
       "    </tr>\n",
       "    <tr>\n",
       "      <th>4</th>\n",
       "      <td>70</td>\n",
       "      <td>144</td>\n",
       "      <td>142</td>\n",
       "      <td>93</td>\n",
       "    </tr>\n",
       "    <tr>\n",
       "      <th>5</th>\n",
       "      <td>19</td>\n",
       "      <td>199</td>\n",
       "      <td>189</td>\n",
       "      <td>13</td>\n",
       "    </tr>\n",
       "    <tr>\n",
       "      <th>6</th>\n",
       "      <td>155</td>\n",
       "      <td>13</td>\n",
       "      <td>154</td>\n",
       "      <td>80</td>\n",
       "    </tr>\n",
       "    <tr>\n",
       "      <th>7</th>\n",
       "      <td>84</td>\n",
       "      <td>105</td>\n",
       "      <td>46</td>\n",
       "      <td>134</td>\n",
       "    </tr>\n",
       "    <tr>\n",
       "      <th>8</th>\n",
       "      <td>106</td>\n",
       "      <td>41</td>\n",
       "      <td>38</td>\n",
       "      <td>142</td>\n",
       "    </tr>\n",
       "    <tr>\n",
       "      <th>9</th>\n",
       "      <td>22</td>\n",
       "      <td>164</td>\n",
       "      <td>180</td>\n",
       "      <td>36</td>\n",
       "    </tr>\n",
       "    <tr>\n",
       "      <th>10</th>\n",
       "      <td>52</td>\n",
       "      <td>160</td>\n",
       "      <td>182</td>\n",
       "      <td>145</td>\n",
       "    </tr>\n",
       "    <tr>\n",
       "      <th>11</th>\n",
       "      <td>147</td>\n",
       "      <td>119</td>\n",
       "      <td>26</td>\n",
       "      <td>161</td>\n",
       "    </tr>\n",
       "    <tr>\n",
       "      <th>12</th>\n",
       "      <td>40</td>\n",
       "      <td>5</td>\n",
       "      <td>48</td>\n",
       "      <td>137</td>\n",
       "    </tr>\n",
       "    <tr>\n",
       "      <th>13</th>\n",
       "      <td>0</td>\n",
       "      <td>44</td>\n",
       "      <td>12</td>\n",
       "      <td>81</td>\n",
       "    </tr>\n",
       "    <tr>\n",
       "      <th>14</th>\n",
       "      <td>184</td>\n",
       "      <td>160</td>\n",
       "      <td>185</td>\n",
       "      <td>114</td>\n",
       "    </tr>\n",
       "    <tr>\n",
       "      <th>15</th>\n",
       "      <td>8</td>\n",
       "      <td>72</td>\n",
       "      <td>14</td>\n",
       "      <td>120</td>\n",
       "    </tr>\n",
       "    <tr>\n",
       "      <th>16</th>\n",
       "      <td>60</td>\n",
       "      <td>156</td>\n",
       "      <td>123</td>\n",
       "      <td>29</td>\n",
       "    </tr>\n",
       "    <tr>\n",
       "      <th>17</th>\n",
       "      <td>20</td>\n",
       "      <td>94</td>\n",
       "      <td>151</td>\n",
       "      <td>51</td>\n",
       "    </tr>\n",
       "    <tr>\n",
       "      <th>18</th>\n",
       "      <td>0</td>\n",
       "      <td>160</td>\n",
       "      <td>95</td>\n",
       "      <td>152</td>\n",
       "    </tr>\n",
       "    <tr>\n",
       "      <th>19</th>\n",
       "      <td>120</td>\n",
       "      <td>168</td>\n",
       "      <td>117</td>\n",
       "      <td>136</td>\n",
       "    </tr>\n",
       "    <tr>\n",
       "      <th>20</th>\n",
       "      <td>30</td>\n",
       "      <td>123</td>\n",
       "      <td>116</td>\n",
       "      <td>43</td>\n",
       "    </tr>\n",
       "    <tr>\n",
       "      <th>21</th>\n",
       "      <td>106</td>\n",
       "      <td>26</td>\n",
       "      <td>111</td>\n",
       "      <td>98</td>\n",
       "    </tr>\n",
       "    <tr>\n",
       "      <th>22</th>\n",
       "      <td>188</td>\n",
       "      <td>43</td>\n",
       "      <td>0</td>\n",
       "      <td>179</td>\n",
       "    </tr>\n",
       "    <tr>\n",
       "      <th>23</th>\n",
       "      <td>9</td>\n",
       "      <td>189</td>\n",
       "      <td>87</td>\n",
       "      <td>184</td>\n",
       "    </tr>\n",
       "    <tr>\n",
       "      <th>24</th>\n",
       "      <td>163</td>\n",
       "      <td>62</td>\n",
       "      <td>157</td>\n",
       "      <td>170</td>\n",
       "    </tr>\n",
       "    <tr>\n",
       "      <th>25</th>\n",
       "      <td>193</td>\n",
       "      <td>86</td>\n",
       "      <td>109</td>\n",
       "      <td>102</td>\n",
       "    </tr>\n",
       "    <tr>\n",
       "      <th>26</th>\n",
       "      <td>155</td>\n",
       "      <td>125</td>\n",
       "      <td>70</td>\n",
       "      <td>156</td>\n",
       "    </tr>\n",
       "    <tr>\n",
       "      <th>27</th>\n",
       "      <td>15</td>\n",
       "      <td>108</td>\n",
       "      <td>132</td>\n",
       "      <td>15</td>\n",
       "    </tr>\n",
       "    <tr>\n",
       "      <th>28</th>\n",
       "      <td>9</td>\n",
       "      <td>66</td>\n",
       "      <td>27</td>\n",
       "      <td>197</td>\n",
       "    </tr>\n",
       "    <tr>\n",
       "      <th>29</th>\n",
       "      <td>75</td>\n",
       "      <td>83</td>\n",
       "      <td>188</td>\n",
       "      <td>140</td>\n",
       "    </tr>\n",
       "    <tr>\n",
       "      <th>30</th>\n",
       "      <td>166</td>\n",
       "      <td>18</td>\n",
       "      <td>101</td>\n",
       "      <td>73</td>\n",
       "    </tr>\n",
       "    <tr>\n",
       "      <th>31</th>\n",
       "      <td>42</td>\n",
       "      <td>180</td>\n",
       "      <td>3</td>\n",
       "      <td>46</td>\n",
       "    </tr>\n",
       "    <tr>\n",
       "      <th>32</th>\n",
       "      <td>139</td>\n",
       "      <td>61</td>\n",
       "      <td>121</td>\n",
       "      <td>35</td>\n",
       "    </tr>\n",
       "    <tr>\n",
       "      <th>33</th>\n",
       "      <td>16</td>\n",
       "      <td>45</td>\n",
       "      <td>31</td>\n",
       "      <td>45</td>\n",
       "    </tr>\n",
       "    <tr>\n",
       "      <th>34</th>\n",
       "      <td>162</td>\n",
       "      <td>174</td>\n",
       "      <td>91</td>\n",
       "      <td>133</td>\n",
       "    </tr>\n",
       "    <tr>\n",
       "      <th>35</th>\n",
       "      <td>135</td>\n",
       "      <td>23</td>\n",
       "      <td>120</td>\n",
       "      <td>133</td>\n",
       "    </tr>\n",
       "    <tr>\n",
       "      <th>36</th>\n",
       "      <td>70</td>\n",
       "      <td>55</td>\n",
       "      <td>11</td>\n",
       "      <td>164</td>\n",
       "    </tr>\n",
       "    <tr>\n",
       "      <th>37</th>\n",
       "      <td>120</td>\n",
       "      <td>12</td>\n",
       "      <td>74</td>\n",
       "      <td>13</td>\n",
       "    </tr>\n",
       "    <tr>\n",
       "      <th>38</th>\n",
       "      <td>160</td>\n",
       "      <td>63</td>\n",
       "      <td>85</td>\n",
       "      <td>196</td>\n",
       "    </tr>\n",
       "    <tr>\n",
       "      <th>39</th>\n",
       "      <td>78</td>\n",
       "      <td>195</td>\n",
       "      <td>47</td>\n",
       "      <td>125</td>\n",
       "    </tr>\n",
       "    <tr>\n",
       "      <th>40</th>\n",
       "      <td>2</td>\n",
       "      <td>6</td>\n",
       "      <td>58</td>\n",
       "      <td>172</td>\n",
       "    </tr>\n",
       "    <tr>\n",
       "      <th>41</th>\n",
       "      <td>154</td>\n",
       "      <td>95</td>\n",
       "      <td>42</td>\n",
       "      <td>36</td>\n",
       "    </tr>\n",
       "    <tr>\n",
       "      <th>42</th>\n",
       "      <td>79</td>\n",
       "      <td>148</td>\n",
       "      <td>199</td>\n",
       "      <td>9</td>\n",
       "    </tr>\n",
       "    <tr>\n",
       "      <th>43</th>\n",
       "      <td>100</td>\n",
       "      <td>118</td>\n",
       "      <td>104</td>\n",
       "      <td>195</td>\n",
       "    </tr>\n",
       "    <tr>\n",
       "      <th>44</th>\n",
       "      <td>192</td>\n",
       "      <td>120</td>\n",
       "      <td>38</td>\n",
       "      <td>141</td>\n",
       "    </tr>\n",
       "    <tr>\n",
       "      <th>45</th>\n",
       "      <td>96</td>\n",
       "      <td>3</td>\n",
       "      <td>41</td>\n",
       "      <td>55</td>\n",
       "    </tr>\n",
       "    <tr>\n",
       "      <th>46</th>\n",
       "      <td>153</td>\n",
       "      <td>142</td>\n",
       "      <td>63</td>\n",
       "      <td>107</td>\n",
       "    </tr>\n",
       "    <tr>\n",
       "      <th>47</th>\n",
       "      <td>1</td>\n",
       "      <td>57</td>\n",
       "      <td>25</td>\n",
       "      <td>23</td>\n",
       "    </tr>\n",
       "    <tr>\n",
       "      <th>48</th>\n",
       "      <td>146</td>\n",
       "      <td>24</td>\n",
       "      <td>52</td>\n",
       "      <td>105</td>\n",
       "    </tr>\n",
       "    <tr>\n",
       "      <th>49</th>\n",
       "      <td>85</td>\n",
       "      <td>2</td>\n",
       "      <td>50</td>\n",
       "      <td>63</td>\n",
       "    </tr>\n",
       "  </tbody>\n",
       "</table>\n",
       "</div>"
      ],
      "text/plain": [
       "      a    b    c    d\n",
       "0   134  157  178  139\n",
       "1   156  111   31  131\n",
       "2   162  189  111   73\n",
       "3    11   32  122  144\n",
       "4    70  144  142   93\n",
       "5    19  199  189   13\n",
       "6   155   13  154   80\n",
       "7    84  105   46  134\n",
       "8   106   41   38  142\n",
       "9    22  164  180   36\n",
       "10   52  160  182  145\n",
       "11  147  119   26  161\n",
       "12   40    5   48  137\n",
       "13    0   44   12   81\n",
       "14  184  160  185  114\n",
       "15    8   72   14  120\n",
       "16   60  156  123   29\n",
       "17   20   94  151   51\n",
       "18    0  160   95  152\n",
       "19  120  168  117  136\n",
       "20   30  123  116   43\n",
       "21  106   26  111   98\n",
       "22  188   43    0  179\n",
       "23    9  189   87  184\n",
       "24  163   62  157  170\n",
       "25  193   86  109  102\n",
       "26  155  125   70  156\n",
       "27   15  108  132   15\n",
       "28    9   66   27  197\n",
       "29   75   83  188  140\n",
       "30  166   18  101   73\n",
       "31   42  180    3   46\n",
       "32  139   61  121   35\n",
       "33   16   45   31   45\n",
       "34  162  174   91  133\n",
       "35  135   23  120  133\n",
       "36   70   55   11  164\n",
       "37  120   12   74   13\n",
       "38  160   63   85  196\n",
       "39   78  195   47  125\n",
       "40    2    6   58  172\n",
       "41  154   95   42   36\n",
       "42   79  148  199    9\n",
       "43  100  118  104  195\n",
       "44  192  120   38  141\n",
       "45   96    3   41   55\n",
       "46  153  142   63  107\n",
       "47    1   57   25   23\n",
       "48  146   24   52  105\n",
       "49   85    2   50   63"
      ]
     },
     "execution_count": 95,
     "metadata": {},
     "output_type": "execute_result"
    }
   ],
   "source": [
    "dataFrame_g"
   ]
  },
  {
   "cell_type": "code",
   "execution_count": 97,
   "id": "a5615d3b",
   "metadata": {},
   "outputs": [
    {
     "data": {
      "text/plain": [
       "<Axes: >"
      ]
     },
     "execution_count": 97,
     "metadata": {},
     "output_type": "execute_result"
    },
    {
     "data": {
      "image/png": "[encoded data removed]",
      "text/plain": [
       "<Figure size 640x480 with 1 Axes>"
      ]
     },
     "metadata": {},
     "output_type": "display_data"
    }
   ],
   "source": [
    "dataFrame_g['a'].hist(bins=20)"
   ]
  },
  {
   "cell_type": "code",
   "execution_count": 99,
   "id": "5ce210e6",
   "metadata": {},
   "outputs": [
    {
     "data": {
      "text/plain": [
       "<Axes: ylabel='Frequency'>"
      ]
     },
     "execution_count": 99,
     "metadata": {},
     "output_type": "execute_result"
    },
    {
     "data": {
      "image/png": "[encoded data removed]",
      "text/plain": [
       "<Figure size 640x480 with 1 Axes>"
      ]
     },
     "metadata": {},
     "output_type": "display_data"
    }
   ],
   "source": [
    "dataFrame_g['a'].plot.hist()"
   ]
  },
  {
   "cell_type": "code",
   "execution_count": 101,
   "id": "b34cdbf8",
   "metadata": {},
   "outputs": [
    {
     "data": {
      "text/plain": [
       "<Axes: >"
      ]
     },
     "execution_count": 101,
     "metadata": {},
     "output_type": "execute_result"
    },
    {
     "data": {
      "image/png": "[encoded data removed]",
      "text/plain": [
       "<Figure size 640x480 with 1 Axes>"
      ]
     },
     "metadata": {},
     "output_type": "display_data"
    }
   ],
   "source": [
    "dataFrame_g.plot.area(alpha=0.5)"
   ]
  },
  {
   "cell_type": "code",
   "execution_count": 104,
   "id": "78c277a2",
   "metadata": {},
   "outputs": [
    {
     "data": {
      "text/plain": [
       "<Axes: >"
      ]
     },
     "execution_count": 104,
     "metadata": {},
     "output_type": "execute_result"
    },
    {
     "data": {
      "image/png": "[encoded data removed]",
      "text/plain": [
       "<Figure size 640x480 with 1 Axes>"
      ]
     },
     "metadata": {},
     "output_type": "display_data"
    }
   ],
   "source": [
    "dataFrame_g.plot.bar(stacked=True)"
   ]
  },
  {
   "cell_type": "code",
   "execution_count": 107,
   "id": "c021ba9c",
   "metadata": {},
   "outputs": [
    {
     "data": {
      "text/plain": [
       "<Axes: xlabel='a', ylabel='b'>"
      ]
     },
     "execution_count": 107,
     "metadata": {},
     "output_type": "execute_result"
    },
    {
     "data": {
      "image/png": "[encoded data removed]",
      "text/plain": [
       "<Figure size 640x480 with 2 Axes>"
      ]
     },
     "metadata": {},
     "output_type": "display_data"
    }
   ],
   "source": [
    "dataFrame_g.plot.scatter(x = 'a', y = 'b', c = 'c', cmap = 'coolwarm')"
   ]
  },
  {
   "cell_type": "code",
   "execution_count": 108,
   "id": "5171a370",
   "metadata": {},
   "outputs": [
    {
     "data": {
      "text/plain": [
       "<Axes: >"
      ]
     },
     "execution_count": 108,
     "metadata": {},
     "output_type": "execute_result"
    },
    {
     "data": {
      "image/png": "[encoded data removed]",
      "text/plain": [
       "<Figure size 640x480 with 1 Axes>"
      ]
     },
     "metadata": {},
     "output_type": "display_data"
    }
   ],
   "source": [
    "dataFrame_g.plot.box()"
   ]
  },
  {
   "cell_type": "code",
   "execution_count": 109,
   "id": "2b4d09e0",
   "metadata": {},
   "outputs": [
    {
     "data": {
      "text/plain": [
       "<Axes: xlabel='a', ylabel='b'>"
      ]
     },
     "execution_count": 109,
     "metadata": {},
     "output_type": "execute_result"
    },
    {
     "data": {
      "image/png": "[encoded data removed]",
      "text/plain": [
       "<Figure size 640x480 with 2 Axes>"
      ]
     },
     "metadata": {},
     "output_type": "display_data"
    }
   ],
   "source": [
    "dataFrame_g.plot.hexbin(x = 'a', y = 'b', gridsize = 12)"
   ]
  },
  {
   "cell_type": "code",
   "execution_count": 111,
   "id": "f405a746",
   "metadata": {},
   "outputs": [
    {
     "data": {
      "text/plain": [
       "<Axes: ylabel='Density'>"
      ]
     },
     "execution_count": 111,
     "metadata": {},
     "output_type": "execute_result"
    },
    {
     "data": {
      "image/png": "[encoded data removed]",
      "text/plain": [
       "<Figure size 640x480 with 1 Axes>"
      ]
     },
     "metadata": {},
     "output_type": "display_data"
    }
   ],
   "source": [
    "dataFrame_g.plot.kde()"
   ]
  },
  {
   "cell_type": "code",
   "execution_count": null,
   "id": "5e683c3e",
   "metadata": {},
   "outputs": [],
   "source": [
    "dataFrame_g.plot.()"
   ]
  },
  {
   "cell_type": "code",
   "execution_count": null,
   "id": "1ee10a56",
   "metadata": {},
   "outputs": [],
   "source": []
  },
  {
   "cell_type": "code",
   "execution_count": null,
   "id": "29de08c0",
   "metadata": {},
   "outputs": [],
   "source": []
  }
 ],
 "metadata": {
  "kernelspec": {
   "display_name": "Python 3 (ipykernel)",
   "language": "python",
   "name": "python3"
  },
  "language_info": {
   "codemirror_mode": {
    "name": "ipython",
    "version": 3
   },
   "file_extension": ".py",
   "mimetype": "text/x-python",
   "name": "python",
   "nbconvert_exporter": "python",
   "pygments_lexer": "ipython3",
   "version": "3.11.4"
  }
 },
 "nbformat": 4,
 "nbformat_minor": 5
}
