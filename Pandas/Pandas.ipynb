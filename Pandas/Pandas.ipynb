{
 "cells": [
  {
   "cell_type": "markdown",
   "id": "f596926e",
   "metadata": {},
   "source": [
    "# Pandas"
   ]
  },
  {
   "cell_type": "code",
   "execution_count": 2,
   "id": "78e6dda7",
   "metadata": {},
   "outputs": [],
   "source": [
    "import numpy as np\n",
    "import pandas as pd"
   ]
  },
  {
   "cell_type": "markdown",
   "id": "2af0f5be",
   "metadata": {},
   "source": [
    "## Series"
   ]
  },
  {
   "cell_type": "code",
   "execution_count": 4,
   "id": "0fac9e6d",
   "metadata": {},
   "outputs": [
    {
     "data": {
      "text/plain": [
       "a    1\n",
       "b    2\n",
       "c    3\n",
       "dtype: int64"
      ]
     },
     "execution_count": 4,
     "metadata": {},
     "output_type": "execute_result"
    }
   ],
   "source": [
    "label = ['a', 'b', 'c']\n",
    "info = [1, 2, 3]\n",
    "pd.Series(data = info, index = label)"
   ]
  },
  {
   "cell_type": "code",
   "execution_count": 9,
   "id": "a858454b",
   "metadata": {},
   "outputs": [],
   "source": [
    "array = np.arange(5, 8)\n",
    "labels = ['venta1', 'venta2', 'venta3']\n",
    "serie = pd.Series(array, labels)"
   ]
  },
  {
   "cell_type": "code",
   "execution_count": 10,
   "id": "a1e538a5",
   "metadata": {},
   "outputs": [
    {
     "data": {
      "text/plain": [
       "venta1    5\n",
       "venta2    6\n",
       "venta3    7\n",
       "dtype: int32"
      ]
     },
     "execution_count": 10,
     "metadata": {},
     "output_type": "execute_result"
    }
   ],
   "source": [
    "serie"
   ]
  },
  {
   "cell_type": "code",
   "execution_count": 12,
   "id": "e859a9a6",
   "metadata": {},
   "outputs": [
    {
     "data": {
      "text/plain": [
       "6"
      ]
     },
     "execution_count": 12,
     "metadata": {},
     "output_type": "execute_result"
    }
   ],
   "source": [
    "serie['venta2']"
   ]
  },
  {
   "cell_type": "code",
   "execution_count": 13,
   "id": "de9f41dc",
   "metadata": {},
   "outputs": [
    {
     "data": {
      "text/plain": [
       "7"
      ]
     },
     "execution_count": 13,
     "metadata": {},
     "output_type": "execute_result"
    }
   ],
   "source": [
    "serie[2]"
   ]
  },
  {
   "cell_type": "code",
   "execution_count": 14,
   "id": "afff632a",
   "metadata": {},
   "outputs": [
    {
     "data": {
      "text/plain": [
       "['tech', 500, 'printer', 600, 'a']"
      ]
     },
     "execution_count": 14,
     "metadata": {},
     "output_type": "execute_result"
    }
   ],
   "source": [
    "info2 = ['tech', 500, 'printer', 600, 'a']\n",
    "info2"
   ]
  },
  {
   "cell_type": "code",
   "execution_count": 15,
   "id": "81a0eabe",
   "metadata": {},
   "outputs": [
    {
     "data": {
      "text/plain": [
       "0       tech\n",
       "1        500\n",
       "2    printer\n",
       "3        600\n",
       "4          a\n",
       "dtype: object"
      ]
     },
     "execution_count": 15,
     "metadata": {},
     "output_type": "execute_result"
    }
   ],
   "source": [
    "pd.Series(info2)"
   ]
  },
  {
   "cell_type": "code",
   "execution_count": 18,
   "id": "948dba1d",
   "metadata": {},
   "outputs": [],
   "source": [
    "serie2 = pd.Series([1, 2, 3], ['a', 'b', 'v'])\n",
    "serie3 = pd.Series([4, 5, 6], ['a', 'b', 'v'])"
   ]
  },
  {
   "cell_type": "code",
   "execution_count": 19,
   "id": "61ac0654",
   "metadata": {},
   "outputs": [],
   "source": [
    "serie_add = serie2 + serie3"
   ]
  },
  {
   "cell_type": "code",
   "execution_count": 20,
   "id": "a29e6405",
   "metadata": {},
   "outputs": [
    {
     "data": {
      "text/plain": [
       "a    5\n",
       "b    7\n",
       "v    9\n",
       "dtype: int64"
      ]
     },
     "execution_count": 20,
     "metadata": {},
     "output_type": "execute_result"
    }
   ],
   "source": [
    "serie_add"
   ]
  },
  {
   "cell_type": "markdown",
   "id": "0046ebda",
   "metadata": {},
   "source": [
    "## DataFrames"
   ]
  },
  {
   "cell_type": "code",
   "execution_count": 21,
   "id": "54ed16d4",
   "metadata": {},
   "outputs": [],
   "source": [
    "rows = ['sale1', 'sale2', 'sale3']\n",
    "columns = ['ZoneA', 'zoneB', 'zoneC']\n",
    "dat = [[574, 558, 965], [856, 899, 204], [666, 574, 624]]"
   ]
  },
  {
   "cell_type": "code",
   "execution_count": 22,
   "id": "2510637f",
   "metadata": {},
   "outputs": [],
   "source": [
    "dataframe = pd.DataFrame(dat, rows, columns)"
   ]
  },
  {
   "cell_type": "code",
   "execution_count": 23,
   "id": "57dca6d6",
   "metadata": {},
   "outputs": [
    {
     "data": {
      "text/html": [
       "<div>\n",
       "<style scoped>\n",
       "    .dataframe tbody tr th:only-of-type {\n",
       "        vertical-align: middle;\n",
       "    }\n",
       "\n",
       "    .dataframe tbody tr th {\n",
       "        vertical-align: top;\n",
       "    }\n",
       "\n",
       "    .dataframe thead th {\n",
       "        text-align: right;\n",
       "    }\n",
       "</style>\n",
       "<table border=\"1\" class=\"dataframe\">\n",
       "  <thead>\n",
       "    <tr style=\"text-align: right;\">\n",
       "      <th></th>\n",
       "      <th>ZoneA</th>\n",
       "      <th>zoneB</th>\n",
       "      <th>zoneC</th>\n",
       "    </tr>\n",
       "  </thead>\n",
       "  <tbody>\n",
       "    <tr>\n",
       "      <th>sale1</th>\n",
       "      <td>574</td>\n",
       "      <td>558</td>\n",
       "      <td>965</td>\n",
       "    </tr>\n",
       "    <tr>\n",
       "      <th>sale2</th>\n",
       "      <td>856</td>\n",
       "      <td>899</td>\n",
       "      <td>204</td>\n",
       "    </tr>\n",
       "    <tr>\n",
       "      <th>sale3</th>\n",
       "      <td>666</td>\n",
       "      <td>574</td>\n",
       "      <td>624</td>\n",
       "    </tr>\n",
       "  </tbody>\n",
       "</table>\n",
       "</div>"
      ],
      "text/plain": [
       "       ZoneA  zoneB  zoneC\n",
       "sale1    574    558    965\n",
       "sale2    856    899    204\n",
       "sale3    666    574    624"
      ]
     },
     "execution_count": 23,
     "metadata": {},
     "output_type": "execute_result"
    }
   ],
   "source": [
    "dataframe"
   ]
  },
  {
   "cell_type": "code",
   "execution_count": 24,
   "id": "8032dff6",
   "metadata": {},
   "outputs": [
    {
     "data": {
      "text/plain": [
       "ZoneA    856\n",
       "zoneB    899\n",
       "zoneC    204\n",
       "Name: sale2, dtype: int64"
      ]
     },
     "execution_count": 24,
     "metadata": {},
     "output_type": "execute_result"
    }
   ],
   "source": [
    "dataframe.loc['sale2']"
   ]
  },
  {
   "cell_type": "code",
   "execution_count": 27,
   "id": "fd5c8a77",
   "metadata": {},
   "outputs": [
    {
     "data": {
      "text/html": [
       "<div>\n",
       "<style scoped>\n",
       "    .dataframe tbody tr th:only-of-type {\n",
       "        vertical-align: middle;\n",
       "    }\n",
       "\n",
       "    .dataframe tbody tr th {\n",
       "        vertical-align: top;\n",
       "    }\n",
       "\n",
       "    .dataframe thead th {\n",
       "        text-align: right;\n",
       "    }\n",
       "</style>\n",
       "<table border=\"1\" class=\"dataframe\">\n",
       "  <thead>\n",
       "    <tr style=\"text-align: right;\">\n",
       "      <th></th>\n",
       "      <th>ZoneA</th>\n",
       "      <th>zoneB</th>\n",
       "      <th>zoneC</th>\n",
       "    </tr>\n",
       "  </thead>\n",
       "  <tbody>\n",
       "    <tr>\n",
       "      <th>sale1</th>\n",
       "      <td>574</td>\n",
       "      <td>558</td>\n",
       "      <td>965</td>\n",
       "    </tr>\n",
       "    <tr>\n",
       "      <th>sale3</th>\n",
       "      <td>666</td>\n",
       "      <td>574</td>\n",
       "      <td>624</td>\n",
       "    </tr>\n",
       "  </tbody>\n",
       "</table>\n",
       "</div>"
      ],
      "text/plain": [
       "       ZoneA  zoneB  zoneC\n",
       "sale1    574    558    965\n",
       "sale3    666    574    624"
      ]
     },
     "execution_count": 27,
     "metadata": {},
     "output_type": "execute_result"
    }
   ],
   "source": [
    "dataframe.loc[['sale1', 'sale3']]"
   ]
  },
  {
   "cell_type": "code",
   "execution_count": 30,
   "id": "dbdcabf8",
   "metadata": {},
   "outputs": [
    {
     "data": {
      "text/plain": [
       "sale1    574\n",
       "sale2    856\n",
       "sale3    666\n",
       "Name: ZoneA, dtype: int64"
      ]
     },
     "execution_count": 30,
     "metadata": {},
     "output_type": "execute_result"
    }
   ],
   "source": [
    "dataframe['ZoneA']"
   ]
  },
  {
   "cell_type": "code",
   "execution_count": 31,
   "id": "ee84354c",
   "metadata": {},
   "outputs": [
    {
     "data": {
      "text/plain": [
       "574"
      ]
     },
     "execution_count": 31,
     "metadata": {},
     "output_type": "execute_result"
    }
   ],
   "source": [
    "dataframe.loc['sale1']['ZoneA']"
   ]
  },
  {
   "cell_type": "code",
   "execution_count": 32,
   "id": "21662a74",
   "metadata": {},
   "outputs": [],
   "source": [
    "dataframe['total_sales'] = dataframe['ZoneA'] + dataframe['zoneB'] + dataframe['zoneC']"
   ]
  },
  {
   "cell_type": "code",
   "execution_count": 33,
   "id": "0c7c26f3",
   "metadata": {},
   "outputs": [
    {
     "data": {
      "text/html": [
       "<div>\n",
       "<style scoped>\n",
       "    .dataframe tbody tr th:only-of-type {\n",
       "        vertical-align: middle;\n",
       "    }\n",
       "\n",
       "    .dataframe tbody tr th {\n",
       "        vertical-align: top;\n",
       "    }\n",
       "\n",
       "    .dataframe thead th {\n",
       "        text-align: right;\n",
       "    }\n",
       "</style>\n",
       "<table border=\"1\" class=\"dataframe\">\n",
       "  <thead>\n",
       "    <tr style=\"text-align: right;\">\n",
       "      <th></th>\n",
       "      <th>ZoneA</th>\n",
       "      <th>zoneB</th>\n",
       "      <th>zoneC</th>\n",
       "      <th>total_sales</th>\n",
       "    </tr>\n",
       "  </thead>\n",
       "  <tbody>\n",
       "    <tr>\n",
       "      <th>sale1</th>\n",
       "      <td>574</td>\n",
       "      <td>558</td>\n",
       "      <td>965</td>\n",
       "      <td>2097</td>\n",
       "    </tr>\n",
       "    <tr>\n",
       "      <th>sale2</th>\n",
       "      <td>856</td>\n",
       "      <td>899</td>\n",
       "      <td>204</td>\n",
       "      <td>1959</td>\n",
       "    </tr>\n",
       "    <tr>\n",
       "      <th>sale3</th>\n",
       "      <td>666</td>\n",
       "      <td>574</td>\n",
       "      <td>624</td>\n",
       "      <td>1864</td>\n",
       "    </tr>\n",
       "  </tbody>\n",
       "</table>\n",
       "</div>"
      ],
      "text/plain": [
       "       ZoneA  zoneB  zoneC  total_sales\n",
       "sale1    574    558    965         2097\n",
       "sale2    856    899    204         1959\n",
       "sale3    666    574    624         1864"
      ]
     },
     "execution_count": 33,
     "metadata": {},
     "output_type": "execute_result"
    }
   ],
   "source": [
    "dataframe"
   ]
  },
  {
   "cell_type": "code",
   "execution_count": 36,
   "id": "21a12eb0",
   "metadata": {},
   "outputs": [
    {
     "data": {
      "text/html": [
       "<div>\n",
       "<style scoped>\n",
       "    .dataframe tbody tr th:only-of-type {\n",
       "        vertical-align: middle;\n",
       "    }\n",
       "\n",
       "    .dataframe tbody tr th {\n",
       "        vertical-align: top;\n",
       "    }\n",
       "\n",
       "    .dataframe thead th {\n",
       "        text-align: right;\n",
       "    }\n",
       "</style>\n",
       "<table border=\"1\" class=\"dataframe\">\n",
       "  <thead>\n",
       "    <tr style=\"text-align: right;\">\n",
       "      <th></th>\n",
       "      <th>ZoneA</th>\n",
       "      <th>zoneB</th>\n",
       "      <th>zoneC</th>\n",
       "    </tr>\n",
       "  </thead>\n",
       "  <tbody>\n",
       "    <tr>\n",
       "      <th>sale1</th>\n",
       "      <td>574</td>\n",
       "      <td>558</td>\n",
       "      <td>965</td>\n",
       "    </tr>\n",
       "    <tr>\n",
       "      <th>sale2</th>\n",
       "      <td>856</td>\n",
       "      <td>899</td>\n",
       "      <td>204</td>\n",
       "    </tr>\n",
       "    <tr>\n",
       "      <th>sale3</th>\n",
       "      <td>666</td>\n",
       "      <td>574</td>\n",
       "      <td>624</td>\n",
       "    </tr>\n",
       "  </tbody>\n",
       "</table>\n",
       "</div>"
      ],
      "text/plain": [
       "       ZoneA  zoneB  zoneC\n",
       "sale1    574    558    965\n",
       "sale2    856    899    204\n",
       "sale3    666    574    624"
      ]
     },
     "execution_count": 36,
     "metadata": {},
     "output_type": "execute_result"
    }
   ],
   "source": [
    "dataframe.drop('total_sales', axis = 1)"
   ]
  },
  {
   "cell_type": "code",
   "execution_count": 37,
   "id": "fcd9338d",
   "metadata": {},
   "outputs": [
    {
     "data": {
      "text/html": [
       "<div>\n",
       "<style scoped>\n",
       "    .dataframe tbody tr th:only-of-type {\n",
       "        vertical-align: middle;\n",
       "    }\n",
       "\n",
       "    .dataframe tbody tr th {\n",
       "        vertical-align: top;\n",
       "    }\n",
       "\n",
       "    .dataframe thead th {\n",
       "        text-align: right;\n",
       "    }\n",
       "</style>\n",
       "<table border=\"1\" class=\"dataframe\">\n",
       "  <thead>\n",
       "    <tr style=\"text-align: right;\">\n",
       "      <th></th>\n",
       "      <th>ZoneA</th>\n",
       "      <th>zoneB</th>\n",
       "      <th>zoneC</th>\n",
       "      <th>total_sales</th>\n",
       "    </tr>\n",
       "  </thead>\n",
       "  <tbody>\n",
       "    <tr>\n",
       "      <th>sale1</th>\n",
       "      <td>574</td>\n",
       "      <td>558</td>\n",
       "      <td>965</td>\n",
       "      <td>2097</td>\n",
       "    </tr>\n",
       "    <tr>\n",
       "      <th>sale2</th>\n",
       "      <td>856</td>\n",
       "      <td>899</td>\n",
       "      <td>204</td>\n",
       "      <td>1959</td>\n",
       "    </tr>\n",
       "    <tr>\n",
       "      <th>sale3</th>\n",
       "      <td>666</td>\n",
       "      <td>574</td>\n",
       "      <td>624</td>\n",
       "      <td>1864</td>\n",
       "    </tr>\n",
       "  </tbody>\n",
       "</table>\n",
       "</div>"
      ],
      "text/plain": [
       "       ZoneA  zoneB  zoneC  total_sales\n",
       "sale1    574    558    965         2097\n",
       "sale2    856    899    204         1959\n",
       "sale3    666    574    624         1864"
      ]
     },
     "execution_count": 37,
     "metadata": {},
     "output_type": "execute_result"
    }
   ],
   "source": [
    "dataframe"
   ]
  },
  {
   "cell_type": "code",
   "execution_count": 38,
   "id": "71c2298e",
   "metadata": {},
   "outputs": [],
   "source": [
    "dataframe.drop('total_sales', axis = 1, inplace = True)"
   ]
  },
  {
   "cell_type": "code",
   "execution_count": 39,
   "id": "e6d72c79",
   "metadata": {},
   "outputs": [
    {
     "data": {
      "text/html": [
       "<div>\n",
       "<style scoped>\n",
       "    .dataframe tbody tr th:only-of-type {\n",
       "        vertical-align: middle;\n",
       "    }\n",
       "\n",
       "    .dataframe tbody tr th {\n",
       "        vertical-align: top;\n",
       "    }\n",
       "\n",
       "    .dataframe thead th {\n",
       "        text-align: right;\n",
       "    }\n",
       "</style>\n",
       "<table border=\"1\" class=\"dataframe\">\n",
       "  <thead>\n",
       "    <tr style=\"text-align: right;\">\n",
       "      <th></th>\n",
       "      <th>ZoneA</th>\n",
       "      <th>zoneB</th>\n",
       "      <th>zoneC</th>\n",
       "    </tr>\n",
       "  </thead>\n",
       "  <tbody>\n",
       "    <tr>\n",
       "      <th>sale1</th>\n",
       "      <td>574</td>\n",
       "      <td>558</td>\n",
       "      <td>965</td>\n",
       "    </tr>\n",
       "    <tr>\n",
       "      <th>sale2</th>\n",
       "      <td>856</td>\n",
       "      <td>899</td>\n",
       "      <td>204</td>\n",
       "    </tr>\n",
       "    <tr>\n",
       "      <th>sale3</th>\n",
       "      <td>666</td>\n",
       "      <td>574</td>\n",
       "      <td>624</td>\n",
       "    </tr>\n",
       "  </tbody>\n",
       "</table>\n",
       "</div>"
      ],
      "text/plain": [
       "       ZoneA  zoneB  zoneC\n",
       "sale1    574    558    965\n",
       "sale2    856    899    204\n",
       "sale3    666    574    624"
      ]
     },
     "execution_count": 39,
     "metadata": {},
     "output_type": "execute_result"
    }
   ],
   "source": [
    "dataframe"
   ]
  },
  {
   "cell_type": "code",
   "execution_count": 40,
   "id": "89b0f6cf",
   "metadata": {},
   "outputs": [
    {
     "data": {
      "text/html": [
       "<div>\n",
       "<style scoped>\n",
       "    .dataframe tbody tr th:only-of-type {\n",
       "        vertical-align: middle;\n",
       "    }\n",
       "\n",
       "    .dataframe tbody tr th {\n",
       "        vertical-align: top;\n",
       "    }\n",
       "\n",
       "    .dataframe thead th {\n",
       "        text-align: right;\n",
       "    }\n",
       "</style>\n",
       "<table border=\"1\" class=\"dataframe\">\n",
       "  <thead>\n",
       "    <tr style=\"text-align: right;\">\n",
       "      <th></th>\n",
       "      <th>ZoneA</th>\n",
       "      <th>zoneB</th>\n",
       "      <th>zoneC</th>\n",
       "    </tr>\n",
       "  </thead>\n",
       "  <tbody>\n",
       "    <tr>\n",
       "      <th>sale1</th>\n",
       "      <td>574</td>\n",
       "      <td>558</td>\n",
       "      <td>965</td>\n",
       "    </tr>\n",
       "    <tr>\n",
       "      <th>sale2</th>\n",
       "      <td>856</td>\n",
       "      <td>899</td>\n",
       "      <td>204</td>\n",
       "    </tr>\n",
       "  </tbody>\n",
       "</table>\n",
       "</div>"
      ],
      "text/plain": [
       "       ZoneA  zoneB  zoneC\n",
       "sale1    574    558    965\n",
       "sale2    856    899    204"
      ]
     },
     "execution_count": 40,
     "metadata": {},
     "output_type": "execute_result"
    }
   ],
   "source": [
    "dataframe.drop('sale3')"
   ]
  },
  {
   "cell_type": "code",
   "execution_count": 41,
   "id": "74d5d522",
   "metadata": {},
   "outputs": [
    {
     "data": {
      "text/html": [
       "<div>\n",
       "<style scoped>\n",
       "    .dataframe tbody tr th:only-of-type {\n",
       "        vertical-align: middle;\n",
       "    }\n",
       "\n",
       "    .dataframe tbody tr th {\n",
       "        vertical-align: top;\n",
       "    }\n",
       "\n",
       "    .dataframe thead th {\n",
       "        text-align: right;\n",
       "    }\n",
       "</style>\n",
       "<table border=\"1\" class=\"dataframe\">\n",
       "  <thead>\n",
       "    <tr style=\"text-align: right;\">\n",
       "      <th></th>\n",
       "      <th>ZoneA</th>\n",
       "      <th>zoneB</th>\n",
       "      <th>zoneC</th>\n",
       "    </tr>\n",
       "  </thead>\n",
       "  <tbody>\n",
       "    <tr>\n",
       "      <th>sale1</th>\n",
       "      <td>574</td>\n",
       "      <td>558</td>\n",
       "      <td>965</td>\n",
       "    </tr>\n",
       "    <tr>\n",
       "      <th>sale2</th>\n",
       "      <td>856</td>\n",
       "      <td>899</td>\n",
       "      <td>204</td>\n",
       "    </tr>\n",
       "    <tr>\n",
       "      <th>sale3</th>\n",
       "      <td>666</td>\n",
       "      <td>574</td>\n",
       "      <td>624</td>\n",
       "    </tr>\n",
       "  </tbody>\n",
       "</table>\n",
       "</div>"
      ],
      "text/plain": [
       "       ZoneA  zoneB  zoneC\n",
       "sale1    574    558    965\n",
       "sale2    856    899    204\n",
       "sale3    666    574    624"
      ]
     },
     "execution_count": 41,
     "metadata": {},
     "output_type": "execute_result"
    }
   ],
   "source": [
    "dataframe"
   ]
  },
  {
   "cell_type": "code",
   "execution_count": 42,
   "id": "6119431b",
   "metadata": {},
   "outputs": [],
   "source": [
    "dataframe.drop('sale3', inplace = True)"
   ]
  },
  {
   "cell_type": "code",
   "execution_count": 43,
   "id": "e1981305",
   "metadata": {},
   "outputs": [
    {
     "data": {
      "text/html": [
       "<div>\n",
       "<style scoped>\n",
       "    .dataframe tbody tr th:only-of-type {\n",
       "        vertical-align: middle;\n",
       "    }\n",
       "\n",
       "    .dataframe tbody tr th {\n",
       "        vertical-align: top;\n",
       "    }\n",
       "\n",
       "    .dataframe thead th {\n",
       "        text-align: right;\n",
       "    }\n",
       "</style>\n",
       "<table border=\"1\" class=\"dataframe\">\n",
       "  <thead>\n",
       "    <tr style=\"text-align: right;\">\n",
       "      <th></th>\n",
       "      <th>ZoneA</th>\n",
       "      <th>zoneB</th>\n",
       "      <th>zoneC</th>\n",
       "    </tr>\n",
       "  </thead>\n",
       "  <tbody>\n",
       "    <tr>\n",
       "      <th>sale1</th>\n",
       "      <td>574</td>\n",
       "      <td>558</td>\n",
       "      <td>965</td>\n",
       "    </tr>\n",
       "    <tr>\n",
       "      <th>sale2</th>\n",
       "      <td>856</td>\n",
       "      <td>899</td>\n",
       "      <td>204</td>\n",
       "    </tr>\n",
       "  </tbody>\n",
       "</table>\n",
       "</div>"
      ],
      "text/plain": [
       "       ZoneA  zoneB  zoneC\n",
       "sale1    574    558    965\n",
       "sale2    856    899    204"
      ]
     },
     "execution_count": 43,
     "metadata": {},
     "output_type": "execute_result"
    }
   ],
   "source": [
    "dataframe"
   ]
  },
  {
   "cell_type": "code",
   "execution_count": 44,
   "id": "7f2f63ca",
   "metadata": {},
   "outputs": [
    {
     "data": {
      "text/plain": [
       "(2, 3)"
      ]
     },
     "execution_count": 44,
     "metadata": {},
     "output_type": "execute_result"
    }
   ],
   "source": [
    "dataframe.shape"
   ]
  },
  {
   "cell_type": "markdown",
   "id": "eef7470f",
   "metadata": {},
   "source": [
    "### Select Data with a condition"
   ]
  },
  {
   "cell_type": "code",
   "execution_count": 45,
   "id": "69f656f4",
   "metadata": {},
   "outputs": [
    {
     "data": {
      "text/plain": [
       "['sale1', 'sale2', 'sale3']"
      ]
     },
     "execution_count": 45,
     "metadata": {},
     "output_type": "execute_result"
    }
   ],
   "source": [
    "rows = 'sale1 sale2 sale3'.split()\n",
    "rows"
   ]
  },
  {
   "cell_type": "code",
   "execution_count": 47,
   "id": "d8c96608",
   "metadata": {},
   "outputs": [
    {
     "data": {
      "text/plain": [
       "['zoneA', 'zoneB', 'zoneC']"
      ]
     },
     "execution_count": 47,
     "metadata": {},
     "output_type": "execute_result"
    }
   ],
   "source": [
    "columns = 'zoneA zoneB zoneC'.split()\n",
    "columns"
   ]
  },
  {
   "cell_type": "code",
   "execution_count": 48,
   "id": "d433ba71",
   "metadata": {},
   "outputs": [
    {
     "data": {
      "text/plain": [
       "[[5555, 5885, 9954], [5741, 2365, 9874], [5471, 5657, 2410]]"
      ]
     },
     "execution_count": 48,
     "metadata": {},
     "output_type": "execute_result"
    }
   ],
   "source": [
    "info = [[5555, 5885, 9954], [5741, 2365, 9874], [5471, 5657, 2410]]\n",
    "info"
   ]
  },
  {
   "cell_type": "code",
   "execution_count": 49,
   "id": "5769d6cc",
   "metadata": {},
   "outputs": [],
   "source": [
    "dataframe = pd.DataFrame(info, rows, columns)"
   ]
  },
  {
   "cell_type": "code",
   "execution_count": 50,
   "id": "09e2924b",
   "metadata": {},
   "outputs": [
    {
     "data": {
      "text/html": [
       "<div>\n",
       "<style scoped>\n",
       "    .dataframe tbody tr th:only-of-type {\n",
       "        vertical-align: middle;\n",
       "    }\n",
       "\n",
       "    .dataframe tbody tr th {\n",
       "        vertical-align: top;\n",
       "    }\n",
       "\n",
       "    .dataframe thead th {\n",
       "        text-align: right;\n",
       "    }\n",
       "</style>\n",
       "<table border=\"1\" class=\"dataframe\">\n",
       "  <thead>\n",
       "    <tr style=\"text-align: right;\">\n",
       "      <th></th>\n",
       "      <th>zoneA</th>\n",
       "      <th>zoneB</th>\n",
       "      <th>zoneC</th>\n",
       "    </tr>\n",
       "  </thead>\n",
       "  <tbody>\n",
       "    <tr>\n",
       "      <th>sale1</th>\n",
       "      <td>5555</td>\n",
       "      <td>5885</td>\n",
       "      <td>9954</td>\n",
       "    </tr>\n",
       "    <tr>\n",
       "      <th>sale2</th>\n",
       "      <td>5741</td>\n",
       "      <td>2365</td>\n",
       "      <td>9874</td>\n",
       "    </tr>\n",
       "    <tr>\n",
       "      <th>sale3</th>\n",
       "      <td>5471</td>\n",
       "      <td>5657</td>\n",
       "      <td>2410</td>\n",
       "    </tr>\n",
       "  </tbody>\n",
       "</table>\n",
       "</div>"
      ],
      "text/plain": [
       "       zoneA  zoneB  zoneC\n",
       "sale1   5555   5885   9954\n",
       "sale2   5741   2365   9874\n",
       "sale3   5471   5657   2410"
      ]
     },
     "execution_count": 50,
     "metadata": {},
     "output_type": "execute_result"
    }
   ],
   "source": [
    "dataframe"
   ]
  },
  {
   "cell_type": "code",
   "execution_count": 51,
   "id": "e2b1543c",
   "metadata": {},
   "outputs": [],
   "source": [
    "condition = dataframe > 5000"
   ]
  },
  {
   "cell_type": "code",
   "execution_count": 52,
   "id": "08b71329",
   "metadata": {},
   "outputs": [
    {
     "data": {
      "text/html": [
       "<div>\n",
       "<style scoped>\n",
       "    .dataframe tbody tr th:only-of-type {\n",
       "        vertical-align: middle;\n",
       "    }\n",
       "\n",
       "    .dataframe tbody tr th {\n",
       "        vertical-align: top;\n",
       "    }\n",
       "\n",
       "    .dataframe thead th {\n",
       "        text-align: right;\n",
       "    }\n",
       "</style>\n",
       "<table border=\"1\" class=\"dataframe\">\n",
       "  <thead>\n",
       "    <tr style=\"text-align: right;\">\n",
       "      <th></th>\n",
       "      <th>zoneA</th>\n",
       "      <th>zoneB</th>\n",
       "      <th>zoneC</th>\n",
       "    </tr>\n",
       "  </thead>\n",
       "  <tbody>\n",
       "    <tr>\n",
       "      <th>sale1</th>\n",
       "      <td>5555</td>\n",
       "      <td>5885.0</td>\n",
       "      <td>9954.0</td>\n",
       "    </tr>\n",
       "    <tr>\n",
       "      <th>sale2</th>\n",
       "      <td>5741</td>\n",
       "      <td>NaN</td>\n",
       "      <td>9874.0</td>\n",
       "    </tr>\n",
       "    <tr>\n",
       "      <th>sale3</th>\n",
       "      <td>5471</td>\n",
       "      <td>5657.0</td>\n",
       "      <td>NaN</td>\n",
       "    </tr>\n",
       "  </tbody>\n",
       "</table>\n",
       "</div>"
      ],
      "text/plain": [
       "       zoneA   zoneB   zoneC\n",
       "sale1   5555  5885.0  9954.0\n",
       "sale2   5741     NaN  9874.0\n",
       "sale3   5471  5657.0     NaN"
      ]
     },
     "execution_count": 52,
     "metadata": {},
     "output_type": "execute_result"
    }
   ],
   "source": [
    "dataframe[condition]"
   ]
  },
  {
   "cell_type": "code",
   "execution_count": 55,
   "id": "4dd5063c",
   "metadata": {},
   "outputs": [],
   "source": [
    "condition2 = (dataframe['zoneA'] > 5500) & (dataframe['zoneB'] > 5700) "
   ]
  },
  {
   "cell_type": "code",
   "execution_count": 56,
   "id": "55c58bb3",
   "metadata": {},
   "outputs": [
    {
     "data": {
      "text/html": [
       "<div>\n",
       "<style scoped>\n",
       "    .dataframe tbody tr th:only-of-type {\n",
       "        vertical-align: middle;\n",
       "    }\n",
       "\n",
       "    .dataframe tbody tr th {\n",
       "        vertical-align: top;\n",
       "    }\n",
       "\n",
       "    .dataframe thead th {\n",
       "        text-align: right;\n",
       "    }\n",
       "</style>\n",
       "<table border=\"1\" class=\"dataframe\">\n",
       "  <thead>\n",
       "    <tr style=\"text-align: right;\">\n",
       "      <th></th>\n",
       "      <th>zoneA</th>\n",
       "      <th>zoneB</th>\n",
       "      <th>zoneC</th>\n",
       "    </tr>\n",
       "  </thead>\n",
       "  <tbody>\n",
       "    <tr>\n",
       "      <th>sale1</th>\n",
       "      <td>5555</td>\n",
       "      <td>5885</td>\n",
       "      <td>9954</td>\n",
       "    </tr>\n",
       "  </tbody>\n",
       "</table>\n",
       "</div>"
      ],
      "text/plain": [
       "       zoneA  zoneB  zoneC\n",
       "sale1   5555   5885   9954"
      ]
     },
     "execution_count": 56,
     "metadata": {},
     "output_type": "execute_result"
    }
   ],
   "source": [
    "dataframe[condition2]"
   ]
  },
  {
   "cell_type": "markdown",
   "id": "75d9da08",
   "metadata": {},
   "source": [
    "### Modify row names"
   ]
  },
  {
   "cell_type": "code",
   "execution_count": 58,
   "id": "b07b50e5",
   "metadata": {},
   "outputs": [],
   "source": [
    "rows = 'sale1 sale2 sale3'.split()\n",
    "columns = 'zoneA zoneB zoneC'.split()\n",
    "info = [[5555, 5885, 9954], [5741, 2365, 9874], [5471, 5657, 2410]]\n",
    "dataframe = pd.DataFrame(info, rows, columns)"
   ]
  },
  {
   "cell_type": "code",
   "execution_count": 59,
   "id": "7bc91b8f",
   "metadata": {
    "scrolled": true
   },
   "outputs": [
    {
     "data": {
      "text/html": [
       "<div>\n",
       "<style scoped>\n",
       "    .dataframe tbody tr th:only-of-type {\n",
       "        vertical-align: middle;\n",
       "    }\n",
       "\n",
       "    .dataframe tbody tr th {\n",
       "        vertical-align: top;\n",
       "    }\n",
       "\n",
       "    .dataframe thead th {\n",
       "        text-align: right;\n",
       "    }\n",
       "</style>\n",
       "<table border=\"1\" class=\"dataframe\">\n",
       "  <thead>\n",
       "    <tr style=\"text-align: right;\">\n",
       "      <th></th>\n",
       "      <th>zoneA</th>\n",
       "      <th>zoneB</th>\n",
       "      <th>zoneC</th>\n",
       "    </tr>\n",
       "  </thead>\n",
       "  <tbody>\n",
       "    <tr>\n",
       "      <th>sale1</th>\n",
       "      <td>5555</td>\n",
       "      <td>5885</td>\n",
       "      <td>9954</td>\n",
       "    </tr>\n",
       "    <tr>\n",
       "      <th>sale2</th>\n",
       "      <td>5741</td>\n",
       "      <td>2365</td>\n",
       "      <td>9874</td>\n",
       "    </tr>\n",
       "    <tr>\n",
       "      <th>sale3</th>\n",
       "      <td>5471</td>\n",
       "      <td>5657</td>\n",
       "      <td>2410</td>\n",
       "    </tr>\n",
       "  </tbody>\n",
       "</table>\n",
       "</div>"
      ],
      "text/plain": [
       "       zoneA  zoneB  zoneC\n",
       "sale1   5555   5885   9954\n",
       "sale2   5741   2365   9874\n",
       "sale3   5471   5657   2410"
      ]
     },
     "execution_count": 59,
     "metadata": {},
     "output_type": "execute_result"
    }
   ],
   "source": [
    "dataframe"
   ]
  },
  {
   "cell_type": "code",
   "execution_count": 60,
   "id": "10d1b8e5",
   "metadata": {},
   "outputs": [],
   "source": [
    "row_new = 'day1 day2 day3'.split()"
   ]
  },
  {
   "cell_type": "code",
   "execution_count": 61,
   "id": "28f69fd9",
   "metadata": {},
   "outputs": [],
   "source": [
    "dataframe['days'] = row_new"
   ]
  },
  {
   "cell_type": "code",
   "execution_count": 62,
   "id": "21cfd246",
   "metadata": {},
   "outputs": [
    {
     "data": {
      "text/html": [
       "<div>\n",
       "<style scoped>\n",
       "    .dataframe tbody tr th:only-of-type {\n",
       "        vertical-align: middle;\n",
       "    }\n",
       "\n",
       "    .dataframe tbody tr th {\n",
       "        vertical-align: top;\n",
       "    }\n",
       "\n",
       "    .dataframe thead th {\n",
       "        text-align: right;\n",
       "    }\n",
       "</style>\n",
       "<table border=\"1\" class=\"dataframe\">\n",
       "  <thead>\n",
       "    <tr style=\"text-align: right;\">\n",
       "      <th></th>\n",
       "      <th>zoneA</th>\n",
       "      <th>zoneB</th>\n",
       "      <th>zoneC</th>\n",
       "      <th>days</th>\n",
       "    </tr>\n",
       "  </thead>\n",
       "  <tbody>\n",
       "    <tr>\n",
       "      <th>sale1</th>\n",
       "      <td>5555</td>\n",
       "      <td>5885</td>\n",
       "      <td>9954</td>\n",
       "      <td>day1</td>\n",
       "    </tr>\n",
       "    <tr>\n",
       "      <th>sale2</th>\n",
       "      <td>5741</td>\n",
       "      <td>2365</td>\n",
       "      <td>9874</td>\n",
       "      <td>day2</td>\n",
       "    </tr>\n",
       "    <tr>\n",
       "      <th>sale3</th>\n",
       "      <td>5471</td>\n",
       "      <td>5657</td>\n",
       "      <td>2410</td>\n",
       "      <td>day3</td>\n",
       "    </tr>\n",
       "  </tbody>\n",
       "</table>\n",
       "</div>"
      ],
      "text/plain": [
       "       zoneA  zoneB  zoneC  days\n",
       "sale1   5555   5885   9954  day1\n",
       "sale2   5741   2365   9874  day2\n",
       "sale3   5471   5657   2410  day3"
      ]
     },
     "execution_count": 62,
     "metadata": {},
     "output_type": "execute_result"
    }
   ],
   "source": [
    "dataframe"
   ]
  },
  {
   "cell_type": "code",
   "execution_count": null,
   "id": "7548151c",
   "metadata": {},
   "outputs": [],
   "source": []
  }
 ],
 "metadata": {
  "kernelspec": {
   "display_name": "Python 3 (ipykernel)",
   "language": "python",
   "name": "python3"
  },
  "language_info": {
   "codemirror_mode": {
    "name": "ipython",
    "version": 3
   },
   "file_extension": ".py",
   "mimetype": "text/x-python",
   "name": "python",
   "nbconvert_exporter": "python",
   "pygments_lexer": "ipython3",
   "version": "3.11.4"
  }
 },
 "nbformat": 4,
 "nbformat_minor": 5
}
