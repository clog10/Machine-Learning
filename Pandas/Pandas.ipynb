{
 "cells": [
  {
   "cell_type": "markdown",
   "id": "59009fe8",
   "metadata": {},
   "source": [
    "# Pandas"
   ]
  },
  {
   "cell_type": "code",
   "execution_count": 1,
   "id": "22de4e2b",
   "metadata": {},
   "outputs": [],
   "source": [
    "import numpy as np\n",
    "import pandas as pd"
   ]
  },
  {
   "cell_type": "markdown",
   "id": "3fa69b00",
   "metadata": {},
   "source": [
    "## Series"
   ]
  },
  {
   "cell_type": "code",
   "execution_count": 4,
   "id": "9e47bf85",
   "metadata": {},
   "outputs": [
    {
     "data": {
      "text/plain": [
       "a    1\n",
       "b    2\n",
       "c    3\n",
       "dtype: int64"
      ]
     },
     "execution_count": 4,
     "metadata": {},
     "output_type": "execute_result"
    }
   ],
   "source": [
    "label = ['a', 'b', 'c']\n",
    "info = [1, 2, 3]\n",
    "pd.Series(data = info, index = label)"
   ]
  },
  {
   "cell_type": "code",
   "execution_count": 9,
   "id": "b7d18cf7",
   "metadata": {},
   "outputs": [],
   "source": [
    "array = np.arange(5, 8)\n",
    "labels = ['venta1', 'venta2', 'venta3']\n",
    "serie = pd.Series(array, labels)"
   ]
  },
  {
   "cell_type": "code",
   "execution_count": 10,
   "id": "ccb79eae",
   "metadata": {},
   "outputs": [
    {
     "data": {
      "text/plain": [
       "venta1    5\n",
       "venta2    6\n",
       "venta3    7\n",
       "dtype: int32"
      ]
     },
     "execution_count": 10,
     "metadata": {},
     "output_type": "execute_result"
    }
   ],
   "source": [
    "serie"
   ]
  },
  {
   "cell_type": "code",
   "execution_count": 12,
   "id": "46d2f353",
   "metadata": {},
   "outputs": [
    {
     "data": {
      "text/plain": [
       "6"
      ]
     },
     "execution_count": 12,
     "metadata": {},
     "output_type": "execute_result"
    }
   ],
   "source": [
    "serie['venta2']"
   ]
  },
  {
   "cell_type": "code",
   "execution_count": 13,
   "id": "43a35290",
   "metadata": {},
   "outputs": [
    {
     "data": {
      "text/plain": [
       "7"
      ]
     },
     "execution_count": 13,
     "metadata": {},
     "output_type": "execute_result"
    }
   ],
   "source": [
    "serie[2]"
   ]
  },
  {
   "cell_type": "code",
   "execution_count": 14,
   "id": "6bb92a85",
   "metadata": {},
   "outputs": [
    {
     "data": {
      "text/plain": [
       "['tech', 500, 'printer', 600, 'a']"
      ]
     },
     "execution_count": 14,
     "metadata": {},
     "output_type": "execute_result"
    }
   ],
   "source": [
    "info2 = ['tech', 500, 'printer', 600, 'a']\n",
    "info2"
   ]
  },
  {
   "cell_type": "code",
   "execution_count": 15,
   "id": "ebd499f1",
   "metadata": {},
   "outputs": [
    {
     "data": {
      "text/plain": [
       "0       tech\n",
       "1        500\n",
       "2    printer\n",
       "3        600\n",
       "4          a\n",
       "dtype: object"
      ]
     },
     "execution_count": 15,
     "metadata": {},
     "output_type": "execute_result"
    }
   ],
   "source": [
    "pd.Series(info2)"
   ]
  },
  {
   "cell_type": "code",
   "execution_count": 18,
   "id": "e85e20ce",
   "metadata": {},
   "outputs": [],
   "source": [
    "serie2 = pd.Series([1, 2, 3], ['a', 'b', 'v'])\n",
    "serie3 = pd.Series([4, 5, 6], ['a', 'b', 'v'])"
   ]
  },
  {
   "cell_type": "code",
   "execution_count": 19,
   "id": "a285dffb",
   "metadata": {},
   "outputs": [],
   "source": [
    "serie_add = serie2 + serie3"
   ]
  },
  {
   "cell_type": "code",
   "execution_count": 20,
   "id": "34459dd9",
   "metadata": {},
   "outputs": [
    {
     "data": {
      "text/plain": [
       "a    5\n",
       "b    7\n",
       "v    9\n",
       "dtype: int64"
      ]
     },
     "execution_count": 20,
     "metadata": {},
     "output_type": "execute_result"
    }
   ],
   "source": [
    "serie_add"
   ]
  },
  {
   "cell_type": "markdown",
   "id": "cbc52c5b",
   "metadata": {},
   "source": [
    "## DataFrames"
   ]
  },
  {
   "cell_type": "code",
   "execution_count": 21,
   "id": "150c22b6",
   "metadata": {},
   "outputs": [],
   "source": [
    "rows = ['sale1', 'sale2', 'sale3']\n",
    "columns = ['ZoneA', 'zoneB', 'zoneC']\n",
    "dat = [[574, 558, 965], [856, 899, 204], [666, 574, 624]]"
   ]
  },
  {
   "cell_type": "code",
   "execution_count": 22,
   "id": "18f822ee",
   "metadata": {},
   "outputs": [],
   "source": [
    "dataframe = pd.DataFrame(dat, rows, columns)"
   ]
  },
  {
   "cell_type": "code",
   "execution_count": 23,
   "id": "7e556735",
   "metadata": {},
   "outputs": [
    {
     "data": {
      "text/html": [
       "<div>\n",
       "<style scoped>\n",
       "    .dataframe tbody tr th:only-of-type {\n",
       "        vertical-align: middle;\n",
       "    }\n",
       "\n",
       "    .dataframe tbody tr th {\n",
       "        vertical-align: top;\n",
       "    }\n",
       "\n",
       "    .dataframe thead th {\n",
       "        text-align: right;\n",
       "    }\n",
       "</style>\n",
       "<table border=\"1\" class=\"dataframe\">\n",
       "  <thead>\n",
       "    <tr style=\"text-align: right;\">\n",
       "      <th></th>\n",
       "      <th>ZoneA</th>\n",
       "      <th>zoneB</th>\n",
       "      <th>zoneC</th>\n",
       "    </tr>\n",
       "  </thead>\n",
       "  <tbody>\n",
       "    <tr>\n",
       "      <th>sale1</th>\n",
       "      <td>574</td>\n",
       "      <td>558</td>\n",
       "      <td>965</td>\n",
       "    </tr>\n",
       "    <tr>\n",
       "      <th>sale2</th>\n",
       "      <td>856</td>\n",
       "      <td>899</td>\n",
       "      <td>204</td>\n",
       "    </tr>\n",
       "    <tr>\n",
       "      <th>sale3</th>\n",
       "      <td>666</td>\n",
       "      <td>574</td>\n",
       "      <td>624</td>\n",
       "    </tr>\n",
       "  </tbody>\n",
       "</table>\n",
       "</div>"
      ],
      "text/plain": [
       "       ZoneA  zoneB  zoneC\n",
       "sale1    574    558    965\n",
       "sale2    856    899    204\n",
       "sale3    666    574    624"
      ]
     },
     "execution_count": 23,
     "metadata": {},
     "output_type": "execute_result"
    }
   ],
   "source": [
    "dataframe"
   ]
  },
  {
   "cell_type": "code",
   "execution_count": 24,
   "id": "2c6f127b",
   "metadata": {},
   "outputs": [
    {
     "data": {
      "text/plain": [
       "ZoneA    856\n",
       "zoneB    899\n",
       "zoneC    204\n",
       "Name: sale2, dtype: int64"
      ]
     },
     "execution_count": 24,
     "metadata": {},
     "output_type": "execute_result"
    }
   ],
   "source": [
    "dataframe.loc['sale2']"
   ]
  },
  {
   "cell_type": "code",
   "execution_count": 27,
   "id": "a1573091",
   "metadata": {},
   "outputs": [
    {
     "data": {
      "text/html": [
       "<div>\n",
       "<style scoped>\n",
       "    .dataframe tbody tr th:only-of-type {\n",
       "        vertical-align: middle;\n",
       "    }\n",
       "\n",
       "    .dataframe tbody tr th {\n",
       "        vertical-align: top;\n",
       "    }\n",
       "\n",
       "    .dataframe thead th {\n",
       "        text-align: right;\n",
       "    }\n",
       "</style>\n",
       "<table border=\"1\" class=\"dataframe\">\n",
       "  <thead>\n",
       "    <tr style=\"text-align: right;\">\n",
       "      <th></th>\n",
       "      <th>ZoneA</th>\n",
       "      <th>zoneB</th>\n",
       "      <th>zoneC</th>\n",
       "    </tr>\n",
       "  </thead>\n",
       "  <tbody>\n",
       "    <tr>\n",
       "      <th>sale1</th>\n",
       "      <td>574</td>\n",
       "      <td>558</td>\n",
       "      <td>965</td>\n",
       "    </tr>\n",
       "    <tr>\n",
       "      <th>sale3</th>\n",
       "      <td>666</td>\n",
       "      <td>574</td>\n",
       "      <td>624</td>\n",
       "    </tr>\n",
       "  </tbody>\n",
       "</table>\n",
       "</div>"
      ],
      "text/plain": [
       "       ZoneA  zoneB  zoneC\n",
       "sale1    574    558    965\n",
       "sale3    666    574    624"
      ]
     },
     "execution_count": 27,
     "metadata": {},
     "output_type": "execute_result"
    }
   ],
   "source": [
    "dataframe.loc[['sale1', 'sale3']]"
   ]
  },
  {
   "cell_type": "code",
   "execution_count": 30,
   "id": "fb60025b",
   "metadata": {},
   "outputs": [
    {
     "data": {
      "text/plain": [
       "sale1    574\n",
       "sale2    856\n",
       "sale3    666\n",
       "Name: ZoneA, dtype: int64"
      ]
     },
     "execution_count": 30,
     "metadata": {},
     "output_type": "execute_result"
    }
   ],
   "source": [
    "dataframe['ZoneA']"
   ]
  },
  {
   "cell_type": "code",
   "execution_count": 31,
   "id": "546dae11",
   "metadata": {},
   "outputs": [
    {
     "data": {
      "text/plain": [
       "574"
      ]
     },
     "execution_count": 31,
     "metadata": {},
     "output_type": "execute_result"
    }
   ],
   "source": [
    "dataframe.loc['sale1']['ZoneA']"
   ]
  },
  {
   "cell_type": "code",
   "execution_count": 32,
   "id": "dfc39808",
   "metadata": {},
   "outputs": [],
   "source": [
    "dataframe['total_sales'] = dataframe['ZoneA'] + dataframe['zoneB'] + dataframe['zoneC']"
   ]
  },
  {
   "cell_type": "code",
   "execution_count": 33,
   "id": "61d08a48",
   "metadata": {},
   "outputs": [
    {
     "data": {
      "text/html": [
       "<div>\n",
       "<style scoped>\n",
       "    .dataframe tbody tr th:only-of-type {\n",
       "        vertical-align: middle;\n",
       "    }\n",
       "\n",
       "    .dataframe tbody tr th {\n",
       "        vertical-align: top;\n",
       "    }\n",
       "\n",
       "    .dataframe thead th {\n",
       "        text-align: right;\n",
       "    }\n",
       "</style>\n",
       "<table border=\"1\" class=\"dataframe\">\n",
       "  <thead>\n",
       "    <tr style=\"text-align: right;\">\n",
       "      <th></th>\n",
       "      <th>ZoneA</th>\n",
       "      <th>zoneB</th>\n",
       "      <th>zoneC</th>\n",
       "      <th>total_sales</th>\n",
       "    </tr>\n",
       "  </thead>\n",
       "  <tbody>\n",
       "    <tr>\n",
       "      <th>sale1</th>\n",
       "      <td>574</td>\n",
       "      <td>558</td>\n",
       "      <td>965</td>\n",
       "      <td>2097</td>\n",
       "    </tr>\n",
       "    <tr>\n",
       "      <th>sale2</th>\n",
       "      <td>856</td>\n",
       "      <td>899</td>\n",
       "      <td>204</td>\n",
       "      <td>1959</td>\n",
       "    </tr>\n",
       "    <tr>\n",
       "      <th>sale3</th>\n",
       "      <td>666</td>\n",
       "      <td>574</td>\n",
       "      <td>624</td>\n",
       "      <td>1864</td>\n",
       "    </tr>\n",
       "  </tbody>\n",
       "</table>\n",
       "</div>"
      ],
      "text/plain": [
       "       ZoneA  zoneB  zoneC  total_sales\n",
       "sale1    574    558    965         2097\n",
       "sale2    856    899    204         1959\n",
       "sale3    666    574    624         1864"
      ]
     },
     "execution_count": 33,
     "metadata": {},
     "output_type": "execute_result"
    }
   ],
   "source": [
    "dataframe"
   ]
  },
  {
   "cell_type": "code",
   "execution_count": 36,
   "id": "f4e6c160",
   "metadata": {},
   "outputs": [
    {
     "data": {
      "text/html": [
       "<div>\n",
       "<style scoped>\n",
       "    .dataframe tbody tr th:only-of-type {\n",
       "        vertical-align: middle;\n",
       "    }\n",
       "\n",
       "    .dataframe tbody tr th {\n",
       "        vertical-align: top;\n",
       "    }\n",
       "\n",
       "    .dataframe thead th {\n",
       "        text-align: right;\n",
       "    }\n",
       "</style>\n",
       "<table border=\"1\" class=\"dataframe\">\n",
       "  <thead>\n",
       "    <tr style=\"text-align: right;\">\n",
       "      <th></th>\n",
       "      <th>ZoneA</th>\n",
       "      <th>zoneB</th>\n",
       "      <th>zoneC</th>\n",
       "    </tr>\n",
       "  </thead>\n",
       "  <tbody>\n",
       "    <tr>\n",
       "      <th>sale1</th>\n",
       "      <td>574</td>\n",
       "      <td>558</td>\n",
       "      <td>965</td>\n",
       "    </tr>\n",
       "    <tr>\n",
       "      <th>sale2</th>\n",
       "      <td>856</td>\n",
       "      <td>899</td>\n",
       "      <td>204</td>\n",
       "    </tr>\n",
       "    <tr>\n",
       "      <th>sale3</th>\n",
       "      <td>666</td>\n",
       "      <td>574</td>\n",
       "      <td>624</td>\n",
       "    </tr>\n",
       "  </tbody>\n",
       "</table>\n",
       "</div>"
      ],
      "text/plain": [
       "       ZoneA  zoneB  zoneC\n",
       "sale1    574    558    965\n",
       "sale2    856    899    204\n",
       "sale3    666    574    624"
      ]
     },
     "execution_count": 36,
     "metadata": {},
     "output_type": "execute_result"
    }
   ],
   "source": [
    "dataframe.drop('total_sales', axis = 1)"
   ]
  },
  {
   "cell_type": "code",
   "execution_count": 37,
   "id": "12a8b0a7",
   "metadata": {},
   "outputs": [
    {
     "data": {
      "text/html": [
       "<div>\n",
       "<style scoped>\n",
       "    .dataframe tbody tr th:only-of-type {\n",
       "        vertical-align: middle;\n",
       "    }\n",
       "\n",
       "    .dataframe tbody tr th {\n",
       "        vertical-align: top;\n",
       "    }\n",
       "\n",
       "    .dataframe thead th {\n",
       "        text-align: right;\n",
       "    }\n",
       "</style>\n",
       "<table border=\"1\" class=\"dataframe\">\n",
       "  <thead>\n",
       "    <tr style=\"text-align: right;\">\n",
       "      <th></th>\n",
       "      <th>ZoneA</th>\n",
       "      <th>zoneB</th>\n",
       "      <th>zoneC</th>\n",
       "      <th>total_sales</th>\n",
       "    </tr>\n",
       "  </thead>\n",
       "  <tbody>\n",
       "    <tr>\n",
       "      <th>sale1</th>\n",
       "      <td>574</td>\n",
       "      <td>558</td>\n",
       "      <td>965</td>\n",
       "      <td>2097</td>\n",
       "    </tr>\n",
       "    <tr>\n",
       "      <th>sale2</th>\n",
       "      <td>856</td>\n",
       "      <td>899</td>\n",
       "      <td>204</td>\n",
       "      <td>1959</td>\n",
       "    </tr>\n",
       "    <tr>\n",
       "      <th>sale3</th>\n",
       "      <td>666</td>\n",
       "      <td>574</td>\n",
       "      <td>624</td>\n",
       "      <td>1864</td>\n",
       "    </tr>\n",
       "  </tbody>\n",
       "</table>\n",
       "</div>"
      ],
      "text/plain": [
       "       ZoneA  zoneB  zoneC  total_sales\n",
       "sale1    574    558    965         2097\n",
       "sale2    856    899    204         1959\n",
       "sale3    666    574    624         1864"
      ]
     },
     "execution_count": 37,
     "metadata": {},
     "output_type": "execute_result"
    }
   ],
   "source": [
    "dataframe"
   ]
  },
  {
   "cell_type": "code",
   "execution_count": 38,
   "id": "3ae2b3ba",
   "metadata": {},
   "outputs": [],
   "source": [
    "dataframe.drop('total_sales', axis = 1, inplace = True)"
   ]
  },
  {
   "cell_type": "code",
   "execution_count": 39,
   "id": "8b7d3986",
   "metadata": {},
   "outputs": [
    {
     "data": {
      "text/html": [
       "<div>\n",
       "<style scoped>\n",
       "    .dataframe tbody tr th:only-of-type {\n",
       "        vertical-align: middle;\n",
       "    }\n",
       "\n",
       "    .dataframe tbody tr th {\n",
       "        vertical-align: top;\n",
       "    }\n",
       "\n",
       "    .dataframe thead th {\n",
       "        text-align: right;\n",
       "    }\n",
       "</style>\n",
       "<table border=\"1\" class=\"dataframe\">\n",
       "  <thead>\n",
       "    <tr style=\"text-align: right;\">\n",
       "      <th></th>\n",
       "      <th>ZoneA</th>\n",
       "      <th>zoneB</th>\n",
       "      <th>zoneC</th>\n",
       "    </tr>\n",
       "  </thead>\n",
       "  <tbody>\n",
       "    <tr>\n",
       "      <th>sale1</th>\n",
       "      <td>574</td>\n",
       "      <td>558</td>\n",
       "      <td>965</td>\n",
       "    </tr>\n",
       "    <tr>\n",
       "      <th>sale2</th>\n",
       "      <td>856</td>\n",
       "      <td>899</td>\n",
       "      <td>204</td>\n",
       "    </tr>\n",
       "    <tr>\n",
       "      <th>sale3</th>\n",
       "      <td>666</td>\n",
       "      <td>574</td>\n",
       "      <td>624</td>\n",
       "    </tr>\n",
       "  </tbody>\n",
       "</table>\n",
       "</div>"
      ],
      "text/plain": [
       "       ZoneA  zoneB  zoneC\n",
       "sale1    574    558    965\n",
       "sale2    856    899    204\n",
       "sale3    666    574    624"
      ]
     },
     "execution_count": 39,
     "metadata": {},
     "output_type": "execute_result"
    }
   ],
   "source": [
    "dataframe"
   ]
  },
  {
   "cell_type": "code",
   "execution_count": 40,
   "id": "ea8bfd14",
   "metadata": {},
   "outputs": [
    {
     "data": {
      "text/html": [
       "<div>\n",
       "<style scoped>\n",
       "    .dataframe tbody tr th:only-of-type {\n",
       "        vertical-align: middle;\n",
       "    }\n",
       "\n",
       "    .dataframe tbody tr th {\n",
       "        vertical-align: top;\n",
       "    }\n",
       "\n",
       "    .dataframe thead th {\n",
       "        text-align: right;\n",
       "    }\n",
       "</style>\n",
       "<table border=\"1\" class=\"dataframe\">\n",
       "  <thead>\n",
       "    <tr style=\"text-align: right;\">\n",
       "      <th></th>\n",
       "      <th>ZoneA</th>\n",
       "      <th>zoneB</th>\n",
       "      <th>zoneC</th>\n",
       "    </tr>\n",
       "  </thead>\n",
       "  <tbody>\n",
       "    <tr>\n",
       "      <th>sale1</th>\n",
       "      <td>574</td>\n",
       "      <td>558</td>\n",
       "      <td>965</td>\n",
       "    </tr>\n",
       "    <tr>\n",
       "      <th>sale2</th>\n",
       "      <td>856</td>\n",
       "      <td>899</td>\n",
       "      <td>204</td>\n",
       "    </tr>\n",
       "  </tbody>\n",
       "</table>\n",
       "</div>"
      ],
      "text/plain": [
       "       ZoneA  zoneB  zoneC\n",
       "sale1    574    558    965\n",
       "sale2    856    899    204"
      ]
     },
     "execution_count": 40,
     "metadata": {},
     "output_type": "execute_result"
    }
   ],
   "source": [
    "dataframe.drop('sale3')"
   ]
  },
  {
   "cell_type": "code",
   "execution_count": 41,
   "id": "614659f7",
   "metadata": {},
   "outputs": [
    {
     "data": {
      "text/html": [
       "<div>\n",
       "<style scoped>\n",
       "    .dataframe tbody tr th:only-of-type {\n",
       "        vertical-align: middle;\n",
       "    }\n",
       "\n",
       "    .dataframe tbody tr th {\n",
       "        vertical-align: top;\n",
       "    }\n",
       "\n",
       "    .dataframe thead th {\n",
       "        text-align: right;\n",
       "    }\n",
       "</style>\n",
       "<table border=\"1\" class=\"dataframe\">\n",
       "  <thead>\n",
       "    <tr style=\"text-align: right;\">\n",
       "      <th></th>\n",
       "      <th>ZoneA</th>\n",
       "      <th>zoneB</th>\n",
       "      <th>zoneC</th>\n",
       "    </tr>\n",
       "  </thead>\n",
       "  <tbody>\n",
       "    <tr>\n",
       "      <th>sale1</th>\n",
       "      <td>574</td>\n",
       "      <td>558</td>\n",
       "      <td>965</td>\n",
       "    </tr>\n",
       "    <tr>\n",
       "      <th>sale2</th>\n",
       "      <td>856</td>\n",
       "      <td>899</td>\n",
       "      <td>204</td>\n",
       "    </tr>\n",
       "    <tr>\n",
       "      <th>sale3</th>\n",
       "      <td>666</td>\n",
       "      <td>574</td>\n",
       "      <td>624</td>\n",
       "    </tr>\n",
       "  </tbody>\n",
       "</table>\n",
       "</div>"
      ],
      "text/plain": [
       "       ZoneA  zoneB  zoneC\n",
       "sale1    574    558    965\n",
       "sale2    856    899    204\n",
       "sale3    666    574    624"
      ]
     },
     "execution_count": 41,
     "metadata": {},
     "output_type": "execute_result"
    }
   ],
   "source": [
    "dataframe"
   ]
  },
  {
   "cell_type": "code",
   "execution_count": 42,
   "id": "d962db45",
   "metadata": {},
   "outputs": [],
   "source": [
    "dataframe.drop('sale3', inplace = True)"
   ]
  },
  {
   "cell_type": "code",
   "execution_count": 43,
   "id": "88bbb14c",
   "metadata": {},
   "outputs": [
    {
     "data": {
      "text/html": [
       "<div>\n",
       "<style scoped>\n",
       "    .dataframe tbody tr th:only-of-type {\n",
       "        vertical-align: middle;\n",
       "    }\n",
       "\n",
       "    .dataframe tbody tr th {\n",
       "        vertical-align: top;\n",
       "    }\n",
       "\n",
       "    .dataframe thead th {\n",
       "        text-align: right;\n",
       "    }\n",
       "</style>\n",
       "<table border=\"1\" class=\"dataframe\">\n",
       "  <thead>\n",
       "    <tr style=\"text-align: right;\">\n",
       "      <th></th>\n",
       "      <th>ZoneA</th>\n",
       "      <th>zoneB</th>\n",
       "      <th>zoneC</th>\n",
       "    </tr>\n",
       "  </thead>\n",
       "  <tbody>\n",
       "    <tr>\n",
       "      <th>sale1</th>\n",
       "      <td>574</td>\n",
       "      <td>558</td>\n",
       "      <td>965</td>\n",
       "    </tr>\n",
       "    <tr>\n",
       "      <th>sale2</th>\n",
       "      <td>856</td>\n",
       "      <td>899</td>\n",
       "      <td>204</td>\n",
       "    </tr>\n",
       "  </tbody>\n",
       "</table>\n",
       "</div>"
      ],
      "text/plain": [
       "       ZoneA  zoneB  zoneC\n",
       "sale1    574    558    965\n",
       "sale2    856    899    204"
      ]
     },
     "execution_count": 43,
     "metadata": {},
     "output_type": "execute_result"
    }
   ],
   "source": [
    "dataframe"
   ]
  },
  {
   "cell_type": "code",
   "execution_count": 44,
   "id": "fbc31427",
   "metadata": {},
   "outputs": [
    {
     "data": {
      "text/plain": [
       "(2, 3)"
      ]
     },
     "execution_count": 44,
     "metadata": {},
     "output_type": "execute_result"
    }
   ],
   "source": [
    "dataframe.shape"
   ]
  },
  {
   "cell_type": "markdown",
   "id": "70c17538",
   "metadata": {},
   "source": [
    "### Select Data with a condition"
   ]
  },
  {
   "cell_type": "code",
   "execution_count": 45,
   "id": "36816702",
   "metadata": {},
   "outputs": [
    {
     "data": {
      "text/plain": [
       "['sale1', 'sale2', 'sale3']"
      ]
     },
     "execution_count": 45,
     "metadata": {},
     "output_type": "execute_result"
    }
   ],
   "source": [
    "rows = 'sale1 sale2 sale3'.split()\n",
    "rows"
   ]
  },
  {
   "cell_type": "code",
   "execution_count": 47,
   "id": "6d76e495",
   "metadata": {},
   "outputs": [
    {
     "data": {
      "text/plain": [
       "['zoneA', 'zoneB', 'zoneC']"
      ]
     },
     "execution_count": 47,
     "metadata": {},
     "output_type": "execute_result"
    }
   ],
   "source": [
    "columns = 'zoneA zoneB zoneC'.split()\n",
    "columns"
   ]
  },
  {
   "cell_type": "code",
   "execution_count": 48,
   "id": "0c69fe6c",
   "metadata": {},
   "outputs": [
    {
     "data": {
      "text/plain": [
       "[[5555, 5885, 9954], [5741, 2365, 9874], [5471, 5657, 2410]]"
      ]
     },
     "execution_count": 48,
     "metadata": {},
     "output_type": "execute_result"
    }
   ],
   "source": [
    "info = [[5555, 5885, 9954], [5741, 2365, 9874], [5471, 5657, 2410]]\n",
    "info"
   ]
  },
  {
   "cell_type": "code",
   "execution_count": 49,
   "id": "18e3798a",
   "metadata": {},
   "outputs": [],
   "source": [
    "dataframe = pd.DataFrame(info, rows, columns)"
   ]
  },
  {
   "cell_type": "code",
   "execution_count": 50,
   "id": "8d44fdff",
   "metadata": {},
   "outputs": [
    {
     "data": {
      "text/html": [
       "<div>\n",
       "<style scoped>\n",
       "    .dataframe tbody tr th:only-of-type {\n",
       "        vertical-align: middle;\n",
       "    }\n",
       "\n",
       "    .dataframe tbody tr th {\n",
       "        vertical-align: top;\n",
       "    }\n",
       "\n",
       "    .dataframe thead th {\n",
       "        text-align: right;\n",
       "    }\n",
       "</style>\n",
       "<table border=\"1\" class=\"dataframe\">\n",
       "  <thead>\n",
       "    <tr style=\"text-align: right;\">\n",
       "      <th></th>\n",
       "      <th>zoneA</th>\n",
       "      <th>zoneB</th>\n",
       "      <th>zoneC</th>\n",
       "    </tr>\n",
       "  </thead>\n",
       "  <tbody>\n",
       "    <tr>\n",
       "      <th>sale1</th>\n",
       "      <td>5555</td>\n",
       "      <td>5885</td>\n",
       "      <td>9954</td>\n",
       "    </tr>\n",
       "    <tr>\n",
       "      <th>sale2</th>\n",
       "      <td>5741</td>\n",
       "      <td>2365</td>\n",
       "      <td>9874</td>\n",
       "    </tr>\n",
       "    <tr>\n",
       "      <th>sale3</th>\n",
       "      <td>5471</td>\n",
       "      <td>5657</td>\n",
       "      <td>2410</td>\n",
       "    </tr>\n",
       "  </tbody>\n",
       "</table>\n",
       "</div>"
      ],
      "text/plain": [
       "       zoneA  zoneB  zoneC\n",
       "sale1   5555   5885   9954\n",
       "sale2   5741   2365   9874\n",
       "sale3   5471   5657   2410"
      ]
     },
     "execution_count": 50,
     "metadata": {},
     "output_type": "execute_result"
    }
   ],
   "source": [
    "dataframe"
   ]
  },
  {
   "cell_type": "code",
   "execution_count": 51,
   "id": "4f14e7f0",
   "metadata": {},
   "outputs": [],
   "source": [
    "condition = dataframe > 5000"
   ]
  },
  {
   "cell_type": "code",
   "execution_count": 52,
   "id": "1ef9309d",
   "metadata": {},
   "outputs": [
    {
     "data": {
      "text/html": [
       "<div>\n",
       "<style scoped>\n",
       "    .dataframe tbody tr th:only-of-type {\n",
       "        vertical-align: middle;\n",
       "    }\n",
       "\n",
       "    .dataframe tbody tr th {\n",
       "        vertical-align: top;\n",
       "    }\n",
       "\n",
       "    .dataframe thead th {\n",
       "        text-align: right;\n",
       "    }\n",
       "</style>\n",
       "<table border=\"1\" class=\"dataframe\">\n",
       "  <thead>\n",
       "    <tr style=\"text-align: right;\">\n",
       "      <th></th>\n",
       "      <th>zoneA</th>\n",
       "      <th>zoneB</th>\n",
       "      <th>zoneC</th>\n",
       "    </tr>\n",
       "  </thead>\n",
       "  <tbody>\n",
       "    <tr>\n",
       "      <th>sale1</th>\n",
       "      <td>5555</td>\n",
       "      <td>5885.0</td>\n",
       "      <td>9954.0</td>\n",
       "    </tr>\n",
       "    <tr>\n",
       "      <th>sale2</th>\n",
       "      <td>5741</td>\n",
       "      <td>NaN</td>\n",
       "      <td>9874.0</td>\n",
       "    </tr>\n",
       "    <tr>\n",
       "      <th>sale3</th>\n",
       "      <td>5471</td>\n",
       "      <td>5657.0</td>\n",
       "      <td>NaN</td>\n",
       "    </tr>\n",
       "  </tbody>\n",
       "</table>\n",
       "</div>"
      ],
      "text/plain": [
       "       zoneA   zoneB   zoneC\n",
       "sale1   5555  5885.0  9954.0\n",
       "sale2   5741     NaN  9874.0\n",
       "sale3   5471  5657.0     NaN"
      ]
     },
     "execution_count": 52,
     "metadata": {},
     "output_type": "execute_result"
    }
   ],
   "source": [
    "dataframe[condition]"
   ]
  },
  {
   "cell_type": "code",
   "execution_count": 55,
   "id": "2a60b491",
   "metadata": {},
   "outputs": [],
   "source": [
    "condition2 = (dataframe['zoneA'] > 5500) & (dataframe['zoneB'] > 5700) "
   ]
  },
  {
   "cell_type": "code",
   "execution_count": 56,
   "id": "2ca2085d",
   "metadata": {},
   "outputs": [
    {
     "data": {
      "text/html": [
       "<div>\n",
       "<style scoped>\n",
       "    .dataframe tbody tr th:only-of-type {\n",
       "        vertical-align: middle;\n",
       "    }\n",
       "\n",
       "    .dataframe tbody tr th {\n",
       "        vertical-align: top;\n",
       "    }\n",
       "\n",
       "    .dataframe thead th {\n",
       "        text-align: right;\n",
       "    }\n",
       "</style>\n",
       "<table border=\"1\" class=\"dataframe\">\n",
       "  <thead>\n",
       "    <tr style=\"text-align: right;\">\n",
       "      <th></th>\n",
       "      <th>zoneA</th>\n",
       "      <th>zoneB</th>\n",
       "      <th>zoneC</th>\n",
       "    </tr>\n",
       "  </thead>\n",
       "  <tbody>\n",
       "    <tr>\n",
       "      <th>sale1</th>\n",
       "      <td>5555</td>\n",
       "      <td>5885</td>\n",
       "      <td>9954</td>\n",
       "    </tr>\n",
       "  </tbody>\n",
       "</table>\n",
       "</div>"
      ],
      "text/plain": [
       "       zoneA  zoneB  zoneC\n",
       "sale1   5555   5885   9954"
      ]
     },
     "execution_count": 56,
     "metadata": {},
     "output_type": "execute_result"
    }
   ],
   "source": [
    "dataframe[condition2]"
   ]
  },
  {
   "cell_type": "markdown",
   "id": "72d512ac",
   "metadata": {},
   "source": [
    "### Modify row names"
   ]
  },
  {
   "cell_type": "code",
   "execution_count": 58,
   "id": "a3547259",
   "metadata": {},
   "outputs": [],
   "source": [
    "rows = 'sale1 sale2 sale3'.split()\n",
    "columns = 'zoneA zoneB zoneC'.split()\n",
    "info = [[5555, 5885, 9954], [5741, 2365, 9874], [5471, 5657, 2410]]\n",
    "dataframe = pd.DataFrame(info, rows, columns)"
   ]
  },
  {
   "cell_type": "code",
   "execution_count": 59,
   "id": "e8a021d6",
   "metadata": {
    "scrolled": true
   },
   "outputs": [
    {
     "data": {
      "text/html": [
       "<div>\n",
       "<style scoped>\n",
       "    .dataframe tbody tr th:only-of-type {\n",
       "        vertical-align: middle;\n",
       "    }\n",
       "\n",
       "    .dataframe tbody tr th {\n",
       "        vertical-align: top;\n",
       "    }\n",
       "\n",
       "    .dataframe thead th {\n",
       "        text-align: right;\n",
       "    }\n",
       "</style>\n",
       "<table border=\"1\" class=\"dataframe\">\n",
       "  <thead>\n",
       "    <tr style=\"text-align: right;\">\n",
       "      <th></th>\n",
       "      <th>zoneA</th>\n",
       "      <th>zoneB</th>\n",
       "      <th>zoneC</th>\n",
       "    </tr>\n",
       "  </thead>\n",
       "  <tbody>\n",
       "    <tr>\n",
       "      <th>sale1</th>\n",
       "      <td>5555</td>\n",
       "      <td>5885</td>\n",
       "      <td>9954</td>\n",
       "    </tr>\n",
       "    <tr>\n",
       "      <th>sale2</th>\n",
       "      <td>5741</td>\n",
       "      <td>2365</td>\n",
       "      <td>9874</td>\n",
       "    </tr>\n",
       "    <tr>\n",
       "      <th>sale3</th>\n",
       "      <td>5471</td>\n",
       "      <td>5657</td>\n",
       "      <td>2410</td>\n",
       "    </tr>\n",
       "  </tbody>\n",
       "</table>\n",
       "</div>"
      ],
      "text/plain": [
       "       zoneA  zoneB  zoneC\n",
       "sale1   5555   5885   9954\n",
       "sale2   5741   2365   9874\n",
       "sale3   5471   5657   2410"
      ]
     },
     "execution_count": 59,
     "metadata": {},
     "output_type": "execute_result"
    }
   ],
   "source": [
    "dataframe"
   ]
  },
  {
   "cell_type": "code",
   "execution_count": 60,
   "id": "1b4e8d4b",
   "metadata": {},
   "outputs": [],
   "source": [
    "row_new = 'day1 day2 day3'.split()"
   ]
  },
  {
   "cell_type": "code",
   "execution_count": 61,
   "id": "61cd5043",
   "metadata": {},
   "outputs": [],
   "source": [
    "dataframe['days'] = row_new"
   ]
  },
  {
   "cell_type": "code",
   "execution_count": 62,
   "id": "e5457a36",
   "metadata": {},
   "outputs": [
    {
     "data": {
      "text/html": [
       "<div>\n",
       "<style scoped>\n",
       "    .dataframe tbody tr th:only-of-type {\n",
       "        vertical-align: middle;\n",
       "    }\n",
       "\n",
       "    .dataframe tbody tr th {\n",
       "        vertical-align: top;\n",
       "    }\n",
       "\n",
       "    .dataframe thead th {\n",
       "        text-align: right;\n",
       "    }\n",
       "</style>\n",
       "<table border=\"1\" class=\"dataframe\">\n",
       "  <thead>\n",
       "    <tr style=\"text-align: right;\">\n",
       "      <th></th>\n",
       "      <th>zoneA</th>\n",
       "      <th>zoneB</th>\n",
       "      <th>zoneC</th>\n",
       "      <th>days</th>\n",
       "    </tr>\n",
       "  </thead>\n",
       "  <tbody>\n",
       "    <tr>\n",
       "      <th>sale1</th>\n",
       "      <td>5555</td>\n",
       "      <td>5885</td>\n",
       "      <td>9954</td>\n",
       "      <td>day1</td>\n",
       "    </tr>\n",
       "    <tr>\n",
       "      <th>sale2</th>\n",
       "      <td>5741</td>\n",
       "      <td>2365</td>\n",
       "      <td>9874</td>\n",
       "      <td>day2</td>\n",
       "    </tr>\n",
       "    <tr>\n",
       "      <th>sale3</th>\n",
       "      <td>5471</td>\n",
       "      <td>5657</td>\n",
       "      <td>2410</td>\n",
       "      <td>day3</td>\n",
       "    </tr>\n",
       "  </tbody>\n",
       "</table>\n",
       "</div>"
      ],
      "text/plain": [
       "       zoneA  zoneB  zoneC  days\n",
       "sale1   5555   5885   9954  day1\n",
       "sale2   5741   2365   9874  day2\n",
       "sale3   5471   5657   2410  day3"
      ]
     },
     "execution_count": 62,
     "metadata": {},
     "output_type": "execute_result"
    }
   ],
   "source": [
    "dataframe"
   ]
  },
  {
   "cell_type": "code",
   "execution_count": 63,
   "id": "0a4ca5dd",
   "metadata": {},
   "outputs": [
    {
     "data": {
      "text/html": [
       "<div>\n",
       "<style scoped>\n",
       "    .dataframe tbody tr th:only-of-type {\n",
       "        vertical-align: middle;\n",
       "    }\n",
       "\n",
       "    .dataframe tbody tr th {\n",
       "        vertical-align: top;\n",
       "    }\n",
       "\n",
       "    .dataframe thead th {\n",
       "        text-align: right;\n",
       "    }\n",
       "</style>\n",
       "<table border=\"1\" class=\"dataframe\">\n",
       "  <thead>\n",
       "    <tr style=\"text-align: right;\">\n",
       "      <th></th>\n",
       "      <th>zoneA</th>\n",
       "      <th>zoneB</th>\n",
       "      <th>zoneC</th>\n",
       "    </tr>\n",
       "    <tr>\n",
       "      <th>days</th>\n",
       "      <th></th>\n",
       "      <th></th>\n",
       "      <th></th>\n",
       "    </tr>\n",
       "  </thead>\n",
       "  <tbody>\n",
       "    <tr>\n",
       "      <th>day1</th>\n",
       "      <td>5555</td>\n",
       "      <td>5885</td>\n",
       "      <td>9954</td>\n",
       "    </tr>\n",
       "    <tr>\n",
       "      <th>day2</th>\n",
       "      <td>5741</td>\n",
       "      <td>2365</td>\n",
       "      <td>9874</td>\n",
       "    </tr>\n",
       "    <tr>\n",
       "      <th>day3</th>\n",
       "      <td>5471</td>\n",
       "      <td>5657</td>\n",
       "      <td>2410</td>\n",
       "    </tr>\n",
       "  </tbody>\n",
       "</table>\n",
       "</div>"
      ],
      "text/plain": [
       "      zoneA  zoneB  zoneC\n",
       "days                     \n",
       "day1   5555   5885   9954\n",
       "day2   5741   2365   9874\n",
       "day3   5471   5657   2410"
      ]
     },
     "execution_count": 63,
     "metadata": {},
     "output_type": "execute_result"
    }
   ],
   "source": [
    "dataframe.set_index('days')"
   ]
  },
  {
   "cell_type": "code",
   "execution_count": 64,
   "id": "f0bb3b8a",
   "metadata": {},
   "outputs": [
    {
     "data": {
      "text/html": [
       "<div>\n",
       "<style scoped>\n",
       "    .dataframe tbody tr th:only-of-type {\n",
       "        vertical-align: middle;\n",
       "    }\n",
       "\n",
       "    .dataframe tbody tr th {\n",
       "        vertical-align: top;\n",
       "    }\n",
       "\n",
       "    .dataframe thead th {\n",
       "        text-align: right;\n",
       "    }\n",
       "</style>\n",
       "<table border=\"1\" class=\"dataframe\">\n",
       "  <thead>\n",
       "    <tr style=\"text-align: right;\">\n",
       "      <th></th>\n",
       "      <th>zoneA</th>\n",
       "      <th>zoneB</th>\n",
       "      <th>zoneC</th>\n",
       "      <th>days</th>\n",
       "    </tr>\n",
       "  </thead>\n",
       "  <tbody>\n",
       "    <tr>\n",
       "      <th>sale1</th>\n",
       "      <td>5555</td>\n",
       "      <td>5885</td>\n",
       "      <td>9954</td>\n",
       "      <td>day1</td>\n",
       "    </tr>\n",
       "    <tr>\n",
       "      <th>sale2</th>\n",
       "      <td>5741</td>\n",
       "      <td>2365</td>\n",
       "      <td>9874</td>\n",
       "      <td>day2</td>\n",
       "    </tr>\n",
       "    <tr>\n",
       "      <th>sale3</th>\n",
       "      <td>5471</td>\n",
       "      <td>5657</td>\n",
       "      <td>2410</td>\n",
       "      <td>day3</td>\n",
       "    </tr>\n",
       "  </tbody>\n",
       "</table>\n",
       "</div>"
      ],
      "text/plain": [
       "       zoneA  zoneB  zoneC  days\n",
       "sale1   5555   5885   9954  day1\n",
       "sale2   5741   2365   9874  day2\n",
       "sale3   5471   5657   2410  day3"
      ]
     },
     "execution_count": 64,
     "metadata": {},
     "output_type": "execute_result"
    }
   ],
   "source": [
    "dataframe"
   ]
  },
  {
   "cell_type": "code",
   "execution_count": 65,
   "id": "8dc03a9f",
   "metadata": {},
   "outputs": [],
   "source": [
    "dataframe = dataframe.set_index('days')"
   ]
  },
  {
   "cell_type": "code",
   "execution_count": 66,
   "id": "b8b48d57",
   "metadata": {},
   "outputs": [
    {
     "data": {
      "text/html": [
       "<div>\n",
       "<style scoped>\n",
       "    .dataframe tbody tr th:only-of-type {\n",
       "        vertical-align: middle;\n",
       "    }\n",
       "\n",
       "    .dataframe tbody tr th {\n",
       "        vertical-align: top;\n",
       "    }\n",
       "\n",
       "    .dataframe thead th {\n",
       "        text-align: right;\n",
       "    }\n",
       "</style>\n",
       "<table border=\"1\" class=\"dataframe\">\n",
       "  <thead>\n",
       "    <tr style=\"text-align: right;\">\n",
       "      <th></th>\n",
       "      <th>zoneA</th>\n",
       "      <th>zoneB</th>\n",
       "      <th>zoneC</th>\n",
       "    </tr>\n",
       "    <tr>\n",
       "      <th>days</th>\n",
       "      <th></th>\n",
       "      <th></th>\n",
       "      <th></th>\n",
       "    </tr>\n",
       "  </thead>\n",
       "  <tbody>\n",
       "    <tr>\n",
       "      <th>day1</th>\n",
       "      <td>5555</td>\n",
       "      <td>5885</td>\n",
       "      <td>9954</td>\n",
       "    </tr>\n",
       "    <tr>\n",
       "      <th>day2</th>\n",
       "      <td>5741</td>\n",
       "      <td>2365</td>\n",
       "      <td>9874</td>\n",
       "    </tr>\n",
       "    <tr>\n",
       "      <th>day3</th>\n",
       "      <td>5471</td>\n",
       "      <td>5657</td>\n",
       "      <td>2410</td>\n",
       "    </tr>\n",
       "  </tbody>\n",
       "</table>\n",
       "</div>"
      ],
      "text/plain": [
       "      zoneA  zoneB  zoneC\n",
       "days                     \n",
       "day1   5555   5885   9954\n",
       "day2   5741   2365   9874\n",
       "day3   5471   5657   2410"
      ]
     },
     "execution_count": 66,
     "metadata": {},
     "output_type": "execute_result"
    }
   ],
   "source": [
    "dataframe"
   ]
  },
  {
   "cell_type": "markdown",
   "id": "50259a76",
   "metadata": {},
   "source": [
    "### Null data"
   ]
  },
  {
   "cell_type": "code",
   "execution_count": 67,
   "id": "8288c056",
   "metadata": {},
   "outputs": [],
   "source": [
    "dictionary = {'a': [4, 5, np.nan], 'b': [6, 1, 5], 'c': [np.nan, 4, np.nan]}"
   ]
  },
  {
   "cell_type": "code",
   "execution_count": 68,
   "id": "8c72305d",
   "metadata": {},
   "outputs": [],
   "source": [
    "dataframe2 = pd.DataFrame(dictionary)"
   ]
  },
  {
   "cell_type": "code",
   "execution_count": 69,
   "id": "a8334c76",
   "metadata": {},
   "outputs": [
    {
     "data": {
      "text/html": [
       "<div>\n",
       "<style scoped>\n",
       "    .dataframe tbody tr th:only-of-type {\n",
       "        vertical-align: middle;\n",
       "    }\n",
       "\n",
       "    .dataframe tbody tr th {\n",
       "        vertical-align: top;\n",
       "    }\n",
       "\n",
       "    .dataframe thead th {\n",
       "        text-align: right;\n",
       "    }\n",
       "</style>\n",
       "<table border=\"1\" class=\"dataframe\">\n",
       "  <thead>\n",
       "    <tr style=\"text-align: right;\">\n",
       "      <th></th>\n",
       "      <th>a</th>\n",
       "      <th>b</th>\n",
       "      <th>c</th>\n",
       "    </tr>\n",
       "  </thead>\n",
       "  <tbody>\n",
       "    <tr>\n",
       "      <th>0</th>\n",
       "      <td>4.0</td>\n",
       "      <td>6</td>\n",
       "      <td>NaN</td>\n",
       "    </tr>\n",
       "    <tr>\n",
       "      <th>1</th>\n",
       "      <td>5.0</td>\n",
       "      <td>1</td>\n",
       "      <td>4.0</td>\n",
       "    </tr>\n",
       "    <tr>\n",
       "      <th>2</th>\n",
       "      <td>NaN</td>\n",
       "      <td>5</td>\n",
       "      <td>NaN</td>\n",
       "    </tr>\n",
       "  </tbody>\n",
       "</table>\n",
       "</div>"
      ],
      "text/plain": [
       "     a  b    c\n",
       "0  4.0  6  NaN\n",
       "1  5.0  1  4.0\n",
       "2  NaN  5  NaN"
      ]
     },
     "execution_count": 69,
     "metadata": {},
     "output_type": "execute_result"
    }
   ],
   "source": [
    "dataframe2"
   ]
  },
  {
   "cell_type": "code",
   "execution_count": 70,
   "id": "3ec1db3d",
   "metadata": {},
   "outputs": [
    {
     "data": {
      "text/html": [
       "<div>\n",
       "<style scoped>\n",
       "    .dataframe tbody tr th:only-of-type {\n",
       "        vertical-align: middle;\n",
       "    }\n",
       "\n",
       "    .dataframe tbody tr th {\n",
       "        vertical-align: top;\n",
       "    }\n",
       "\n",
       "    .dataframe thead th {\n",
       "        text-align: right;\n",
       "    }\n",
       "</style>\n",
       "<table border=\"1\" class=\"dataframe\">\n",
       "  <thead>\n",
       "    <tr style=\"text-align: right;\">\n",
       "      <th></th>\n",
       "      <th>a</th>\n",
       "      <th>b</th>\n",
       "      <th>c</th>\n",
       "    </tr>\n",
       "  </thead>\n",
       "  <tbody>\n",
       "    <tr>\n",
       "      <th>1</th>\n",
       "      <td>5.0</td>\n",
       "      <td>1</td>\n",
       "      <td>4.0</td>\n",
       "    </tr>\n",
       "  </tbody>\n",
       "</table>\n",
       "</div>"
      ],
      "text/plain": [
       "     a  b    c\n",
       "1  5.0  1  4.0"
      ]
     },
     "execution_count": 70,
     "metadata": {},
     "output_type": "execute_result"
    }
   ],
   "source": [
    "dataframe2.dropna()"
   ]
  },
  {
   "cell_type": "code",
   "execution_count": 71,
   "id": "427e50b9",
   "metadata": {},
   "outputs": [
    {
     "data": {
      "text/html": [
       "<div>\n",
       "<style scoped>\n",
       "    .dataframe tbody tr th:only-of-type {\n",
       "        vertical-align: middle;\n",
       "    }\n",
       "\n",
       "    .dataframe tbody tr th {\n",
       "        vertical-align: top;\n",
       "    }\n",
       "\n",
       "    .dataframe thead th {\n",
       "        text-align: right;\n",
       "    }\n",
       "</style>\n",
       "<table border=\"1\" class=\"dataframe\">\n",
       "  <thead>\n",
       "    <tr style=\"text-align: right;\">\n",
       "      <th></th>\n",
       "      <th>b</th>\n",
       "    </tr>\n",
       "  </thead>\n",
       "  <tbody>\n",
       "    <tr>\n",
       "      <th>0</th>\n",
       "      <td>6</td>\n",
       "    </tr>\n",
       "    <tr>\n",
       "      <th>1</th>\n",
       "      <td>1</td>\n",
       "    </tr>\n",
       "    <tr>\n",
       "      <th>2</th>\n",
       "      <td>5</td>\n",
       "    </tr>\n",
       "  </tbody>\n",
       "</table>\n",
       "</div>"
      ],
      "text/plain": [
       "   b\n",
       "0  6\n",
       "1  1\n",
       "2  5"
      ]
     },
     "execution_count": 71,
     "metadata": {},
     "output_type": "execute_result"
    }
   ],
   "source": [
    "dataframe2.dropna(axis = 1)"
   ]
  },
  {
   "cell_type": "code",
   "execution_count": 73,
   "id": "6f87c603",
   "metadata": {},
   "outputs": [
    {
     "data": {
      "text/html": [
       "<div>\n",
       "<style scoped>\n",
       "    .dataframe tbody tr th:only-of-type {\n",
       "        vertical-align: middle;\n",
       "    }\n",
       "\n",
       "    .dataframe tbody tr th {\n",
       "        vertical-align: top;\n",
       "    }\n",
       "\n",
       "    .dataframe thead th {\n",
       "        text-align: right;\n",
       "    }\n",
       "</style>\n",
       "<table border=\"1\" class=\"dataframe\">\n",
       "  <thead>\n",
       "    <tr style=\"text-align: right;\">\n",
       "      <th></th>\n",
       "      <th>a</th>\n",
       "      <th>b</th>\n",
       "      <th>c</th>\n",
       "    </tr>\n",
       "  </thead>\n",
       "  <tbody>\n",
       "    <tr>\n",
       "      <th>0</th>\n",
       "      <td>4.0</td>\n",
       "      <td>6</td>\n",
       "      <td>100.0</td>\n",
       "    </tr>\n",
       "    <tr>\n",
       "      <th>1</th>\n",
       "      <td>5.0</td>\n",
       "      <td>1</td>\n",
       "      <td>4.0</td>\n",
       "    </tr>\n",
       "    <tr>\n",
       "      <th>2</th>\n",
       "      <td>100.0</td>\n",
       "      <td>5</td>\n",
       "      <td>100.0</td>\n",
       "    </tr>\n",
       "  </tbody>\n",
       "</table>\n",
       "</div>"
      ],
      "text/plain": [
       "       a  b      c\n",
       "0    4.0  6  100.0\n",
       "1    5.0  1    4.0\n",
       "2  100.0  5  100.0"
      ]
     },
     "execution_count": 73,
     "metadata": {},
     "output_type": "execute_result"
    }
   ],
   "source": [
    "dataframe2.fillna(value = 100)"
   ]
  },
  {
   "cell_type": "code",
   "execution_count": 74,
   "id": "fb2154fb",
   "metadata": {},
   "outputs": [
    {
     "data": {
      "text/plain": [
       "a    4.5\n",
       "b    4.0\n",
       "c    4.0\n",
       "dtype: float64"
      ]
     },
     "execution_count": 74,
     "metadata": {},
     "output_type": "execute_result"
    }
   ],
   "source": [
    "medium_value = dataframe2.mean()\n",
    "medium_value"
   ]
  },
  {
   "cell_type": "code",
   "execution_count": 75,
   "id": "5466643e",
   "metadata": {},
   "outputs": [
    {
     "data": {
      "text/html": [
       "<div>\n",
       "<style scoped>\n",
       "    .dataframe tbody tr th:only-of-type {\n",
       "        vertical-align: middle;\n",
       "    }\n",
       "\n",
       "    .dataframe tbody tr th {\n",
       "        vertical-align: top;\n",
       "    }\n",
       "\n",
       "    .dataframe thead th {\n",
       "        text-align: right;\n",
       "    }\n",
       "</style>\n",
       "<table border=\"1\" class=\"dataframe\">\n",
       "  <thead>\n",
       "    <tr style=\"text-align: right;\">\n",
       "      <th></th>\n",
       "      <th>a</th>\n",
       "      <th>b</th>\n",
       "      <th>c</th>\n",
       "    </tr>\n",
       "  </thead>\n",
       "  <tbody>\n",
       "    <tr>\n",
       "      <th>0</th>\n",
       "      <td>4.0</td>\n",
       "      <td>6</td>\n",
       "      <td>4.0</td>\n",
       "    </tr>\n",
       "    <tr>\n",
       "      <th>1</th>\n",
       "      <td>5.0</td>\n",
       "      <td>1</td>\n",
       "      <td>4.0</td>\n",
       "    </tr>\n",
       "    <tr>\n",
       "      <th>2</th>\n",
       "      <td>4.5</td>\n",
       "      <td>5</td>\n",
       "      <td>4.0</td>\n",
       "    </tr>\n",
       "  </tbody>\n",
       "</table>\n",
       "</div>"
      ],
      "text/plain": [
       "     a  b    c\n",
       "0  4.0  6  4.0\n",
       "1  5.0  1  4.0\n",
       "2  4.5  5  4.0"
      ]
     },
     "execution_count": 75,
     "metadata": {},
     "output_type": "execute_result"
    }
   ],
   "source": [
    "dataframe2.fillna(value = medium_value)"
   ]
  },
  {
   "cell_type": "markdown",
   "id": "000eb10a",
   "metadata": {},
   "source": [
    "### Group data"
   ]
  },
  {
   "cell_type": "code",
   "execution_count": 5,
   "id": "26aead1c",
   "metadata": {},
   "outputs": [],
   "source": [
    "dictionary = {'days': ['day1', 'day1', 'day2', 'day2', 'day3'], 'sellers': ['Carlos', 'Valeria', 'Maria', 'Rosalba', 'Edgar'], 'sales': [8558, 58597, 554710, 52236, 45587]}"
   ]
  },
  {
   "cell_type": "code",
   "execution_count": 6,
   "id": "bd156bd7",
   "metadata": {},
   "outputs": [],
   "source": [
    "dataframe = pd.DataFrame(dictionary)"
   ]
  },
  {
   "cell_type": "code",
   "execution_count": 7,
   "id": "37515656",
   "metadata": {},
   "outputs": [
    {
     "data": {
      "text/html": [
       "<div>\n",
       "<style scoped>\n",
       "    .dataframe tbody tr th:only-of-type {\n",
       "        vertical-align: middle;\n",
       "    }\n",
       "\n",
       "    .dataframe tbody tr th {\n",
       "        vertical-align: top;\n",
       "    }\n",
       "\n",
       "    .dataframe thead th {\n",
       "        text-align: right;\n",
       "    }\n",
       "</style>\n",
       "<table border=\"1\" class=\"dataframe\">\n",
       "  <thead>\n",
       "    <tr style=\"text-align: right;\">\n",
       "      <th></th>\n",
       "      <th>days</th>\n",
       "      <th>sellers</th>\n",
       "      <th>sales</th>\n",
       "    </tr>\n",
       "  </thead>\n",
       "  <tbody>\n",
       "    <tr>\n",
       "      <th>0</th>\n",
       "      <td>day1</td>\n",
       "      <td>Carlos</td>\n",
       "      <td>8558</td>\n",
       "    </tr>\n",
       "    <tr>\n",
       "      <th>1</th>\n",
       "      <td>day1</td>\n",
       "      <td>Valeria</td>\n",
       "      <td>58597</td>\n",
       "    </tr>\n",
       "    <tr>\n",
       "      <th>2</th>\n",
       "      <td>day2</td>\n",
       "      <td>Maria</td>\n",
       "      <td>554710</td>\n",
       "    </tr>\n",
       "    <tr>\n",
       "      <th>3</th>\n",
       "      <td>day2</td>\n",
       "      <td>Rosalba</td>\n",
       "      <td>52236</td>\n",
       "    </tr>\n",
       "    <tr>\n",
       "      <th>4</th>\n",
       "      <td>day3</td>\n",
       "      <td>Edgar</td>\n",
       "      <td>45587</td>\n",
       "    </tr>\n",
       "  </tbody>\n",
       "</table>\n",
       "</div>"
      ],
      "text/plain": [
       "   days  sellers   sales\n",
       "0  day1   Carlos    8558\n",
       "1  day1  Valeria   58597\n",
       "2  day2    Maria  554710\n",
       "3  day2  Rosalba   52236\n",
       "4  day3    Edgar   45587"
      ]
     },
     "execution_count": 7,
     "metadata": {},
     "output_type": "execute_result"
    }
   ],
   "source": [
    "dataframe"
   ]
  },
  {
   "cell_type": "code",
   "execution_count": 9,
   "id": "905e14bb",
   "metadata": {},
   "outputs": [
    {
     "name": "stderr",
     "output_type": "stream",
     "text": [
      "C:\\Users\\carlo\\AppData\\Local\\Temp\\ipykernel_17508\\4089846049.py:1: FutureWarning: The default value of numeric_only in DataFrameGroupBy.mean is deprecated. In a future version, numeric_only will default to False. Either specify numeric_only or select only columns which should be valid for the function.\n",
      "  dataframe.groupby('days').mean()\n"
     ]
    },
    {
     "data": {
      "text/html": [
       "<div>\n",
       "<style scoped>\n",
       "    .dataframe tbody tr th:only-of-type {\n",
       "        vertical-align: middle;\n",
       "    }\n",
       "\n",
       "    .dataframe tbody tr th {\n",
       "        vertical-align: top;\n",
       "    }\n",
       "\n",
       "    .dataframe thead th {\n",
       "        text-align: right;\n",
       "    }\n",
       "</style>\n",
       "<table border=\"1\" class=\"dataframe\">\n",
       "  <thead>\n",
       "    <tr style=\"text-align: right;\">\n",
       "      <th></th>\n",
       "      <th>sales</th>\n",
       "    </tr>\n",
       "    <tr>\n",
       "      <th>days</th>\n",
       "      <th></th>\n",
       "    </tr>\n",
       "  </thead>\n",
       "  <tbody>\n",
       "    <tr>\n",
       "      <th>day1</th>\n",
       "      <td>33577.5</td>\n",
       "    </tr>\n",
       "    <tr>\n",
       "      <th>day2</th>\n",
       "      <td>303473.0</td>\n",
       "    </tr>\n",
       "    <tr>\n",
       "      <th>day3</th>\n",
       "      <td>45587.0</td>\n",
       "    </tr>\n",
       "  </tbody>\n",
       "</table>\n",
       "</div>"
      ],
      "text/plain": [
       "         sales\n",
       "days          \n",
       "day1   33577.5\n",
       "day2  303473.0\n",
       "day3   45587.0"
      ]
     },
     "execution_count": 9,
     "metadata": {},
     "output_type": "execute_result"
    }
   ],
   "source": [
    "dataframe.groupby('days').mean()"
   ]
  },
  {
   "cell_type": "code",
   "execution_count": null,
   "id": "906371db",
   "metadata": {},
   "outputs": [],
   "source": []
  },
  {
   "cell_type": "code",
   "execution_count": null,
   "id": "d1fe9df4",
   "metadata": {},
   "outputs": [],
   "source": []
  },
  {
   "cell_type": "code",
   "execution_count": null,
   "id": "e62dfad1",
   "metadata": {},
   "outputs": [],
   "source": []
  }
 ],
 "metadata": {
  "kernelspec": {
   "display_name": "Python 3 (ipykernel)",
   "language": "python",
   "name": "python3"
  },
  "language_info": {
   "codemirror_mode": {
    "name": "ipython",
    "version": 3
   },
   "file_extension": ".py",
   "mimetype": "text/x-python",
   "name": "python",
   "nbconvert_exporter": "python",
   "pygments_lexer": "ipython3",
   "version": "3.11.4"
  }
 },
 "nbformat": 4,
 "nbformat_minor": 5
}
