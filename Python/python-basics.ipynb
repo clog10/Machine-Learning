{
 "cells": [
  {
   "cell_type": "markdown",
   "id": "59994d26",
   "metadata": {},
   "source": [
    "# Strings"
   ]
  },
  {
   "cell_type": "code",
   "execution_count": 2,
   "id": "1b57c2af",
   "metadata": {},
   "outputs": [
    {
     "name": "stdout",
     "output_type": "stream",
     "text": [
      "My name is Carlos and I'm 25 years old\n"
     ]
    }
   ],
   "source": [
    "# Strings\n",
    "name = \"Carlos\"\n",
    "age = 25\n",
    "print(\"My name is {} and I'm {} years old\".format(name, age))"
   ]
  },
  {
   "cell_type": "code",
   "execution_count": 3,
   "id": "1a3868d8",
   "metadata": {},
   "outputs": [
    {
     "name": "stdout",
     "output_type": "stream",
     "text": [
      "My name is Carlos and I'm 30 years old\n"
     ]
    }
   ],
   "source": [
    "name = \"Carlos\"\n",
    "age = 30\n",
    "print(\"My name is {variable1} and I'm {variable2} years old\".format(variable1=name,variable2=age))"
   ]
  },
  {
   "cell_type": "code",
   "execution_count": 6,
   "id": "e13e2025",
   "metadata": {},
   "outputs": [
    {
     "data": {
      "text/plain": [
       "'b'"
      ]
     },
     "execution_count": 6,
     "metadata": {},
     "output_type": "execute_result"
    }
   ],
   "source": [
    "sport = \"baseball\"\n",
    "sport[0]"
   ]
  },
  {
   "cell_type": "code",
   "execution_count": 9,
   "id": "e2f0073c",
   "metadata": {},
   "outputs": [
    {
     "data": {
      "text/plain": [
       "'a'"
      ]
     },
     "execution_count": 9,
     "metadata": {},
     "output_type": "execute_result"
    }
   ],
   "source": [
    "sport[-3]"
   ]
  },
  {
   "cell_type": "code",
   "execution_count": 11,
   "id": "2d275e6b",
   "metadata": {},
   "outputs": [
    {
     "data": {
      "text/plain": [
       "'ase'"
      ]
     },
     "execution_count": 11,
     "metadata": {},
     "output_type": "execute_result"
    }
   ],
   "source": [
    "sport[1:4]"
   ]
  },
  {
   "cell_type": "markdown",
   "id": "57174796",
   "metadata": {},
   "source": [
    "# Lists"
   ]
  },
  {
   "cell_type": "code",
   "execution_count": 12,
   "id": "435f631f",
   "metadata": {},
   "outputs": [
    {
     "data": {
      "text/plain": [
       "[1, 2, 3, 4, 5]"
      ]
     },
     "execution_count": 12,
     "metadata": {},
     "output_type": "execute_result"
    }
   ],
   "source": [
    "# List\n",
    "[1,2,3,4,5]"
   ]
  },
  {
   "cell_type": "code",
   "execution_count": 13,
   "id": "2fd0e6d5",
   "metadata": {},
   "outputs": [
    {
     "data": {
      "text/plain": [
       "['a', 'b', 'c']"
      ]
     },
     "execution_count": 13,
     "metadata": {},
     "output_type": "execute_result"
    }
   ],
   "source": [
    "['a','b','c']"
   ]
  },
  {
   "cell_type": "code",
   "execution_count": 14,
   "id": "85591958",
   "metadata": {},
   "outputs": [
    {
     "data": {
      "text/plain": [
       "['a', 'b', 'c']"
      ]
     },
     "execution_count": 14,
     "metadata": {},
     "output_type": "execute_result"
    }
   ],
   "source": [
    "l = ['a','b','c']\n",
    "l"
   ]
  },
  {
   "cell_type": "code",
   "execution_count": 15,
   "id": "cb3d72bd",
   "metadata": {},
   "outputs": [],
   "source": [
    "l.append('d')"
   ]
  },
  {
   "cell_type": "code",
   "execution_count": 16,
   "id": "7200e50f",
   "metadata": {},
   "outputs": [
    {
     "data": {
      "text/plain": [
       "['a', 'b', 'c', 'd']"
      ]
     },
     "execution_count": 16,
     "metadata": {},
     "output_type": "execute_result"
    }
   ],
   "source": [
    "l"
   ]
  },
  {
   "cell_type": "code",
   "execution_count": 17,
   "id": "86f247aa",
   "metadata": {},
   "outputs": [
    {
     "data": {
      "text/plain": [
       "'a'"
      ]
     },
     "execution_count": 17,
     "metadata": {},
     "output_type": "execute_result"
    }
   ],
   "source": [
    "l[0]"
   ]
  },
  {
   "cell_type": "code",
   "execution_count": 18,
   "id": "2ce1040e",
   "metadata": {},
   "outputs": [
    {
     "data": {
      "text/plain": [
       "'d'"
      ]
     },
     "execution_count": 18,
     "metadata": {},
     "output_type": "execute_result"
    }
   ],
   "source": [
    "l[-1]"
   ]
  },
  {
   "cell_type": "code",
   "execution_count": 19,
   "id": "c5f5b5c2",
   "metadata": {},
   "outputs": [
    {
     "data": {
      "text/plain": [
       "['b', 'c']"
      ]
     },
     "execution_count": 19,
     "metadata": {},
     "output_type": "execute_result"
    }
   ],
   "source": [
    "l[1:3]"
   ]
  },
  {
   "cell_type": "code",
   "execution_count": 21,
   "id": "87a01961",
   "metadata": {},
   "outputs": [],
   "source": [
    "ld = [1, 2, 3, ['a', 'b', 'c']]"
   ]
  },
  {
   "cell_type": "code",
   "execution_count": 23,
   "id": "1d4535db",
   "metadata": {},
   "outputs": [
    {
     "data": {
      "text/plain": [
       "['a', 'b', 'c']"
      ]
     },
     "execution_count": 23,
     "metadata": {},
     "output_type": "execute_result"
    }
   ],
   "source": [
    "ld[3]"
   ]
  },
  {
   "cell_type": "code",
   "execution_count": 24,
   "id": "95fdf00e",
   "metadata": {},
   "outputs": [
    {
     "data": {
      "text/plain": [
       "'b'"
      ]
     },
     "execution_count": 24,
     "metadata": {},
     "output_type": "execute_result"
    }
   ],
   "source": [
    "ld[3][1]"
   ]
  },
  {
   "cell_type": "markdown",
   "id": "8a065d9b",
   "metadata": {},
   "source": [
    "# Dictionary"
   ]
  },
  {
   "cell_type": "code",
   "execution_count": 25,
   "id": "c90329c2",
   "metadata": {},
   "outputs": [],
   "source": [
    "# Dictionary\n",
    "\n",
    "dictionary = {\"key1\": \"value1\", \"key2\": \"value2\", \"key3\": \"value3\"}"
   ]
  },
  {
   "cell_type": "code",
   "execution_count": 27,
   "id": "fec221ef",
   "metadata": {},
   "outputs": [
    {
     "data": {
      "text/plain": [
       "'value2'"
      ]
     },
     "execution_count": 27,
     "metadata": {},
     "output_type": "execute_result"
    }
   ],
   "source": [
    "dictionary[\"key2\"]"
   ]
  },
  {
   "cell_type": "markdown",
   "id": "4137e587",
   "metadata": {},
   "source": [
    "# Set"
   ]
  },
  {
   "cell_type": "code",
   "execution_count": 29,
   "id": "3fc81f7e",
   "metadata": {},
   "outputs": [
    {
     "data": {
      "text/plain": [
       "{1, 2, 3, 4}"
      ]
     },
     "execution_count": 29,
     "metadata": {},
     "output_type": "execute_result"
    }
   ],
   "source": [
    "s = {1,2,3,4}\n",
    "s"
   ]
  },
  {
   "cell_type": "code",
   "execution_count": 30,
   "id": "ef714c42",
   "metadata": {},
   "outputs": [
    {
     "data": {
      "text/plain": [
       "{1, 2, 3, 4}"
      ]
     },
     "execution_count": 30,
     "metadata": {},
     "output_type": "execute_result"
    }
   ],
   "source": [
    "s2 = {1,2,3,4,1,2,3,4}\n",
    "s2"
   ]
  },
  {
   "cell_type": "code",
   "execution_count": 32,
   "id": "b067ba6a",
   "metadata": {},
   "outputs": [
    {
     "data": {
      "text/plain": [
       "{1, 2, 3, 4, 5, 6}"
      ]
     },
     "execution_count": 32,
     "metadata": {},
     "output_type": "execute_result"
    }
   ],
   "source": [
    "l = [1,2,3,4,5,6,1,2,3,4,5,6]\n",
    "conjunt = set(l)\n",
    "conjunt"
   ]
  },
  {
   "cell_type": "markdown",
   "id": "d88e385a",
   "metadata": {},
   "source": [
    "# Comparators"
   ]
  },
  {
   "cell_type": "code",
   "execution_count": 33,
   "id": "c60f3bf8",
   "metadata": {},
   "outputs": [
    {
     "data": {
      "text/plain": [
       "True"
      ]
     },
     "execution_count": 33,
     "metadata": {},
     "output_type": "execute_result"
    }
   ],
   "source": [
    "5 == 5"
   ]
  },
  {
   "cell_type": "code",
   "execution_count": 34,
   "id": "0a27e20d",
   "metadata": {},
   "outputs": [
    {
     "data": {
      "text/plain": [
       "False"
      ]
     },
     "execution_count": 34,
     "metadata": {},
     "output_type": "execute_result"
    }
   ],
   "source": [
    "value1 = 4\n",
    "value2 = 5\n",
    "value1 == value2"
   ]
  },
  {
   "cell_type": "code",
   "execution_count": 35,
   "id": "f3599875",
   "metadata": {},
   "outputs": [
    {
     "data": {
      "text/plain": [
       "False"
      ]
     },
     "execution_count": 35,
     "metadata": {},
     "output_type": "execute_result"
    }
   ],
   "source": [
    "value1 > value2"
   ]
  },
  {
   "cell_type": "code",
   "execution_count": 36,
   "id": "97bae2f6",
   "metadata": {},
   "outputs": [
    {
     "data": {
      "text/plain": [
       "True"
      ]
     },
     "execution_count": 36,
     "metadata": {},
     "output_type": "execute_result"
    }
   ],
   "source": [
    "value1 < value2"
   ]
  },
  {
   "cell_type": "code",
   "execution_count": 38,
   "id": "b4493a6c",
   "metadata": {},
   "outputs": [
    {
     "data": {
      "text/plain": [
       "True"
      ]
     },
     "execution_count": 38,
     "metadata": {},
     "output_type": "execute_result"
    }
   ],
   "source": [
    "value1 <= value2"
   ]
  },
  {
   "cell_type": "code",
   "execution_count": 39,
   "id": "1b537d37",
   "metadata": {},
   "outputs": [
    {
     "data": {
      "text/plain": [
       "False"
      ]
     },
     "execution_count": 39,
     "metadata": {},
     "output_type": "execute_result"
    }
   ],
   "source": [
    "value1 >= value2"
   ]
  },
  {
   "cell_type": "code",
   "execution_count": 40,
   "id": "63357bf4",
   "metadata": {},
   "outputs": [
    {
     "data": {
      "text/plain": [
       "True"
      ]
     },
     "execution_count": 40,
     "metadata": {},
     "output_type": "execute_result"
    }
   ],
   "source": [
    "value1 != value2"
   ]
  },
  {
   "cell_type": "code",
   "execution_count": 41,
   "id": "eb714498",
   "metadata": {},
   "outputs": [
    {
     "data": {
      "text/plain": [
       "True"
      ]
     },
     "execution_count": 41,
     "metadata": {},
     "output_type": "execute_result"
    }
   ],
   "source": [
    "(5 < 7) and (8 > 7)"
   ]
  },
  {
   "cell_type": "code",
   "execution_count": 42,
   "id": "eaf11a9b",
   "metadata": {},
   "outputs": [
    {
     "data": {
      "text/plain": [
       "False"
      ]
     },
     "execution_count": 42,
     "metadata": {},
     "output_type": "execute_result"
    }
   ],
   "source": [
    "(5 < 7) and (8 < 7)"
   ]
  },
  {
   "cell_type": "code",
   "execution_count": 43,
   "id": "eaad986e",
   "metadata": {},
   "outputs": [
    {
     "data": {
      "text/plain": [
       "True"
      ]
     },
     "execution_count": 43,
     "metadata": {},
     "output_type": "execute_result"
    }
   ],
   "source": [
    "(5 < 7) or (8 < 7)"
   ]
  },
  {
   "cell_type": "code",
   "execution_count": 46,
   "id": "08cded7e",
   "metadata": {},
   "outputs": [
    {
     "data": {
      "text/plain": [
       "True"
      ]
     },
     "execution_count": 46,
     "metadata": {},
     "output_type": "execute_result"
    }
   ],
   "source": [
    "(5 < 7) and ((8 > 7) or (3 > 4))"
   ]
  },
  {
   "cell_type": "markdown",
   "id": "dc0438fb",
   "metadata": {},
   "source": [
    "# If-Else"
   ]
  },
  {
   "cell_type": "code",
   "execution_count": 50,
   "id": "4de374c2",
   "metadata": {},
   "outputs": [
    {
     "name": "stdout",
     "output_type": "stream",
     "text": [
      "a is equals to b\n"
     ]
    }
   ],
   "source": [
    "a = 5\n",
    "b = 5\n",
    "if (a == b):\n",
    "    print(\"a is equals to b\")\n",
    "else:\n",
    "    print(\"a is not equals to b\")"
   ]
  },
  {
   "cell_type": "code",
   "execution_count": 52,
   "id": "6b8cd4e5",
   "metadata": {},
   "outputs": [
    {
     "name": "stdout",
     "output_type": "stream",
     "text": [
      "b is greater than a\n"
     ]
    }
   ],
   "source": [
    "a = 5\n",
    "b = 8\n",
    "if (a == b):\n",
    "    print(\"a is equals to b\")\n",
    "elif (a > b):\n",
    "    print(\"a is greater than b\")\n",
    "elif (a < b):\n",
    "    print(\"b is greater than a\")\n",
    "else:\n",
    "    print(\"a is not equals to b\")"
   ]
  },
  {
   "cell_type": "markdown",
   "id": "90ff07c5",
   "metadata": {},
   "source": [
    "# For"
   ]
  },
  {
   "cell_type": "code",
   "execution_count": 3,
   "id": "7b4afc13",
   "metadata": {},
   "outputs": [
    {
     "name": "stdout",
     "output_type": "stream",
     "text": [
      "5\n",
      "10\n",
      "15\n",
      "20\n",
      "25\n",
      "30\n"
     ]
    }
   ],
   "source": [
    "li = [1, 2, 3, 4, 5, 6]\n",
    "for element in li:\n",
    "    print(element * 5)"
   ]
  },
  {
   "cell_type": "markdown",
   "id": "3e5e096d",
   "metadata": {},
   "source": [
    "# While"
   ]
  },
  {
   "cell_type": "code",
   "execution_count": 4,
   "id": "9741d09a",
   "metadata": {},
   "outputs": [
    {
     "name": "stdout",
     "output_type": "stream",
     "text": [
      "1\n",
      "2\n",
      "3\n",
      "4\n"
     ]
    }
   ],
   "source": [
    "number = 1\n",
    "while number < 5:\n",
    "    print(number)\n",
    "    number = number + 1"
   ]
  },
  {
   "cell_type": "markdown",
   "id": "058f51fd",
   "metadata": {},
   "source": [
    "# Range"
   ]
  },
  {
   "cell_type": "code",
   "execution_count": 5,
   "id": "73cfc6b5",
   "metadata": {},
   "outputs": [
    {
     "data": {
      "text/plain": [
       "range(0, 5)"
      ]
     },
     "execution_count": 5,
     "metadata": {},
     "output_type": "execute_result"
    }
   ],
   "source": [
    "range(0,5)"
   ]
  },
  {
   "cell_type": "code",
   "execution_count": 6,
   "id": "421b2b38",
   "metadata": {},
   "outputs": [
    {
     "data": {
      "text/plain": [
       "[0, 1, 2, 3, 4, 5, 6, 7, 8, 9]"
      ]
     },
     "execution_count": 6,
     "metadata": {},
     "output_type": "execute_result"
    }
   ],
   "source": [
    "list(range(0,10))"
   ]
  },
  {
   "cell_type": "code",
   "execution_count": 7,
   "id": "641f2973",
   "metadata": {},
   "outputs": [
    {
     "name": "stdout",
     "output_type": "stream",
     "text": [
      "1\n",
      "2\n",
      "3\n",
      "4\n",
      "5\n",
      "6\n",
      "7\n"
     ]
    }
   ],
   "source": [
    "for x in range(1,8):\n",
    "    print(x)"
   ]
  },
  {
   "cell_type": "markdown",
   "id": "7fdb72ca",
   "metadata": {},
   "source": [
    "# List Compression"
   ]
  },
  {
   "cell_type": "code",
   "execution_count": 9,
   "id": "be57d050",
   "metadata": {},
   "outputs": [
    {
     "data": {
      "text/plain": [
       "[2, 4, 6, 8, 10]"
      ]
     },
     "execution_count": 9,
     "metadata": {},
     "output_type": "execute_result"
    }
   ],
   "source": [
    "li1 = [1, 2, 3, 4, 5]\n",
    "li2 = []\n",
    "for number in li1:\n",
    "    value = number * 2\n",
    "    li2.append(value)\n",
    "li2"
   ]
  },
  {
   "cell_type": "code",
   "execution_count": 11,
   "id": "a47632fa",
   "metadata": {},
   "outputs": [
    {
     "data": {
      "text/plain": [
       "[4, 8, 12, 16, 20]"
      ]
     },
     "execution_count": 11,
     "metadata": {},
     "output_type": "execute_result"
    }
   ],
   "source": [
    "li3 = [number * 2 for number in li2]\n",
    "li3"
   ]
  },
  {
   "cell_type": "markdown",
   "id": "25be885a",
   "metadata": {},
   "source": [
    "# Functions"
   ]
  },
  {
   "cell_type": "code",
   "execution_count": 12,
   "id": "ef366268",
   "metadata": {},
   "outputs": [
    {
     "name": "stdout",
     "output_type": "stream",
     "text": [
      "Hi, Good night\n"
     ]
    }
   ],
   "source": [
    "def function():\n",
    "    print(\"Hi, Good night\")\n",
    "    \n",
    "function()"
   ]
  },
  {
   "cell_type": "code",
   "execution_count": 13,
   "id": "582daf84",
   "metadata": {},
   "outputs": [
    {
     "name": "stdout",
     "output_type": "stream",
     "text": [
      "Hi, Good morning Carlos\n"
     ]
    }
   ],
   "source": [
    "def greet(name):\n",
    "    print(\"Hi, Good morning \" + name)\n",
    "    \n",
    "greet(\"Carlos\")"
   ]
  },
  {
   "cell_type": "code",
   "execution_count": 16,
   "id": "203aa0e1",
   "metadata": {},
   "outputs": [
    {
     "data": {
      "text/plain": [
       "13"
      ]
     },
     "execution_count": 16,
     "metadata": {},
     "output_type": "execute_result"
    }
   ],
   "source": [
    "def add(number1, number2):\n",
    "    \"\"\"\n",
    "    This is a comment\n",
    "    This function add 2 numbers\n",
    "    \"\"\"\n",
    "    return number1 + number2\n",
    "\n",
    "add(5, 8)"
   ]
  },
  {
   "cell_type": "markdown",
   "id": "f01c62cf",
   "metadata": {},
   "source": [
    "# Map"
   ]
  },
  {
   "cell_type": "code",
   "execution_count": 19,
   "id": "a9efa99c",
   "metadata": {},
   "outputs": [
    {
     "data": {
      "text/plain": [
       "[1, 4, 9, 16, 25, 36]"
      ]
     },
     "execution_count": 19,
     "metadata": {},
     "output_type": "execute_result"
    }
   ],
   "source": [
    "def multiply(number):\n",
    "    return number * number\n",
    "\n",
    "li1 = [1,2,3,4,5,6]\n",
    "li2 = list(map(multiply, li1))\n",
    "li2"
   ]
  },
  {
   "cell_type": "markdown",
   "id": "66cb6292",
   "metadata": {},
   "source": [
    "# Lambdas"
   ]
  },
  {
   "cell_type": "code",
   "execution_count": 23,
   "id": "49a77cb5",
   "metadata": {},
   "outputs": [
    {
     "data": {
      "text/plain": [
       "[1, 4, 9, 16, 25, 36]"
      ]
     },
     "execution_count": 23,
     "metadata": {},
     "output_type": "execute_result"
    }
   ],
   "source": [
    "li1 = [1,2,3,4,5,6]\n",
    "li2 = list(map(lambda number: number * number, li1))\n",
    "li2"
   ]
  },
  {
   "cell_type": "markdown",
   "id": "f889ea82",
   "metadata": {},
   "source": [
    "# Filters"
   ]
  },
  {
   "cell_type": "code",
   "execution_count": 28,
   "id": "d9b58f56",
   "metadata": {},
   "outputs": [
    {
     "data": {
      "text/plain": [
       "[2, 4, 6, 8, 10]"
      ]
     },
     "execution_count": 28,
     "metadata": {},
     "output_type": "execute_result"
    }
   ],
   "source": [
    "def par(number):\n",
    "    if (number % 2 == 0):\n",
    "        return number\n",
    "\n",
    "par(10)\n",
    "\n",
    "li1 = [1,2,3,4,5,6,7,8,9,10]\n",
    "li_par = list(filter(par, li1))\n",
    "li_par"
   ]
  },
  {
   "cell_type": "code",
   "execution_count": 30,
   "id": "01fcd3c8",
   "metadata": {},
   "outputs": [
    {
     "data": {
      "text/plain": [
       "[2, 4, 6, 8, 10]"
      ]
     },
     "execution_count": 30,
     "metadata": {},
     "output_type": "execute_result"
    }
   ],
   "source": [
    "li1 = [1,2,3,4,5,6,7,8,9,10]\n",
    "li_par = list(filter(lambda number: number % 2 == 0, li1))\n",
    "li_par"
   ]
  },
  {
   "cell_type": "markdown",
   "id": "de48ef59",
   "metadata": {},
   "source": [
    "# Character String"
   ]
  },
  {
   "cell_type": "code",
   "execution_count": 31,
   "id": "d0dcb8a2",
   "metadata": {},
   "outputs": [
    {
     "data": {
      "text/plain": [
       "'Good morning, I´m Carlos'"
      ]
     },
     "execution_count": 31,
     "metadata": {},
     "output_type": "execute_result"
    }
   ],
   "source": [
    "string = \"Good morning, I´m Carlos\"\n",
    "string"
   ]
  },
  {
   "cell_type": "code",
   "execution_count": 32,
   "id": "6e0579b5",
   "metadata": {},
   "outputs": [
    {
     "data": {
      "text/plain": [
       "'GOOD MORNING, I´M CARLOS'"
      ]
     },
     "execution_count": 32,
     "metadata": {},
     "output_type": "execute_result"
    }
   ],
   "source": [
    "string.upper()"
   ]
  },
  {
   "cell_type": "code",
   "execution_count": 33,
   "id": "576ee667",
   "metadata": {},
   "outputs": [
    {
     "data": {
      "text/plain": [
       "'Good morning, i´m carlos'"
      ]
     },
     "execution_count": 33,
     "metadata": {},
     "output_type": "execute_result"
    }
   ],
   "source": [
    "string.capitalize()"
   ]
  },
  {
   "cell_type": "code",
   "execution_count": 34,
   "id": "29c848ea",
   "metadata": {},
   "outputs": [
    {
     "data": {
      "text/plain": [
       "'good morning, i´m carlos'"
      ]
     },
     "execution_count": 34,
     "metadata": {},
     "output_type": "execute_result"
    }
   ],
   "source": [
    "string.lower()"
   ]
  },
  {
   "cell_type": "code",
   "execution_count": 35,
   "id": "15a751d2",
   "metadata": {},
   "outputs": [
    {
     "data": {
      "text/plain": [
       "['Good', 'morning,', 'I´m', 'Carlos']"
      ]
     },
     "execution_count": 35,
     "metadata": {},
     "output_type": "execute_result"
    }
   ],
   "source": [
    "string.split()"
   ]
  },
  {
   "cell_type": "code",
   "execution_count": 36,
   "id": "c0299d7b",
   "metadata": {},
   "outputs": [
    {
     "data": {
      "text/plain": [
       "['Good morning', ' I´m Carlos']"
      ]
     },
     "execution_count": 36,
     "metadata": {},
     "output_type": "execute_result"
    }
   ],
   "source": [
    "string.split(\",\")"
   ]
  },
  {
   "cell_type": "markdown",
   "id": "27affebf",
   "metadata": {},
   "source": [
    "# Exercise 1\n",
    "Given the following sentence, \"Hello, this is a Machine Learning course\".\n",
    "Divide the sentence into words and count the number of words the sentence contains.\n",
    "Show the result using \"print\" as follows: The number of words is ..."
   ]
  },
  {
   "cell_type": "code",
   "execution_count": 39,
   "id": "7822e257",
   "metadata": {},
   "outputs": [
    {
     "name": "stdout",
     "output_type": "stream",
     "text": [
      "The number of words is 7\n"
     ]
    }
   ],
   "source": [
    "string = \"Hello, this is a Machine Learning course\"\n",
    "words = string.split()\n",
    "words\n",
    "\n",
    "number = 0\n",
    "for word in words:\n",
    "    number = number + 1\n",
    "    \n",
    "print(\"The number of words is {}\".format(number))"
   ]
  },
  {
   "cell_type": "markdown",
   "id": "84bb01e8",
   "metadata": {},
   "source": [
    "# Exercise 2\n",
    "Given the following list li = [1, -1, 4, -15, 9, 7, 6, -3, 2, -20].\n",
    "Create a \"positive\" function that passes a number as a parameter, returns it as is if it is positive, or does not return anything if the number is negative.\n",
    "Create a new list \"li2\", which, through \"filter\", contains only the positive numbers of the initial list."
   ]
  },
  {
   "cell_type": "code",
   "execution_count": 41,
   "id": "00394c65",
   "metadata": {},
   "outputs": [
    {
     "data": {
      "text/plain": [
       "[1, 4, 9, 7, 6, 2]"
      ]
     },
     "execution_count": 41,
     "metadata": {},
     "output_type": "execute_result"
    }
   ],
   "source": [
    "li = [1, -1, 4, -15, 9, 7, 6, -3, 2, -20]\n",
    "def positive(number):\n",
    "    if (number >= 0):\n",
    "        return number\n",
    "    \n",
    "li2 = list(filter(positive, li))\n",
    "li2"
   ]
  },
  {
   "cell_type": "markdown",
   "id": "30605133",
   "metadata": {},
   "source": [
    "# Exercise 3\n",
    "Given the following list of words li = [\"apple\", \"banana\", \"melon\", \"pear\", \"apple\", \"pear\", \"lemon\", \"banana\", \"orange\"]. Create a \"no_duplicate_list\" list by removing repeated words."
   ]
  },
  {
   "cell_type": "code",
   "execution_count": 45,
   "id": "188b5bbf",
   "metadata": {},
   "outputs": [
    {
     "data": {
      "text/plain": [
       "['apple', 'melon', 'lemon', 'pear', 'orange', 'banana']"
      ]
     },
     "execution_count": 45,
     "metadata": {},
     "output_type": "execute_result"
    }
   ],
   "source": [
    "li = [\"apple\", \"banana\", \"melon\", \"pear\", \"apple\", \"pear\", \"lemon\", \"banana\", \"orange\"]\n",
    "\n",
    "s = set(li)\n",
    "no_duplicate_list = list(s)\n",
    "no_duplicate_list"
   ]
  },
  {
   "cell_type": "markdown",
   "id": "f5051367",
   "metadata": {},
   "source": [
    "# Exercise 4\n",
    "Create a \"divide_by_2\" function and return the result. Given the following list li = [20, 18, 8, 4, 10, 40, 6]. Create a new list \"li2\" that, using the \"map\" function, applies the \"divide_by_2\" function to each element in the list."
   ]
  },
  {
   "cell_type": "code",
   "execution_count": 48,
   "id": "a8bec3e4",
   "metadata": {},
   "outputs": [
    {
     "data": {
      "text/plain": [
       "[10.0, 9.0, 4.0, 2.0, 5.0, 20.0, 3.0]"
      ]
     },
     "execution_count": 48,
     "metadata": {},
     "output_type": "execute_result"
    }
   ],
   "source": [
    "def divide_by_2(number):\n",
    "    return number / 2\n",
    "\n",
    "li = [20, 18, 8, 4, 10, 40, 6]\n",
    "li2 = list(map(divide_by_2, li))\n",
    "li2"
   ]
  },
  {
   "cell_type": "markdown",
   "id": "7ae6f26e",
   "metadata": {},
   "source": [
    "# Exercise 5\n",
    "\n",
    "Create a function that receives 2 numbers as parameters and returns the addition, subtraction, multiplication, division and rest of the operations between both numbers."
   ]
  },
  {
   "cell_type": "code",
   "execution_count": 51,
   "id": "c533a2b4",
   "metadata": {},
   "outputs": [
    {
     "data": {
      "text/plain": [
       "[13, 7, 30, 3.3333333333333335, 1]"
      ]
     },
     "execution_count": 51,
     "metadata": {},
     "output_type": "execute_result"
    }
   ],
   "source": [
    "def mathematical_operations(a, b):\n",
    "    li = []\n",
    "    add = a + b\n",
    "    sub = a - b\n",
    "    mult = a * b\n",
    "    div = a / b\n",
    "    rest = a % b\n",
    "    li.append(add)\n",
    "    li.append(sub)\n",
    "    li.append(mult)\n",
    "    li.append(div)\n",
    "    li.append(rest)\n",
    "    return li\n",
    "\n",
    "mathematical_operations(10, 3)"
   ]
  }
 ],
 "metadata": {
  "kernelspec": {
   "display_name": "Python 3 (ipykernel)",
   "language": "python",
   "name": "python3"
  },
  "language_info": {
   "codemirror_mode": {
    "name": "ipython",
    "version": 3
   },
   "file_extension": ".py",
   "mimetype": "text/x-python",
   "name": "python",
   "nbconvert_exporter": "python",
   "pygments_lexer": "ipython3",
   "version": "3.11.4"
  }
 },
 "nbformat": 4,
 "nbformat_minor": 5
}
