{
 "cells": [
  {
   "cell_type": "markdown",
   "id": "b920a81c",
   "metadata": {},
   "source": [
    "# Strings"
   ]
  },
  {
   "cell_type": "code",
   "execution_count": 2,
   "id": "1b57c2af",
   "metadata": {},
   "outputs": [
    {
     "name": "stdout",
     "output_type": "stream",
     "text": [
      "My name is Carlos and I'm 25 years old\n"
     ]
    }
   ],
   "source": [
    "# Strings\n",
    "name = \"Carlos\"\n",
    "age = 25\n",
    "print(\"My name is {} and I'm {} years old\".format(name, age))"
   ]
  },
  {
   "cell_type": "code",
   "execution_count": 3,
   "id": "1a3868d8",
   "metadata": {},
   "outputs": [
    {
     "name": "stdout",
     "output_type": "stream",
     "text": [
      "My name is Carlos and I'm 30 years old\n"
     ]
    }
   ],
   "source": [
    "name = \"Carlos\"\n",
    "age = 30\n",
    "print(\"My name is {variable1} and I'm {variable2} years old\".format(variable1=name,variable2=age))"
   ]
  },
  {
   "cell_type": "code",
   "execution_count": 6,
   "id": "27a7a280",
   "metadata": {},
   "outputs": [
    {
     "data": {
      "text/plain": [
       "'b'"
      ]
     },
     "execution_count": 6,
     "metadata": {},
     "output_type": "execute_result"
    }
   ],
   "source": [
    "sport = \"baseball\"\n",
    "sport[0]"
   ]
  },
  {
   "cell_type": "code",
   "execution_count": 9,
   "id": "651e485f",
   "metadata": {},
   "outputs": [
    {
     "data": {
      "text/plain": [
       "'a'"
      ]
     },
     "execution_count": 9,
     "metadata": {},
     "output_type": "execute_result"
    }
   ],
   "source": [
    "sport[-3]"
   ]
  },
  {
   "cell_type": "code",
   "execution_count": 11,
   "id": "212e6377",
   "metadata": {},
   "outputs": [
    {
     "data": {
      "text/plain": [
       "'ase'"
      ]
     },
     "execution_count": 11,
     "metadata": {},
     "output_type": "execute_result"
    }
   ],
   "source": [
    "sport[1:4]"
   ]
  },
  {
   "cell_type": "markdown",
   "id": "00ad8778",
   "metadata": {},
   "source": [
    "# Lists"
   ]
  },
  {
   "cell_type": "code",
   "execution_count": 12,
   "id": "2b1f747b",
   "metadata": {},
   "outputs": [
    {
     "data": {
      "text/plain": [
       "[1, 2, 3, 4, 5]"
      ]
     },
     "execution_count": 12,
     "metadata": {},
     "output_type": "execute_result"
    }
   ],
   "source": [
    "# List\n",
    "[1,2,3,4,5]"
   ]
  },
  {
   "cell_type": "code",
   "execution_count": 13,
   "id": "e8717a49",
   "metadata": {},
   "outputs": [
    {
     "data": {
      "text/plain": [
       "['a', 'b', 'c']"
      ]
     },
     "execution_count": 13,
     "metadata": {},
     "output_type": "execute_result"
    }
   ],
   "source": [
    "['a','b','c']"
   ]
  },
  {
   "cell_type": "code",
   "execution_count": 14,
   "id": "d6f548e6",
   "metadata": {},
   "outputs": [
    {
     "data": {
      "text/plain": [
       "['a', 'b', 'c']"
      ]
     },
     "execution_count": 14,
     "metadata": {},
     "output_type": "execute_result"
    }
   ],
   "source": [
    "l = ['a','b','c']\n",
    "l"
   ]
  },
  {
   "cell_type": "code",
   "execution_count": 15,
   "id": "ae3caac4",
   "metadata": {},
   "outputs": [],
   "source": [
    "l.append('d')"
   ]
  },
  {
   "cell_type": "code",
   "execution_count": 16,
   "id": "33025b06",
   "metadata": {},
   "outputs": [
    {
     "data": {
      "text/plain": [
       "['a', 'b', 'c', 'd']"
      ]
     },
     "execution_count": 16,
     "metadata": {},
     "output_type": "execute_result"
    }
   ],
   "source": [
    "l"
   ]
  },
  {
   "cell_type": "code",
   "execution_count": 17,
   "id": "00bdfe37",
   "metadata": {},
   "outputs": [
    {
     "data": {
      "text/plain": [
       "'a'"
      ]
     },
     "execution_count": 17,
     "metadata": {},
     "output_type": "execute_result"
    }
   ],
   "source": [
    "l[0]"
   ]
  },
  {
   "cell_type": "code",
   "execution_count": 18,
   "id": "7a0ef720",
   "metadata": {},
   "outputs": [
    {
     "data": {
      "text/plain": [
       "'d'"
      ]
     },
     "execution_count": 18,
     "metadata": {},
     "output_type": "execute_result"
    }
   ],
   "source": [
    "l[-1]"
   ]
  },
  {
   "cell_type": "code",
   "execution_count": 19,
   "id": "ccfc114f",
   "metadata": {},
   "outputs": [
    {
     "data": {
      "text/plain": [
       "['b', 'c']"
      ]
     },
     "execution_count": 19,
     "metadata": {},
     "output_type": "execute_result"
    }
   ],
   "source": [
    "l[1:3]"
   ]
  },
  {
   "cell_type": "code",
   "execution_count": 21,
   "id": "fe26dc89",
   "metadata": {},
   "outputs": [],
   "source": [
    "ld = [1, 2, 3, ['a', 'b', 'c']]"
   ]
  },
  {
   "cell_type": "code",
   "execution_count": 23,
   "id": "d2bfbf05",
   "metadata": {},
   "outputs": [
    {
     "data": {
      "text/plain": [
       "['a', 'b', 'c']"
      ]
     },
     "execution_count": 23,
     "metadata": {},
     "output_type": "execute_result"
    }
   ],
   "source": [
    "ld[3]"
   ]
  },
  {
   "cell_type": "code",
   "execution_count": 24,
   "id": "ce75a706",
   "metadata": {},
   "outputs": [
    {
     "data": {
      "text/plain": [
       "'b'"
      ]
     },
     "execution_count": 24,
     "metadata": {},
     "output_type": "execute_result"
    }
   ],
   "source": [
    "ld[3][1]"
   ]
  },
  {
   "cell_type": "code",
   "execution_count": 25,
   "id": "d4763087",
   "metadata": {},
   "outputs": [],
   "source": [
    "# Dictionary\n",
    "\n",
    "dictionary = {\"key1\": \"value1\", \"key2\": \"value2\", \"key3\": \"value3\"}"
   ]
  },
  {
   "cell_type": "code",
   "execution_count": 27,
   "id": "a4e5a0ee",
   "metadata": {},
   "outputs": [
    {
     "data": {
      "text/plain": [
       "'value2'"
      ]
     },
     "execution_count": 27,
     "metadata": {},
     "output_type": "execute_result"
    }
   ],
   "source": [
    "dictionary[\"key2\"]"
   ]
  },
  {
   "cell_type": "markdown",
   "id": "46c2a53e",
   "metadata": {},
   "source": [
    "# Set"
   ]
  },
  {
   "cell_type": "code",
   "execution_count": 29,
   "id": "3e16b28c",
   "metadata": {},
   "outputs": [
    {
     "data": {
      "text/plain": [
       "{1, 2, 3, 4}"
      ]
     },
     "execution_count": 29,
     "metadata": {},
     "output_type": "execute_result"
    }
   ],
   "source": [
    "s = {1,2,3,4}\n",
    "s"
   ]
  },
  {
   "cell_type": "code",
   "execution_count": 30,
   "id": "c3babd17",
   "metadata": {},
   "outputs": [
    {
     "data": {
      "text/plain": [
       "{1, 2, 3, 4}"
      ]
     },
     "execution_count": 30,
     "metadata": {},
     "output_type": "execute_result"
    }
   ],
   "source": [
    "s2 = {1,2,3,4,1,2,3,4}\n",
    "s2"
   ]
  },
  {
   "cell_type": "code",
   "execution_count": 32,
   "id": "e3899054",
   "metadata": {},
   "outputs": [
    {
     "data": {
      "text/plain": [
       "{1, 2, 3, 4, 5, 6}"
      ]
     },
     "execution_count": 32,
     "metadata": {},
     "output_type": "execute_result"
    }
   ],
   "source": [
    "l = [1,2,3,4,5,6,1,2,3,4,5,6]\n",
    "conjunt = set(l)\n",
    "conjunt"
   ]
  },
  {
   "cell_type": "markdown",
   "id": "1a346671",
   "metadata": {},
   "source": [
    "# If-Else"
   ]
  },
  {
   "cell_type": "code",
   "execution_count": null,
   "id": "68b25cb6",
   "metadata": {},
   "outputs": [],
   "source": []
  }
 ],
 "metadata": {
  "kernelspec": {
   "display_name": "Python 3 (ipykernel)",
   "language": "python",
   "name": "python3"
  },
  "language_info": {
   "codemirror_mode": {
    "name": "ipython",
    "version": 3
   },
   "file_extension": ".py",
   "mimetype": "text/x-python",
   "name": "python",
   "nbconvert_exporter": "python",
   "pygments_lexer": "ipython3",
   "version": "3.11.4"
  }
 },
 "nbformat": 4,
 "nbformat_minor": 5
}
