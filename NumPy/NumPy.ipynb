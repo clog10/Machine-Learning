{
 "cells": [
  {
   "cell_type": "markdown",
   "id": "328b7e10",
   "metadata": {},
   "source": [
    "# Numpy Arrays"
   ]
  },
  {
   "cell_type": "code",
   "execution_count": 2,
   "id": "a165702f",
   "metadata": {},
   "outputs": [],
   "source": [
    "import numpy as np"
   ]
  },
  {
   "cell_type": "code",
   "execution_count": 5,
   "id": "3c336a88",
   "metadata": {},
   "outputs": [
    {
     "data": {
      "text/plain": [
       "array([1, 2, 3, 4])"
      ]
     },
     "execution_count": 5,
     "metadata": {},
     "output_type": "execute_result"
    }
   ],
   "source": [
    "l = [1, 2, 3, 4]\n",
    "array = np.array(l)\n",
    "array"
   ]
  },
  {
   "cell_type": "code",
   "execution_count": 6,
   "id": "b1c01f9e",
   "metadata": {},
   "outputs": [
    {
     "data": {
      "text/plain": [
       "array([[1, 2, 3],\n",
       "       [4, 5, 6],\n",
       "       [7, 8, 9]])"
      ]
     },
     "execution_count": 6,
     "metadata": {},
     "output_type": "execute_result"
    }
   ],
   "source": [
    "l2 = [[1, 2, 3], [4, 5, 6], [7, 8, 9]]\n",
    "array2 = np.array(l2)\n",
    "array2"
   ]
  },
  {
   "cell_type": "markdown",
   "id": "67c73285",
   "metadata": {},
   "source": [
    "## arange, zeros, ones, linspace, eye"
   ]
  },
  {
   "cell_type": "code",
   "execution_count": 7,
   "id": "d6f4f899",
   "metadata": {},
   "outputs": [
    {
     "data": {
      "text/plain": [
       "array([0, 1, 2, 3, 4])"
      ]
     },
     "execution_count": 7,
     "metadata": {},
     "output_type": "execute_result"
    }
   ],
   "source": [
    "array = np.arange(5)\n",
    "array"
   ]
  },
  {
   "cell_type": "code",
   "execution_count": 8,
   "id": "5f82ccb0",
   "metadata": {},
   "outputs": [
    {
     "data": {
      "text/plain": [
       "array([2, 3, 4, 5, 6, 7, 8, 9])"
      ]
     },
     "execution_count": 8,
     "metadata": {},
     "output_type": "execute_result"
    }
   ],
   "source": [
    "np.arange(2, 10)"
   ]
  },
  {
   "cell_type": "code",
   "execution_count": 9,
   "id": "e08aef4e",
   "metadata": {},
   "outputs": [
    {
     "data": {
      "text/plain": [
       "array([2, 4, 6, 8])"
      ]
     },
     "execution_count": 9,
     "metadata": {},
     "output_type": "execute_result"
    }
   ],
   "source": [
    "np.arange(2, 10, 2)"
   ]
  },
  {
   "cell_type": "code",
   "execution_count": 10,
   "id": "7e3b18ef",
   "metadata": {},
   "outputs": [
    {
     "data": {
      "text/plain": [
       "array([0., 0., 0.])"
      ]
     },
     "execution_count": 10,
     "metadata": {},
     "output_type": "execute_result"
    }
   ],
   "source": [
    "np.zeros(3)"
   ]
  },
  {
   "cell_type": "code",
   "execution_count": 12,
   "id": "28565eaa",
   "metadata": {},
   "outputs": [
    {
     "data": {
      "text/plain": [
       "array([[0., 0., 0., 0., 0., 0.],\n",
       "       [0., 0., 0., 0., 0., 0.],\n",
       "       [0., 0., 0., 0., 0., 0.]])"
      ]
     },
     "execution_count": 12,
     "metadata": {},
     "output_type": "execute_result"
    }
   ],
   "source": [
    "np.zeros((3, 6))"
   ]
  },
  {
   "cell_type": "code",
   "execution_count": 13,
   "id": "cb54f66e",
   "metadata": {},
   "outputs": [
    {
     "data": {
      "text/plain": [
       "array([1., 1., 1., 1., 1.])"
      ]
     },
     "execution_count": 13,
     "metadata": {},
     "output_type": "execute_result"
    }
   ],
   "source": [
    "np.ones(5)"
   ]
  },
  {
   "cell_type": "code",
   "execution_count": 14,
   "id": "33cdad67",
   "metadata": {},
   "outputs": [
    {
     "data": {
      "text/plain": [
       "array([[1., 1., 1., 1., 1., 1.],\n",
       "       [1., 1., 1., 1., 1., 1.],\n",
       "       [1., 1., 1., 1., 1., 1.]])"
      ]
     },
     "execution_count": 14,
     "metadata": {},
     "output_type": "execute_result"
    }
   ],
   "source": [
    "np.ones((3, 6))"
   ]
  },
  {
   "cell_type": "code",
   "execution_count": 17,
   "id": "9136a085",
   "metadata": {},
   "outputs": [
    {
     "data": {
      "text/plain": [
       "array([5.        , 5.10344828, 5.20689655, 5.31034483, 5.4137931 ,\n",
       "       5.51724138, 5.62068966, 5.72413793, 5.82758621, 5.93103448,\n",
       "       6.03448276, 6.13793103, 6.24137931, 6.34482759, 6.44827586,\n",
       "       6.55172414, 6.65517241, 6.75862069, 6.86206897, 6.96551724,\n",
       "       7.06896552, 7.17241379, 7.27586207, 7.37931034, 7.48275862,\n",
       "       7.5862069 , 7.68965517, 7.79310345, 7.89655172, 8.        ])"
      ]
     },
     "execution_count": 17,
     "metadata": {},
     "output_type": "execute_result"
    }
   ],
   "source": [
    "np.linspace(5, 8, 30)"
   ]
  },
  {
   "cell_type": "code",
   "execution_count": 19,
   "id": "1bda1497",
   "metadata": {},
   "outputs": [
    {
     "data": {
      "text/plain": [
       "array([[1., 0., 0., 0., 0., 0., 0., 0., 0., 0.],\n",
       "       [0., 1., 0., 0., 0., 0., 0., 0., 0., 0.],\n",
       "       [0., 0., 1., 0., 0., 0., 0., 0., 0., 0.],\n",
       "       [0., 0., 0., 1., 0., 0., 0., 0., 0., 0.],\n",
       "       [0., 0., 0., 0., 1., 0., 0., 0., 0., 0.],\n",
       "       [0., 0., 0., 0., 0., 1., 0., 0., 0., 0.],\n",
       "       [0., 0., 0., 0., 0., 0., 1., 0., 0., 0.],\n",
       "       [0., 0., 0., 0., 0., 0., 0., 1., 0., 0.],\n",
       "       [0., 0., 0., 0., 0., 0., 0., 0., 1., 0.],\n",
       "       [0., 0., 0., 0., 0., 0., 0., 0., 0., 1.]])"
      ]
     },
     "execution_count": 19,
     "metadata": {},
     "output_type": "execute_result"
    }
   ],
   "source": [
    "np.eye(10)"
   ]
  },
  {
   "cell_type": "markdown",
   "id": "3e5554e7",
   "metadata": {},
   "source": [
    "## random numbers - rand & randn & randint"
   ]
  },
  {
   "cell_type": "code",
   "execution_count": 20,
   "id": "760dbff7",
   "metadata": {},
   "outputs": [
    {
     "data": {
      "text/plain": [
       "array([0.78704351, 0.60765879, 0.56127956, 0.22802333, 0.27758548])"
      ]
     },
     "execution_count": 20,
     "metadata": {},
     "output_type": "execute_result"
    }
   ],
   "source": [
    "np.random.rand(5)"
   ]
  },
  {
   "cell_type": "code",
   "execution_count": 21,
   "id": "8a93ad06",
   "metadata": {},
   "outputs": [
    {
     "data": {
      "text/plain": [
       "array([[0.47754208, 0.86886179, 0.36099709, 0.36234092],\n",
       "       [0.77975947, 0.33479053, 0.25854315, 0.9684027 ],\n",
       "       [0.71733696, 0.63194979, 0.81952054, 0.72818762]])"
      ]
     },
     "execution_count": 21,
     "metadata": {},
     "output_type": "execute_result"
    }
   ],
   "source": [
    "np.random.rand(3, 4)"
   ]
  },
  {
   "cell_type": "code",
   "execution_count": 22,
   "id": "039725f3",
   "metadata": {},
   "outputs": [
    {
     "data": {
      "text/plain": [
       "array([ 0.82560402, -0.30633169, -1.35151091,  1.04829776])"
      ]
     },
     "execution_count": 22,
     "metadata": {},
     "output_type": "execute_result"
    }
   ],
   "source": [
    "np.random.randn(4)"
   ]
  },
  {
   "cell_type": "code",
   "execution_count": 24,
   "id": "bb882238",
   "metadata": {},
   "outputs": [
    {
     "data": {
      "text/plain": [
       "array([[-1.39219078,  2.6571729 ,  0.08218439, -0.73578882,  1.20928377],\n",
       "       [ 0.18397387,  1.70715984,  1.32657046,  1.85544105, -0.87820729],\n",
       "       [ 1.89979313,  0.46632191,  0.02730942,  0.89809239, -0.57435782]])"
      ]
     },
     "execution_count": 24,
     "metadata": {},
     "output_type": "execute_result"
    }
   ],
   "source": [
    "np.random.randn(3, 5)"
   ]
  },
  {
   "cell_type": "code",
   "execution_count": 33,
   "id": "15a1442d",
   "metadata": {},
   "outputs": [
    {
     "data": {
      "text/plain": [
       "14"
      ]
     },
     "execution_count": 33,
     "metadata": {},
     "output_type": "execute_result"
    }
   ],
   "source": [
    "np.random.randint(5, 20)"
   ]
  },
  {
   "cell_type": "code",
   "execution_count": 34,
   "id": "7583f236",
   "metadata": {},
   "outputs": [
    {
     "data": {
      "text/plain": [
       "array([ 4,  7, 17, 12,  5, 11,  8, 14, 19,  2])"
      ]
     },
     "execution_count": 34,
     "metadata": {},
     "output_type": "execute_result"
    }
   ],
   "source": [
    "np.random.randint(1, 20, 10)"
   ]
  },
  {
   "cell_type": "markdown",
   "id": "11eff50b",
   "metadata": {},
   "source": [
    "## reshape"
   ]
  },
  {
   "cell_type": "code",
   "execution_count": 36,
   "id": "af827e2e",
   "metadata": {},
   "outputs": [
    {
     "data": {
      "text/plain": [
       "array([ 9, 21, 39, 51, 62, 36, 93, 54, 95, 45, 61, 15, 82, 39, 24, 40, 94,\n",
       "       94, 42, 66, 51, 68, 97, 28, 48])"
      ]
     },
     "execution_count": 36,
     "metadata": {},
     "output_type": "execute_result"
    }
   ],
   "source": [
    "arr = np.random.randint(1, 100, 25)\n",
    "arr"
   ]
  },
  {
   "cell_type": "code",
   "execution_count": 38,
   "id": "43abb08b",
   "metadata": {},
   "outputs": [
    {
     "data": {
      "text/plain": [
       "array([[ 9, 21, 39, 51, 62],\n",
       "       [36, 93, 54, 95, 45],\n",
       "       [61, 15, 82, 39, 24],\n",
       "       [40, 94, 94, 42, 66],\n",
       "       [51, 68, 97, 28, 48]])"
      ]
     },
     "execution_count": 38,
     "metadata": {},
     "output_type": "execute_result"
    }
   ],
   "source": [
    "matrix = arr.reshape(5, 5)\n",
    "matrix"
   ]
  },
  {
   "cell_type": "markdown",
   "id": "eb7f9e6e",
   "metadata": {},
   "source": [
    "## max & min"
   ]
  },
  {
   "cell_type": "code",
   "execution_count": 43,
   "id": "54288a3e",
   "metadata": {},
   "outputs": [
    {
     "data": {
      "text/plain": [
       "array([ 3,  3, 33, 27, 73, 15, 98, 80, 96, 65, 77, 95, 44, 44, 66, 36, 74,\n",
       "       11, 75, 20, 95, 17, 72, 11, 85, 27, 56, 15, 67,  3, 80, 27, 51, 23,\n",
       "       42, 93, 32, 70, 67, 55, 11, 60, 97, 38,  3, 53, 25, 13, 86, 54])"
      ]
     },
     "execution_count": 43,
     "metadata": {},
     "output_type": "execute_result"
    }
   ],
   "source": [
    "ar = np.random.randint(1, 100, 50)\n",
    "ar"
   ]
  },
  {
   "cell_type": "code",
   "execution_count": 49,
   "id": "2c6bea7d",
   "metadata": {},
   "outputs": [
    {
     "data": {
      "text/plain": [
       "98"
      ]
     },
     "execution_count": 49,
     "metadata": {},
     "output_type": "execute_result"
    }
   ],
   "source": [
    "max_value = ar.max()\n",
    "position_max = ar.argmax()\n",
    "max_value"
   ]
  },
  {
   "cell_type": "code",
   "execution_count": 50,
   "id": "5f976e82",
   "metadata": {},
   "outputs": [
    {
     "data": {
      "text/plain": [
       "6"
      ]
     },
     "execution_count": 50,
     "metadata": {},
     "output_type": "execute_result"
    }
   ],
   "source": [
    "position_max"
   ]
  },
  {
   "cell_type": "code",
   "execution_count": 51,
   "id": "5dbc7711",
   "metadata": {},
   "outputs": [
    {
     "data": {
      "text/plain": [
       "3"
      ]
     },
     "execution_count": 51,
     "metadata": {},
     "output_type": "execute_result"
    }
   ],
   "source": [
    "min_value = ar.min()\n",
    "position_min = ar.argmin()\n",
    "min_value"
   ]
  },
  {
   "cell_type": "code",
   "execution_count": 52,
   "id": "d7c6501f",
   "metadata": {},
   "outputs": [
    {
     "data": {
      "text/plain": [
       "0"
      ]
     },
     "execution_count": 52,
     "metadata": {},
     "output_type": "execute_result"
    }
   ],
   "source": [
    "position_min"
   ]
  },
  {
   "cell_type": "code",
   "execution_count": null,
   "id": "96fe2441",
   "metadata": {},
   "outputs": [],
   "source": []
  }
 ],
 "metadata": {
  "kernelspec": {
   "display_name": "Python 3 (ipykernel)",
   "language": "python",
   "name": "python3"
  },
  "language_info": {
   "codemirror_mode": {
    "name": "ipython",
    "version": 3
   },
   "file_extension": ".py",
   "mimetype": "text/x-python",
   "name": "python",
   "nbconvert_exporter": "python",
   "pygments_lexer": "ipython3",
   "version": "3.11.4"
  }
 },
 "nbformat": 4,
 "nbformat_minor": 5
}
